{
  "cells": [
    {
      "cell_type": "code",
      "execution_count": 194,
      "metadata": {
        "id": "GTnta3Gq--C_"
      },
      "outputs": [],
      "source": [
        "import nltk\n",
        "import matplotlib.pyplot as plt\n",
        "from nltk import pos_tag\n",
        "from sklearn.naive_bayes import GaussianNB\n",
        "from gensim.models import Word2Vec\n",
        "import nltk\n",
        "from nltk.corpus import stopwords\n",
        "from nltk.stem import PorterStemmer, WordNetLemmatizer\n",
        "from nltk.tokenize import word_tokenize, sent_tokenize"
      ]
    },
    {
      "cell_type": "code",
      "execution_count": 195,
      "metadata": {
        "id": "7-2R3hpvfHWT"
      },
      "outputs": [],
      "source": [
        "from sklearn.naive_bayes import GaussianNB\n",
        "import string\n",
        "import re"
      ]
    },
    {
      "cell_type": "code",
      "execution_count": 196,
      "metadata": {
        "id": "r2mMnscZ_C7I"
      },
      "outputs": [],
      "source": [
        "import pandas as pd\n",
        "import seaborn as sns\n",
        "import numpy as np\n",
        "import re\n",
        "import gensim"
      ]
    },
    {
      "cell_type": "code",
      "execution_count": 197,
      "metadata": {
        "id": "Y6_VDikv5IB1"
      },
      "outputs": [],
      "source": [
        "from sklearn import metrics"
      ]
    },
    {
      "cell_type": "code",
      "execution_count": 198,
      "metadata": {
        "colab": {
          "base_uri": "https://localhost:8080/"
        },
        "id": "9e-gr_ijLJGw",
        "outputId": "1ff84c89-f89a-42e7-d7e1-2f4c1dfbac65"
      },
      "outputs": [
        {
          "output_type": "stream",
          "name": "stderr",
          "text": [
            "[nltk_data] Downloading package punkt to /root/nltk_data...\n",
            "[nltk_data]   Package punkt is already up-to-date!\n",
            "[nltk_data] Downloading package stopwords to /root/nltk_data...\n",
            "[nltk_data]   Package stopwords is already up-to-date!\n",
            "[nltk_data] Downloading package wordnet to /root/nltk_data...\n",
            "[nltk_data]   Package wordnet is already up-to-date!\n"
          ]
        },
        {
          "output_type": "execute_result",
          "data": {
            "text/plain": [
              "True"
            ]
          },
          "metadata": {},
          "execution_count": 198
        }
      ],
      "source": [
        "nltk.download('punkt')\n",
        "nltk.download('stopwords')\n",
        "nltk.download('wordnet')"
      ]
    },
    {
      "cell_type": "code",
      "execution_count": 199,
      "metadata": {
        "id": "oRsGsO7-CaYp"
      },
      "outputs": [],
      "source": [
        "train_df=pd.read_csv(\"train.csv\")#.apply(lambda x: x.astype(str).str.lower())\n",
        "test_df=pd.read_csv(\"test.csv\")#.apply(lambda x: x.astype(str).str.lower())\n",
        "val_df=pd.read_csv(\"valid.csv\")#.apply(lambda x: x.astype(str).str.lower())\n"
      ]
    },
    {
      "cell_type": "code",
      "source": [],
      "metadata": {
        "id": "8S87vdbeHWSL"
      },
      "execution_count": 200,
      "outputs": []
    },
    {
      "cell_type": "code",
      "execution_count": 200,
      "metadata": {
        "id": "NLmcm5fxEZ6M"
      },
      "outputs": [],
      "source": [
        "y_val = val_df['Label'].astype(int)\n",
        "y_train = train_df['Label'].astype(int)\n",
        "X_train = train_df['text'].astype(str).apply(lambda x: x.lower()).apply(word_tokenize)\n",
        "X_val = val_df['text'].astype(str).apply(lambda x: x.lower()).apply(word_tokenize)\n"
      ]
    },
    {
      "cell_type": "code",
      "execution_count": 201,
      "metadata": {
        "id": "--D76795FXCb"
      },
      "outputs": [],
      "source": [
        "# val_df.dtypes"
      ]
    },
    {
      "cell_type": "code",
      "execution_count": 202,
      "metadata": {
        "id": "M73Z38oYFWz4"
      },
      "outputs": [],
      "source": [
        "# train_df.dtypes"
      ]
    },
    {
      "cell_type": "code",
      "execution_count": 203,
      "metadata": {
        "id": "M5Gvj-i84690"
      },
      "outputs": [],
      "source": [
        "\n",
        "\n",
        "def preprocess_text(text):\n",
        "    # Step 1: Convert to lowercase\n",
        "    text = text.lower()\n",
        "    text = re.sub(r'[^\\w\\s]',' ',text)\n",
        "\n",
        "    # Step 2: Tokenize into words\n",
        "    words = word_tokenize(text)\n",
        "\n",
        "    # Step 3: Remove stop words\n",
        "    stop_words = set(stopwords.words(\"english\"))\n",
        "    words = [word for word in words if word not in stop_words]\n",
        "\n",
        "    # # Step 4: Stemming and Lemmatization\n",
        "    # stemmer = PorterStemmer()\n",
        "    lemmatizer = WordNetLemmatizer()\n",
        "    # stemmed_words = []\n",
        "    # for word in words:\n",
        "    #     stemmed_words.append(stemmer.stem(word))\n",
        "    lemmatized_words = []\n",
        "    for word in words:\n",
        "        lemmatized_words.append(lemmatizer.lemmatize(word))\n",
        "\n",
        "    # Step 5: Join the words back into a string\n",
        "    \n",
        "    preprocessed_text = \" \".join(lemmatized_words)\n",
        "\n",
        "    return preprocessed_text"
      ]
    },
    {
      "cell_type": "code",
      "execution_count": 204,
      "metadata": {
        "id": "biOwW7p-8QB2"
      },
      "outputs": [],
      "source": [
        "\n",
        "def create_sentence_embeddings(texts, model):\n",
        "    sentence_embeddings = []\n",
        "\n",
        "    for text in texts:\n",
        "        words = text.split()\n",
        "        sentence_embedding = np.mean([model[word] for word in words if word in model], axis=0)\n",
        "        sentence_embeddings.append(sentence_embedding)\n",
        "\n",
        "    return (sentence_embeddings)"
      ]
    },
    {
      "cell_type": "code",
      "execution_count": null,
      "metadata": {
        "id": "KpZkyKOB52Zh"
      },
      "outputs": [],
      "source": [
        "train_df['preprocess_txt']=train_df['text'].astype(str).apply(preprocess_text)\n",
        "val_df['preprocess_txt']=val_df['text'].astype(str).apply(preprocess_text)\n"
      ]
    },
    {
      "cell_type": "code",
      "execution_count": null,
      "metadata": {
        "id": "NQyR3XXR0amC"
      },
      "outputs": [],
      "source": [
        "vocab=set()\n",
        "for row in X_train:\n",
        "  vocab.update(set(row))\n",
        "  "
      ]
    },
    {
      "cell_type": "code",
      "execution_count": 207,
      "metadata": {
        "id": "54wnf2aI1c28"
      },
      "outputs": [],
      "source": [
        "vocab=list(vocab)\n",
        "vocabulary_size=len(vocab)"
      ]
    },
    {
      "cell_type": "code",
      "execution_count": 208,
      "metadata": {
        "id": "KiPPsqKn5zZr"
      },
      "outputs": [],
      "source": [
        "process_sent=list(train_df['preprocess_txt'].apply(word_tokenize).values)"
      ]
    },
    {
      "cell_type": "code",
      "execution_count": 209,
      "metadata": {
        "id": "FL54VYRy8oo6"
      },
      "outputs": [],
      "source": [
        "model = Word2Vec(process_sent,vector_size=200, min_count=1)"
      ]
    },
    {
      "cell_type": "code",
      "execution_count": 210,
      "metadata": {
        "colab": {
          "base_uri": "https://localhost:8080/"
        },
        "id": "js1oeCcz6btt",
        "outputId": "489e5011-d3db-4971-d915-71fbf9004f89"
      },
      "outputs": [
        {
          "output_type": "execute_result",
          "data": {
            "text/plain": [
              "array([0.02389912547207334, -0.025727720219745405, 0.04485218203626573,\n",
              "       0.14613157014052072, 0.4182516611051849, -0.18341868677331755,\n",
              "       -0.017040541431419517, 0.5375706525002089, -0.14890873696034154,\n",
              "       0.1787499616879763, -0.1561587379934887, -0.286541737564322,\n",
              "       0.06175106061628968, 0.19227625362368095, -0.09323196775383419,\n",
              "       -0.291254095474465, -0.15679030417878595, -0.02493758683299853,\n",
              "       0.15625978422920322, -0.566017950574557, 0.18388474779203534,\n",
              "       -0.30594442650261855, 0.05232887052827411, 0.02104277105536312,\n",
              "       -0.01607774565410283, -0.2286634802714818, 0.0633424204101579,\n",
              "       -0.15955318846843308, -0.38075887805057895, 0.1876797478633105,\n",
              "       0.35187608065704506, 0.10191094094059533, 0.09605315684651335,\n",
              "       -0.04476173030303067, -0.012886071163747046, 0.13337095562989512,\n",
              "       0.13749694151596892, -0.12118286727410224, -0.05494392401952711,\n",
              "       -0.5006428089303275, -0.22953539525365663, -0.07650582656626487,\n",
              "       -0.01930748608426964, 0.13043508746583635, 0.5034546631698807,\n",
              "       -0.02014361273419733, -0.09319847563488616, -0.1986143336010476,\n",
              "       0.17097340901899669, 0.17494370860772002, 0.20841735989476243,\n",
              "       -0.00790799349003161, -0.23587272998621403, -0.1863592076762062,\n",
              "       0.040886572659170874, -0.08555828570388258, 0.04952985876136356,\n",
              "       -0.30533405661117285, -0.21552969944766825, -0.050826293209360704,\n",
              "       -0.1698643687284655, 0.16232716597409713, -0.11557973000324434,\n",
              "       -0.019186713613129944, -0.32658493301520747, 0.06218014610931277,\n",
              "       -0.04000677390851908, 0.4853755362047296, -0.37848892738111317,\n",
              "       0.36927752879758674, 0.053685052540256746, -0.04962891016879843,\n",
              "       0.33891957509331405, 0.012827793731250696, 0.025777065609064367,\n",
              "       -0.11014717812132505, 0.2586591930917671, -0.3132854538659255,\n",
              "       -0.5706354979322188, -0.08872034211203249, -0.07403931333465152,\n",
              "       -0.24491835163078374, -0.24705808889120817, 0.44385909257754164,\n",
              "       -0.15912053922915625, -0.1203541323904776, -0.04378867525762568,\n",
              "       0.4175448168179072, -0.06100303076285248, -0.10767070367000997,\n",
              "       0.12245843994120757, 0.2933308064109749, 0.17843006478829515,\n",
              "       0.33644612825527376, 0.36990019037491745, 0.23377581090769833,\n",
              "       0.1902363843077587, -0.27387613161570495, 0.17255789786577225,\n",
              "       0.2083850196407487, -0.31101254014518215, 0.46273172424278325,\n",
              "       0.1501005350922545, -0.12380914395261142, -0.20255365775988643,\n",
              "       -0.3698910961134566, 0.2149023332943519, 0.24151427054958832,\n",
              "       -0.042541189403790564, -0.3685951664422949, -0.10135691380128264,\n",
              "       -0.35237646652644294, -0.08083125857228879, -0.04934983501314289,\n",
              "       0.2708724684909814, -0.2436098100927969, 0.03376204080025976,\n",
              "       -0.5877848348787261, 0.0290294974628422, -0.1774164145398471,\n",
              "       -0.037837535880195595, 0.4265885415176551, 0.22666245880019334,\n",
              "       -0.16134164151864955, -0.10933856528976725, 0.19551795966819757,\n",
              "       -0.1511647458602157, -0.024221289584198127, -0.06007533493943305,\n",
              "       -0.13692634526847136, 0.11999014100163347, 0.051182316021165915,\n",
              "       -0.09626360721368757, 0.02583890266962246, -0.07905920380209056,\n",
              "       0.12018331217889984, -0.16842825302026337, -0.3915066595396234,\n",
              "       -0.19891723819697896, -0.4305860005422599, 0.28308710714595187,\n",
              "       -0.3644550123458935, -0.1853260079321141, -0.22457819461285705,\n",
              "       -0.19167834191790056, -0.06839931282835703, -0.3390411515202787,\n",
              "       0.12969180387962195, 0.03314593611543791, 0.03390411887731817,\n",
              "       -0.09282427158258441, -0.2998067573644221, 0.0018180374738423983,\n",
              "       0.2834876706927187, -0.4865855128607816, 0.3108659463468939,\n",
              "       0.2563119608934762, 0.24056016602036026, -0.14355391714101037,\n",
              "       0.07507666345271799, 0.22278734030098551, 0.1778549568197276,\n",
              "       -0.2733495306327111, -0.0534526881787719, -0.02779980488574236,\n",
              "       0.042194531415589154, 0.09626397242148717, -0.24514767791454992,\n",
              "       -0.11174157282544507, 0.11775804868537104, -0.30946489837434554,\n",
              "       0.2394750538902978, 0.10983521808844267, -0.3214948425690333,\n",
              "       0.2063260808483594, 0.13898903739431667, -0.36066509529741275,\n",
              "       0.07586352524554564, 0.06816088056398763, 0.11567840029278563,\n",
              "       0.10079227980329758, 0.022203649329538975, -0.07044158516348237,\n",
              "       0.14895757308436763, 0.16245387093577948, 0.1013385114622199,\n",
              "       -0.12724331248965529, 0.12090495883280204, 0.4967264873493049,\n",
              "       0.15092772734351456, 0.3542918512798173, -0.22195564078477523,\n",
              "       -0.21362191583547327, -0.19502794411447313, 0.26732060090742177,\n",
              "       0.11200701253902581, 0.10364304416968177, -0.3501475507962621,\n",
              "       -0.06576704418855822, -0.20284741640918785], dtype=object)"
            ]
          },
          "metadata": {},
          "execution_count": 210
        }
      ],
      "source": [
        "words=process_sent[0]\n",
        "\n",
        "sentence_embedding = np.mean(np.array([model.wv[word] for word in words if word in vocab],dtype=object), axis=0)\n",
        "sentence_embedding"
      ]
    },
    {
      "cell_type": "code",
      "execution_count": 211,
      "metadata": {
        "id": "4-wdTPFO-EIq"
      },
      "outputs": [],
      "source": [
        "def create_sentence_embeddings(texts, model,vocab):\n",
        "    sentence_embeddings = []\n",
        "\n",
        "    for text in texts:\n",
        "        words =np.array(text.split())\n",
        "        sentence_embedding = np.mean(np.array([model.wv[word] for word in words if word in vocab],dtype=object), axis=0)\n",
        "        sentence_embeddings.append(sentence_embedding)\n",
        "\n",
        "    return np.array(sentence_embeddings)"
      ]
    },
    {
      "cell_type": "code",
      "execution_count": 212,
      "metadata": {
        "id": "nLAm9WIy-D8v"
      },
      "outputs": [],
      "source": [
        "X_train_embeddings = create_sentence_embeddings(train_df['preprocess_txt'].astype(str).values, model,vocab)\n",
        "X_val_embeddings= create_sentence_embeddings(val_df['preprocess_txt'].astype(str).values, model,vocab)"
      ]
    },
    {
      "cell_type": "code",
      "execution_count": null,
      "metadata": {
        "colab": {
          "base_uri": "https://localhost:8080/"
        },
        "id": "r-Kw89s73x5o",
        "outputId": "608cf578-8968-438d-fa79-259f530cc851"
      },
      "outputs": [
        {
          "data": {
            "text/plain": [
              "array(['say annies list political group support third trimester abortion demand',\n",
              "       'decline coal start started natural gas took started begin president george w bush administration'],\n",
              "      dtype=object)"
            ]
          },
          "execution_count": 24,
          "metadata": {},
          "output_type": "execute_result"
        }
      ],
      "source": [
        "train_df['preprocess_txt'].astype(str).values[0:2]"
      ]
    },
    {
      "cell_type": "code",
      "execution_count": null,
      "metadata": {
        "colab": {
          "base_uri": "https://localhost:8080/"
        },
        "id": "4g_PKwIBDiBA",
        "outputId": "6effa35b-9e1e-4516-85c4-3da4ef1c096d"
      },
      "outputs": [
        {
          "data": {
            "text/plain": [
              "(10269, 200)"
            ]
          },
          "execution_count": 25,
          "metadata": {},
          "output_type": "execute_result"
        }
      ],
      "source": [
        "X_train_embeddings.shape"
      ]
    },
    {
      "cell_type": "code",
      "execution_count": 213,
      "metadata": {
        "id": "k7DVM7m00Pkt"
      },
      "outputs": [],
      "source": [
        "clf = GaussianNB()\n",
        "clf.fit(X_train_embeddings, y_train)\n",
        "y_pred=clf.predict(X_val_embeddings)"
      ]
    },
    {
      "cell_type": "code",
      "execution_count": null,
      "metadata": {
        "colab": {
          "base_uri": "https://localhost:8080/"
        },
        "id": "dg0iWWJU_wHO",
        "outputId": "4b994a23-c05e-4401-b6b8-192a6676d108"
      },
      "outputs": [
        {
          "data": {
            "text/plain": [
              "((1284,), numpy.int64)"
            ]
          },
          "execution_count": 27,
          "metadata": {},
          "output_type": "execute_result"
        }
      ],
      "source": [
        "y_pred.shape,type(y_pred[0])"
      ]
    },
    {
      "cell_type": "code",
      "execution_count": 214,
      "metadata": {
        "id": "Ht2oOfTVRajK"
      },
      "outputs": [],
      "source": [
        "def classifiction_resualts(X_train, y_train,X_val,y_val):\n",
        "  clf = GaussianNB()\n",
        "  clf.fit(X_train, y_train)\n",
        "  y_pred=clf.predict(X_val).astype(int)\n",
        "  \n",
        "  accuracy = metrics.accuracy_score(y_val, y_pred)\n",
        "  print('accuracy:',accuracy)\n",
        "  report = metrics.classification_report(y_val, y_pred)\n",
        "  print(report)\n",
        "  \n",
        "  cm=metrics.confusion_matrix(y_val,y_pred)\n",
        "  sns.heatmap(cm)\n",
        "  plt.show()\n",
        "  return clf"
      ]
    },
    {
      "cell_type": "code",
      "execution_count": 215,
      "metadata": {
        "colab": {
          "base_uri": "https://localhost:8080/",
          "height": 676
        },
        "id": "R6sn90IizoT6",
        "outputId": "dc9ea77b-fee8-41fe-d80c-469d629155ea"
      },
      "outputs": [
        {
          "output_type": "stream",
          "name": "stdout",
          "text": [
            "accuracy: 0.19626168224299065\n",
            "              precision    recall  f1-score   support\n",
            "\n",
            "           0       0.27      0.05      0.08       263\n",
            "           1       0.16      0.12      0.14       169\n",
            "           2       0.21      0.03      0.06       237\n",
            "           3       0.17      0.05      0.08       248\n",
            "           4       0.22      0.56      0.32       251\n",
            "           5       0.16      0.48      0.24       116\n",
            "\n",
            "    accuracy                           0.20      1284\n",
            "   macro avg       0.20      0.22      0.15      1284\n",
            "weighted avg       0.20      0.20      0.15      1284\n",
            "\n"
          ]
        },
        {
          "output_type": "display_data",
          "data": {
            "text/plain": [
              "<Figure size 640x480 with 2 Axes>"
            ],
            "image/png": "[encoded data removed]"
          },
          "metadata": {}
        }
      ],
      "source": [
        "clf=classifiction_resualts(X_train_embeddings, y_train,X_val_embeddings,y_val)"
      ]
    },
    {
      "cell_type": "code",
      "execution_count": null,
      "metadata": {
        "id": "BoL1qQb4GOew"
      },
      "outputs": [],
      "source": [
        "# val_df['preprocess_txt']=val_df['text'].astype(str).apply(preprocess_text)\n",
        "# X_val_embeddings = create_sentence_embeddings(val_df['preprocess_txt'].values, model,vocab)"
      ]
    },
    {
      "cell_type": "markdown",
      "metadata": {
        "id": "BhkMgIrmLrJ3"
      },
      "source": [
        "# pos and NER "
      ]
    },
    {
      "cell_type": "code",
      "execution_count": null,
      "metadata": {
        "colab": {
          "base_uri": "https://localhost:8080/"
        },
        "id": "A6AAYUPwMC-o",
        "outputId": "341b5fc8-d909-4a0f-8d1c-2422f2be1525"
      },
      "outputs": [
        {
          "name": "stdout",
          "output_type": "stream",
          "text": [
            "Looking in indexes: https://pypi.org/simple, https://us-python.pkg.dev/colab-wheels/public/simple/\n",
            "Collecting sklearn_crfsuite\n",
            "  Downloading sklearn_crfsuite-0.3.6-py2.py3-none-any.whl (12 kB)\n",
            "Collecting python-crfsuite>=0.8.3 (from sklearn_crfsuite)\n",
            "  Downloading python_crfsuite-0.9.9-cp310-cp310-manylinux_2_17_x86_64.manylinux2014_x86_64.whl (993 kB)\n",
            "\u001b[2K     \u001b[90m━━━━━━━━━━━━━━━━━━━━━━━━━━━━━━━━━━━━━━\u001b[0m \u001b[32m993.5/993.5 kB\u001b[0m \u001b[31m16.7 MB/s\u001b[0m eta \u001b[36m0:00:00\u001b[0m\n",
            "\u001b[?25hRequirement already satisfied: six in /usr/local/lib/python3.10/dist-packages (from sklearn_crfsuite) (1.16.0)\n",
            "Requirement already satisfied: tabulate in /usr/local/lib/python3.10/dist-packages (from sklearn_crfsuite) (0.8.10)\n",
            "Requirement already satisfied: tqdm>=2.0 in /usr/local/lib/python3.10/dist-packages (from sklearn_crfsuite) (4.65.0)\n",
            "Installing collected packages: python-crfsuite, sklearn_crfsuite\n",
            "Successfully installed python-crfsuite-0.9.9 sklearn_crfsuite-0.3.6\n"
          ]
        }
      ],
      "source": [
        "!pip install sklearn_crfsuite"
      ]
    },
    {
      "cell_type": "code",
      "execution_count": null,
      "metadata": {
        "id": "ZlIrO_N6L9ob"
      },
      "outputs": [],
      "source": [
        "import joblib\n",
        "import sklearn_crfsuite"
      ]
    },
    {
      "cell_type": "code",
      "execution_count": null,
      "metadata": {
        "id": "tYaDTIzzNY_r"
      },
      "outputs": [],
      "source": [
        "def pos_word2features(sent, i):\n",
        "    word = sent[i][0]\n",
        "\n",
        "    features = {\n",
        "        'bias': 1.0,\n",
        "        'word': word,\n",
        "        'len(word)': len(word),\n",
        "        'word[:4]': word[:4],\n",
        "        'word[:3]': word[:3],\n",
        "        'word[:2]': word[:2],\n",
        "        'word[-3:]': word[-3:],\n",
        "        'word[-2:]': word[-2:],\n",
        "        'word[-4:]': word[-4:],\n",
        "        'word.lower()': word.lower(),\n",
        "        'word.stemmed': re.sub(r'(.{2,}?)([aeiougyn]+$)',r'\\1', word.lower()),\n",
        "        'word.ispunctuation': (word in string.punctuation),\n",
        "        'word.isdigit()': word.isdigit(),\n",
        "    }    \n",
        "    if i > 0:\n",
        "        word1 = sent[i-1][0]\n",
        "        features.update({\n",
        "            '-1:word': word1,\n",
        "            '-1:len(word)': len(word1),\n",
        "            '-1:word.lower()': word1.lower(),\n",
        "            '-1:word.stemmed': re.sub(r'(.{2,}?)([aeiougyn]+$)',r'\\1', word1.lower()),\n",
        "            '-1:word[:3]': word1[:3],\n",
        "            '-1:word[:2]': word1[:2],\n",
        "            '-1:word[-3:]': word1[-3:],\n",
        "            '-1:word[-2:]': word1[-2:],\n",
        "            '-1:word.isdigit()': word1.isdigit(),\n",
        "            '-1:word.ispunctuation': (word1 in string.punctuation),\n",
        "        })\n",
        "    else:\n",
        "        features['BOS'] = True\n",
        "\n",
        "    if i > 1:\n",
        "        word2 = sent[i-2][0]\n",
        "        features.update({\n",
        "            '-2:word': word2,\n",
        "            '-2:len(word)': len(word2),\n",
        "            '-2:word.lower()': word2.lower(),\n",
        "            '-2:word[:3]': word2[:3],\n",
        "            '-2:word[:2]': word2[:2],\n",
        "            '-2:word[-3:]': word2[-3:],\n",
        "            '-2:word[-2:]': word2[-2:],\n",
        "            '-2:word.isdigit()': word2.isdigit(),\n",
        "            '-2:word.ispunctuation': (word2 in string.punctuation),\n",
        "        })\n",
        "\n",
        "    if i < len(sent)-1:\n",
        "        word1 = sent[i+1][0]\n",
        "        features.update({\n",
        "            '+1:word': word1,\n",
        "            '+1:len(word)': len(word1),\n",
        "            '+1:word.lower()': word1.lower(),\n",
        "            '+1:word[:3]': word1[:3],\n",
        "            '+1:word[:2]': word1[:2],\n",
        "            '+1:word[-3:]': word1[-3:],\n",
        "            '+1:word[-2:]': word1[-2:],\n",
        "            '+1:word.isdigit()': word1.isdigit(),\n",
        "            '+1:word.ispunctuation': (word1 in string.punctuation),\n",
        "        })\n",
        "\n",
        "    else:\n",
        "        features['EOS'] = True    \n",
        "    if i < len(sent) - 2:\n",
        "        word2 = sent[i+2][0]\n",
        "        features.update({\n",
        "            '+2:word': word2,\n",
        "            '+2:len(word)': len(word2),\n",
        "            '+2:word.lower()': word2.lower(),\n",
        "            '+2:word.stemmed': re.sub(r'(.{2,}?)([aeiougyn]+$)',r'\\1', word2.lower()),\n",
        "            '+2:word[:3]': word2[:3],\n",
        "            '+2:word[:2]': word2[:2],\n",
        "            '+2:word[-3:]': word2[-3:],\n",
        "            '+2:word[-2:]': word2[-2:],\n",
        "            '+2:word.isdigit()': word2.isdigit(),\n",
        "            '+2:word.ispunctuation': (word2 in string.punctuation),\n",
        "        })\n",
        "\n",
        "    return features\n",
        "\n",
        "\n",
        "def pos_sent2features(sent):\n",
        "    return [pos_word2features(sent, i) for i in range(len(sent))]\n",
        "\n",
        "def pos_sent2labels(sent):\n",
        "    return [word[1] for word in sent]\n",
        "\n",
        "def pos_sent2tokens(sent):\n",
        "    return [word[0] for word in sent]"
      ]
    },
    {
      "cell_type": "code",
      "execution_count": null,
      "metadata": {
        "id": "qhX7eLxaLuu-"
      },
      "outputs": [],
      "source": [
        "\n",
        "def ner_word2features(sent, i, word2cluster):\n",
        "    word = sent[i][0]\n",
        "    postag = sent[i][1]\n",
        "    features = [\n",
        "        'bias',\n",
        "        'word.lower=' + word.lower(),\n",
        "        'word[-3:]=' + word[-3:],\n",
        "        'word[-2:]=' + word[-2:],\n",
        "        'word.isupper=%s' % word.isupper(),\n",
        "        'word.istitle=%s' % word.istitle(),\n",
        "        'word.isdigit=%s' % word.isdigit(),\n",
        "        'word.cluster=%s' % word2cluster[word.lower()] if word.lower() in word2cluster else \"0\",\n",
        "        'postag=' + postag\n",
        "    ]\n",
        "    if i > 0:\n",
        "        word1 = sent[i-1][0]\n",
        "        postag1 = sent[i-1][1]\n",
        "        features.extend([\n",
        "            '-1:word.lower=' + word1.lower(),\n",
        "            '-1:word.istitle=%s' % word1.istitle(),\n",
        "            '-1:word.isupper=%s' % word1.isupper(),\n",
        "            '-1:postag=' + postag1\n",
        "        ])\n",
        "    else:\n",
        "        features.append('BOS')\n",
        "\n",
        "    if i > 1: \n",
        "        word2 = sent[i-2][0]\n",
        "        postag2 = sent[i-2][1]\n",
        "        features.extend([\n",
        "            '-2:word.lower=' + word2.lower(),\n",
        "            '-2:word.istitle=%s' % word2.istitle(),\n",
        "            '-2:word.isupper=%s' % word2.isupper(),\n",
        "            '-2:postag=' + postag2\n",
        "        ])        \n",
        "\n",
        "        \n",
        "    if i < len(sent)-1:\n",
        "        word1 = sent[i+1][0]\n",
        "        postag1 = sent[i+1][1]\n",
        "        features.extend([\n",
        "            '+1:word.lower=' + word1.lower(),\n",
        "            '+1:word.istitle=%s' % word1.istitle(),\n",
        "            '+1:word.isupper=%s' % word1.isupper(),\n",
        "            '+1:postag=' + postag1\n",
        "        ])\n",
        "    else:\n",
        "        features.append('EOS')\n",
        "\n",
        "    if i < len(sent)-2:\n",
        "        word2 = sent[i+2][0]\n",
        "        postag2 = sent[i+2][1]\n",
        "        features.extend([\n",
        "            '+2:word.lower=' + word2.lower(),\n",
        "            '+2:word.istitle=%s' % word2.istitle(),\n",
        "            '+2:word.isupper=%s' % word2.isupper(),\n",
        "            '+2:postag=' + postag2\n",
        "        ])\n",
        "\n",
        "        \n",
        "    return features\n",
        "\n",
        "\n",
        "\n",
        "def ner_sent2features(sent, word2cluster):\n",
        "    return [ner_word2features(sent, i, word2cluster) for i in range(len(sent))]\n",
        "\n",
        "def ner_sent2labels(sent):\n",
        "    return [label for token, postag, label in sent]\n",
        "\n",
        "def ner_sent2tokens(sent):\n",
        "    return [token for token, postag, label in sent]\n",
        "    "
      ]
    },
    {
      "cell_type": "code",
      "execution_count": null,
      "metadata": {
        "id": "vTY8DCGRL2Do"
      },
      "outputs": [],
      "source": [
        "pos_crf=joblib.load('pos_crf_model')\n",
        "ner_crf=joblib.load('crf_model_ner')\n"
      ]
    },
    {
      "cell_type": "code",
      "execution_count": null,
      "metadata": {
        "colab": {
          "base_uri": "https://localhost:8080/"
        },
        "id": "1FGM6l23NpHW",
        "outputId": "0fb3ee9f-3af8-4b89-f63b-39b129937fde"
      },
      "outputs": [
        {
          "name": "stdout",
          "output_type": "stream",
          "text": [
            "--2023-05-15 05:07:39--  https://raw.githubusercontent.com/nlptown/nlp-notebooks/master/data/embeddings/clusters_nl.tsv\n",
            "Resolving raw.githubusercontent.com (raw.githubusercontent.com)... 185.199.110.133, 185.199.111.133, 185.199.108.133, ...\n",
            "Connecting to raw.githubusercontent.com (raw.githubusercontent.com)|185.199.110.133|:443... connected.\n",
            "HTTP request sent, awaiting response... 200 OK\n",
            "Length: 459810 (449K) [text/plain]\n",
            "Saving to: ‘clusters_nl.tsv’\n",
            "\n",
            "clusters_nl.tsv     100%[===================>] 449.03K  --.-KB/s    in 0.04s   \n",
            "\n",
            "2023-05-15 05:07:39 (11.2 MB/s) - ‘clusters_nl.tsv’ saved [459810/459810]\n",
            "\n"
          ]
        }
      ],
      "source": [
        "! wget https://raw.githubusercontent.com/nlptown/nlp-notebooks/master/data/embeddings/clusters_nl.tsv"
      ]
    },
    {
      "cell_type": "code",
      "execution_count": null,
      "metadata": {
        "id": "FCyowjiwNswW"
      },
      "outputs": [],
      "source": [
        "def read_clusters(cluster_file):\n",
        "    word2cluster = {}\n",
        "    with open(cluster_file) as i:\n",
        "        for line in i:\n",
        "            word, cluster = line.strip().split('\\t')\n",
        "            word2cluster[word] = cluster\n",
        "    return word2cluster\n",
        "word2cluster=read_clusters(\"clusters_nl.tsv\")"
      ]
    },
    {
      "cell_type": "code",
      "execution_count": null,
      "metadata": {
        "id": "fj67V00zAY58"
      },
      "outputs": [],
      "source": [
        "# tags=ner_imp_words.apply(lambda x :[x]).apply(pos_crf.predict)\n",
        "#     pos_tags=[[(x,y) for x,y in zip(sublist1, sublist2)] \\\n",
        "#                   for sublist1, sublist2 in \\\n",
        "#              zip(ner_imp_words.values,tags.apply(lambda x:x[0]).values)]\n",
        "    \n",
        "#     # pos_tags = [(x,y) for x,y in zip(tokens,pos_crf.predict(pos_sent2features([text]))[0])]\n",
        "\n",
        "#     pos_words = [word for word, tag in pos_tags if tag.startswith('N') or tag.startswith('V') or tag.startswith('J')]\n",
        "\n",
        "#     # ner_preds=ner_crf.predict([ner_sent2features(pos_tags, word2cluster)])[0]\n",
        "#     ner_preds=ner_imp_words.apply(lambda x :[x]).apply(ner_crf.predict)\n",
        "#     ner_tags=[[(x,y) for x,y in zip(sublist1, sublist2)] \\\n",
        "#                         for sublist1, sublist2 in\\\n",
        "#         zip(ner_imp_words.values,ner_preds.apply(lambda x:x[0]).values)]\n",
        "\n",
        "#     named_entities = [ word for word, label in  sentence for sentence in ner_tags\\\n",
        "#                       if label.startswith('PER') or label.startswith('ORG')\\\n",
        "#                       or label.startswith('LOC')]"
      ]
    },
    {
      "cell_type": "code",
      "execution_count": null,
      "metadata": {
        "id": "_WjEL5m8L6iJ"
      },
      "outputs": [],
      "source": [
        "def pos_ner_preprocess_text(text,word2cluster=word2cluster,use_pos=True,use_ner=True):\n",
        "    # Tokenize the text\n",
        "    tokens = word_tokenize(text.lower())\n",
        "    \n",
        "    \n",
        "    \n",
        "    # POS tags list of (word, tag)\n",
        "    \n",
        "    pos_words=[]\n",
        "    named_entities=[]\n",
        "\n",
        "\n",
        "    \n",
        "    pos_tags = [(x,y) for x,y in zip(tokens,pos_crf.predict(pos_sent2features([text]))[0])]\n",
        "\n",
        "    pos_words = [word for word, tag in pos_tags if tag.startswith('N') or tag.startswith('V') or tag.startswith('J')]\n",
        "\n",
        "    ner_preds=ner_crf.predict([ner_sent2features(pos_tags, word2cluster)])[0]\n",
        "    ner_tags=[(x,y) for x,y in zip(tokens,ner_preds)]\n",
        "\n",
        "    named_entities = [ word for word, label in  ner_tags\\\n",
        "                      if label.startswith('PER') or label.startswith('ORG')\\\n",
        "                      or label.startswith('LOC')]\n",
        "\n",
        "    if use_pos and use_ner:\n",
        "        important_words=named_entities + pos_words\n",
        "    elif use_pos:\n",
        "        important_words=pos_words\n",
        "         \n",
        "    elif use_ner:\n",
        "        important_words=named_entities \n",
        "    else:\n",
        "        important_words=X_train_embeddings\n",
        "    \n",
        "\n",
        "    # Filter out stop words from outputs\n",
        "    stop_words = set(stopwords.words('english'))\n",
        "    important_words = [word for word in important_words if word not in stop_words and word.isalpha()]\n",
        "    if not important_words:\n",
        "      important_words=tokens\n",
        "    return important_words"
      ]
    },
    {
      "cell_type": "code",
      "execution_count": 186,
      "metadata": {
        "id": "wkDj-aH-ON3u"
      },
      "outputs": [],
      "source": [
        "def imp_word_embedding(texts,w2v_model,vocab,use_pos=True,use_ner=True):\n",
        "    # Preprocess the text and extract the relevant words\n",
        "  sentence_embeddings=[]\n",
        "  for text in texts:\n",
        "    imp_words = pos_ner_preprocess_text(text,use_pos=True,use_ner=True)\n",
        "    # if imp_wrods\n",
        "    # Calculate the word embeddings for the relevant words\n",
        "    embeddings=[w2v_model.wv[word] for word in imp_words if word in vocab]\n",
        "    if not embeddings:\n",
        "      words =np.array(text.split())\n",
        "      sentence_embed = np.mean(np.array([model.wv[word] for word in words \\\n",
        "                                             if word in vocab],dtype=object), axis=0)\n",
        "    else:\n",
        "      sentence_embed = np.mean(embeddings, axis=0)\n",
        "    \n",
        "    #  [model.wv[word] for wonamed_entities = [ent for ent in doc.ents if ent.label_.startswith('PER') or ent.label_.startswith('ORG') or ent.label_.startswith('LOC')]rd in pos_words]\n",
        "    sentence_embeddings.append(sentence_embed)\n",
        "      \n",
        "   \n",
        "    \n",
        "  return sentence_embeddings"
      ]
    },
    {
      "cell_type": "code",
      "execution_count": null,
      "metadata": {
        "id": "rgU7Kfnl5BsS"
      },
      "outputs": [],
      "source": [
        "ner_imp_words=train_df['text'].astype(str).apply(pos_ner_preprocess_text)\n",
        "model = Word2Vec(ner_imp_words,vector_size=200, min_count=1)\n",
        "\n"
      ]
    },
    {
      "cell_type": "code",
      "execution_count": null,
      "metadata": {
        "id": "UXfT8vb38rVI"
      },
      "outputs": [],
      "source": [
        "np_vocab=set()\n",
        "for row in ner_imp_words:#train_df['text'].astype(str):\n",
        "  np_vocab.update(set(row))\n",
        "np_vocab=list(np_vocab)#+vocab"
      ]
    },
    {
      "cell_type": "code",
      "execution_count": 151,
      "metadata": {
        "id": "dV1Y_Rl8BZth"
      },
      "outputs": [],
      "source": [
        "embedding=imp_word_embedding(train_df['text'].astype(str),model,np_vocab,use_pos=True,use_ner=True)"
      ]
    },
    {
      "cell_type": "code",
      "execution_count": 157,
      "metadata": {
        "id": "nkpRHOSLQRix",
        "colab": {
          "base_uri": "https://localhost:8080/"
        },
        "outputId": "7220769c-80dc-4366-e451-b940c7b51841"
      },
      "outputs": [
        {
          "output_type": "execute_result",
          "data": {
            "text/plain": [
              "(10269, 200)"
            ]
          },
          "metadata": {},
          "execution_count": 157
        }
      ],
      "source": [
        "np.array(embedding).shape"
      ]
    },
    {
      "cell_type": "code",
      "source": [
        "X_val_embeddings"
      ],
      "metadata": {
        "colab": {
          "base_uri": "https://localhost:8080/"
        },
        "id": "NGaJm2DxFvcw",
        "outputId": "a9f64d65-5ecf-42ab-8b20-6de0f1aaa439"
      },
      "execution_count": 175,
      "outputs": [
        {
          "output_type": "execute_result",
          "data": {
            "text/plain": [
              "array([array([ 3.53150372e-03,  6.05767011e-04, -2.32094666e-03,  6.30014925e-04,\n",
              "               2.22346932e-03, -7.69553334e-03, -4.27765446e-03,  2.70561618e-03,\n",
              "              -9.75333911e-04,  2.48491927e-03, -2.60828692e-03, -5.09469630e-03,\n",
              "              -7.47565646e-04, -1.49146456e-03, -3.36637138e-03, -7.38778478e-03,\n",
              "              -5.01781423e-03, -3.43144056e-03, -1.12963736e-03, -5.23821311e-03,\n",
              "               4.12873784e-03, -3.93770635e-03,  3.65790469e-03,  5.10250311e-03,\n",
              "               4.41093650e-03, -5.15312376e-03, -4.33609216e-03, -7.43550295e-03,\n",
              "              -7.23754801e-03, -3.97803989e-04,  7.80313089e-03, -1.75422092e-03,\n",
              "              -1.36560376e-03,  1.60220196e-03,  5.11653442e-03,  1.25342875e-03,\n",
              "               5.59153175e-03, -3.81212588e-03,  1.63789443e-03, -8.91416892e-03,\n",
              "               2.43599154e-03, -6.52885006e-04, -4.75064665e-03,  4.91726911e-03,\n",
              "               3.75617994e-03,  2.31721860e-04, -2.97319563e-03, -6.33343298e-04,\n",
              "               1.74363737e-03,  4.03639069e-03,  2.97985668e-03,  1.16682507e-03,\n",
              "              -2.55368976e-03,  6.16876525e-04, -4.92391642e-03,  1.95598160e-03,\n",
              "               5.39017143e-03,  1.12730043e-03, -4.95551853e-03,  3.12201842e-03,\n",
              "               3.24754068e-03, -6.17824553e-04, -1.32586900e-03, -8.05903750e-04,\n",
              "              -7.93877617e-03,  3.82665801e-03, -1.49042637e-03,  1.80272362e-03,\n",
              "              -8.64579249e-03,  1.08029705e-03, -2.95538711e-03,  3.27327289e-03,\n",
              "               2.93971226e-03, -6.43279054e-04,  5.03930636e-03,  3.59168090e-03,\n",
              "              -1.01694500e-03, -2.63916538e-03, -1.19995913e-02,  3.35611636e-03,\n",
              "              -6.49750000e-03,  2.83888658e-03, -4.36167000e-03,  2.74735712e-03,\n",
              "              -6.14497438e-03, -1.17616879e-03, -5.95683558e-03,  4.28142026e-03,\n",
              "              -1.02906465e-03,  2.57557048e-03,  3.79746244e-03,  7.92195648e-03,\n",
              "              -2.33921548e-03,  1.97763857e-03,  6.63056411e-03,  3.65875638e-03,\n",
              "               1.85279758e-04,  2.65761488e-03,  5.78225066e-04, -1.37015851e-03,\n",
              "              -6.07401365e-03,  7.94947147e-03,  3.06072319e-03, -1.15217024e-03,\n",
              "               7.90037229e-05, -3.43666808e-03,  4.74425638e-03,  7.34326569e-03,\n",
              "              -5.46951126e-03, -2.71939614e-04, -2.45008245e-03, -7.95809925e-03,\n",
              "              -6.11777417e-03,  2.85821472e-04,  5.95264952e-04,  3.46515561e-03,\n",
              "               6.41638134e-03, -4.60796896e-03,  6.47979439e-04, -1.95293932e-03,\n",
              "              -5.46171190e-03,  1.04969125e-02,  6.36524567e-03, -7.08430214e-03,\n",
              "              -4.19779355e-03,  5.23535581e-03, -2.47841584e-03, -4.48668562e-03,\n",
              "               1.32118911e-03, -6.53400691e-03,  5.19160647e-03,  2.39554676e-03,\n",
              "              -2.74081220e-04,  2.64513819e-03, -9.00259649e-04, -2.81414803e-04,\n",
              "              -2.18341150e-03, -6.78597763e-03, -4.32011066e-03, -3.97364097e-03,\n",
              "               2.85603758e-03, -4.94038826e-03, -4.68644081e-03, -1.82065612e-03,\n",
              "              -3.61646689e-03, -3.99418117e-04, -3.23846051e-03,  2.22575525e-03,\n",
              "              -1.84097164e-03,  4.74176370e-03,  4.70010517e-03, -1.17315876e-03,\n",
              "               2.83796573e-03,  1.43891573e-03, -6.79482752e-03,  9.22394916e-03,\n",
              "               4.08855500e-03, -1.53061235e-03,  3.22255096e-03,  3.80002591e-03,\n",
              "               6.05816115e-03, -1.79442647e-03, -3.39374575e-03, -5.71199087e-03,\n",
              "              -5.79029787e-04, -1.39484683e-03,  4.33847355e-03, -8.87273904e-03,\n",
              "              -2.80641206e-03, -2.24539405e-03, -4.91099618e-03, -9.08488699e-04,\n",
              "              -4.41615179e-04, -5.03676524e-03,  1.98838301e-03,  7.27887079e-03,\n",
              "              -4.77900915e-03,  6.97241537e-03, -1.67291274e-03,  4.77906596e-03,\n",
              "               3.72275332e-04, -3.88080720e-04, -1.13759690e-03,  2.01069494e-03,\n",
              "               1.41444069e-03,  4.19485802e-03,  1.84632535e-03,  1.19096576e-03,\n",
              "               4.50505130e-03,  4.60419012e-03,  8.12881254e-03, -2.76269275e-03,\n",
              "               2.99134664e-03, -7.16308830e-03,  6.66192919e-03,  1.56213657e-03,\n",
              "               3.86284338e-03,  7.65287026e-04, -2.24389462e-03,  4.02328791e-04],\n",
              "             dtype=float32)                                                       ,\n",
              "       array([ 7.17875455e-03, -3.56118508e-05, -6.75853633e-04,  2.33297981e-03,\n",
              "               6.98926020e-03, -2.31833779e-03,  2.36125477e-03,  1.16545893e-02,\n",
              "               4.52027143e-06, -6.47962443e-04, -6.70992583e-03, -2.20074668e-03,\n",
              "              -3.14825471e-03,  3.32205347e-03,  3.30037973e-03, -8.25852249e-03,\n",
              "              -5.95349493e-03,  1.29909429e-03,  1.47537678e-03, -1.00642545e-02,\n",
              "               6.92724669e-03, -1.10458850e-03, -4.51189606e-03, -2.02383311e-03,\n",
              "               2.33996892e-03, -9.02128930e-04, -5.98437851e-03, -4.72900504e-03,\n",
              "              -6.23341557e-03,  1.59175764e-03,  1.10284612e-02, -5.89551404e-04,\n",
              "              -2.34326324e-03, -1.28326926e-03, -2.31680344e-03,  7.36511499e-03,\n",
              "               4.72358521e-03,  4.17323550e-03, -3.37317516e-03, -3.82320653e-03,\n",
              "              -1.36537230e-04,  1.28359685e-03, -3.74587253e-04,  2.63761566e-03,\n",
              "               5.59879979e-03, -2.73024174e-03,  7.48368329e-04,  2.61869025e-03,\n",
              "               3.02818534e-03,  4.99187922e-03,  7.67635694e-03, -1.35858732e-04,\n",
              "              -6.47574058e-03, -2.11936445e-03, -1.51550584e-03,  1.40679872e-03,\n",
              "               5.10036619e-03, -2.87073734e-03, -7.32537638e-03, -1.32663851e-03,\n",
              "              -3.34775844e-03,  9.57712007e-04, -7.19642593e-03,  3.53988842e-03,\n",
              "              -6.24253694e-03,  1.60740770e-03, -3.00633418e-03,  1.34740015e-02,\n",
              "              -2.30996590e-03,  4.34648199e-03, -1.42676744e-03,  3.68476682e-03,\n",
              "               7.42607377e-03,  2.44273734e-03, -1.99685385e-03,  4.60426696e-03,\n",
              "               4.18553781e-03, -9.08501353e-03, -1.46976076e-02,  1.67347118e-03,\n",
              "              -6.86439732e-03, -4.74045606e-04, -3.37530114e-03,  1.28344055e-02,\n",
              "              -1.40814960e-03,  3.67802964e-03,  1.07760984e-03,  4.92853625e-03,\n",
              "               4.00217110e-03, -2.12690444e-03,  2.93299160e-03,  1.01562226e-02,\n",
              "               1.21715968e-03,  1.16692651e-02,  1.26500716e-02,  8.91657546e-03,\n",
              "               5.68070356e-03,  2.38925510e-04, -3.88876157e-04,  7.24832434e-03,\n",
              "              -7.68877380e-03,  1.00802882e-02,  5.65296877e-03, -2.22797226e-03,\n",
              "              -4.52291733e-03, -6.17988780e-03,  2.74983631e-03,  9.32491105e-03,\n",
              "              -2.53062625e-03, -7.37957377e-03, -1.02637440e-03, -1.30991563e-02,\n",
              "              -6.59576664e-03,  1.17004314e-03,  5.24831098e-03, -2.98074028e-03,\n",
              "               2.69978121e-03, -1.72517318e-02, -2.05728877e-03, -2.52777268e-03,\n",
              "              -3.96735920e-03,  8.05003569e-03,  9.25958809e-03, -2.04207655e-03,\n",
              "               7.88486504e-04, -7.59310729e-04, -2.90970411e-03, -4.45174426e-03,\n",
              "              -3.82905896e-03,  1.57953228e-03,  1.27467874e-03,  2.52376078e-03,\n",
              "               2.01242557e-03, -6.50869869e-03, -5.52978180e-03,  8.94158520e-03,\n",
              "              -1.10207584e-04, -4.47082659e-03, -2.56701396e-03, -6.12712372e-03,\n",
              "               8.77048261e-03, -3.32630565e-03, -7.01686426e-04, -7.24757975e-03,\n",
              "              -5.44373272e-03, -3.48478992e-04, -7.18164444e-03,  7.62782153e-03,\n",
              "               2.29468662e-03, -1.22649758e-03, -4.61103581e-03, -8.98770988e-03,\n",
              "               2.92607956e-03,  1.65028730e-03, -3.28454189e-03,  1.23014618e-02,\n",
              "              -1.33668418e-05, -2.33247029e-05, -6.34942437e-03,  5.73783368e-03,\n",
              "               7.08484650e-03,  8.63842666e-04, -2.56669475e-03, -5.79436449e-03,\n",
              "              -3.17294965e-03, -4.76902147e-04,  6.75404677e-03, -1.02537954e-02,\n",
              "              -4.91528027e-03,  5.33360348e-04, -7.24754878e-04, -3.19614737e-05,\n",
              "               3.66777205e-03, -8.72587506e-03,  9.53647587e-03,  5.24571724e-03,\n",
              "              -5.64324157e-03,  5.40247373e-03,  1.94767315e-04, -8.54415470e-04,\n",
              "              -2.44718773e-04,  2.60114996e-03,  3.02324281e-03, -1.87872211e-03,\n",
              "               4.41075815e-03,  6.21110806e-03,  2.43362505e-03,  2.49822042e-05,\n",
              "               1.18384585e-02,  6.09957892e-03,  6.49324572e-03, -1.00077724e-03,\n",
              "              -1.78323407e-03, -2.04286232e-04,  6.24275301e-04, -1.24325161e-03,\n",
              "               1.28599314e-03, -1.03518926e-02, -2.27231137e-03, -4.00489298e-05],\n",
              "             dtype=float32)                                                       ,\n",
              "       nan, ...,\n",
              "       array([ 3.92143521e-03, -4.27638879e-04,  2.96665612e-03,  1.42004923e-03,\n",
              "               7.31336128e-04,  1.12462172e-03, -4.95340861e-03, -3.15048569e-03,\n",
              "               3.51154269e-03,  2.23523495e-03,  2.64111999e-03, -4.35700826e-03,\n",
              "               4.10835352e-03, -1.35616097e-03,  2.76923209e-04, -2.05808482e-03,\n",
              "               1.51222851e-03, -3.66013939e-03, -6.27926376e-04, -2.19163019e-03,\n",
              "              -4.42051655e-03,  1.18750834e-03,  1.41929172e-03, -2.50481046e-03,\n",
              "               3.34151275e-03, -5.21953357e-03,  2.87097273e-03, -3.60336038e-03,\n",
              "               2.78462563e-03,  2.74701533e-03, -8.93075077e-04,  2.86918413e-03,\n",
              "              -2.97362800e-03, -2.88400240e-03,  1.24401611e-03, -6.96318573e-04,\n",
              "               2.14856467e-03,  1.40098436e-03, -2.59685703e-03,  3.62273608e-03,\n",
              "               8.13273306e-04,  4.63706208e-03, -4.55158576e-03,  2.82861595e-03,\n",
              "               3.48513667e-03,  3.17906415e-06,  1.92076783e-03,  8.31658544e-04,\n",
              "              -3.22031765e-03, -1.47961651e-03,  1.19406765e-03,  3.11712804e-03,\n",
              "               8.89406074e-04, -3.42696672e-03,  2.31370516e-03,  1.32946169e-03,\n",
              "               4.20381036e-03, -2.39751278e-03, -2.82337260e-03,  4.14217915e-03,\n",
              "              -1.68990518e-04, -3.91782168e-03,  1.52288214e-03, -1.26639544e-03,\n",
              "              -2.46665860e-03, -4.13742196e-03,  4.59523452e-03, -3.12620425e-03,\n",
              "              -1.52218109e-03,  5.69525734e-03,  5.35143248e-04, -2.82765273e-03,\n",
              "               1.58412952e-03,  2.74791196e-03,  1.36699807e-03, -3.21643054e-03,\n",
              "               2.03761715e-03, -4.87607718e-03,  3.83882620e-03,  2.87541491e-03,\n",
              "              -1.72131491e-04,  3.99721647e-03, -3.58415488e-03, -3.41837551e-03,\n",
              "               4.28743009e-03, -1.86264195e-04, -3.37843364e-03, -2.14480003e-03,\n",
              "              -3.93634755e-03, -4.72960528e-03,  9.14919015e-04,  5.04056178e-03,\n",
              "               1.59671402e-03,  2.18318100e-03, -3.92628834e-03, -1.20329240e-03,\n",
              "               4.37800679e-03,  1.69275759e-03,  5.29687200e-03,  4.79919836e-03,\n",
              "              -2.15146341e-03, -3.34135792e-03, -4.82403487e-03, -2.32214550e-03,\n",
              "              -4.08409303e-03,  2.41976421e-04,  1.95060147e-03,  4.87465644e-03,\n",
              "               3.27185844e-03,  3.73660610e-03,  2.89970660e-03, -4.01521707e-03,\n",
              "              -3.46143206e-04, -2.41540070e-03, -4.26977780e-03, -2.91781453e-03,\n",
              "              -4.14753146e-03, -2.88788870e-04, -2.04814202e-03, -7.47134909e-04,\n",
              "               6.98677090e-04,  4.99364082e-03, -3.29411094e-04, -3.65163363e-03,\n",
              "              -3.58635932e-03,  5.18360641e-04,  3.42348986e-03,  1.61146652e-03,\n",
              "              -3.34873307e-03, -4.00553318e-03,  6.75079005e-04,  5.51156001e-04,\n",
              "              -4.65948181e-03,  4.33323812e-03, -2.12283991e-03,  6.21578423e-04,\n",
              "               2.70576193e-03,  5.20569040e-04, -1.65501272e-03, -3.47507623e-04,\n",
              "               1.83720724e-03,  1.48944580e-03, -3.86699592e-03,  7.40118499e-04,\n",
              "              -2.72297347e-03, -4.86580702e-03,  4.78739239e-04,  5.15727792e-03,\n",
              "              -4.70838370e-03, -1.81274954e-03,  4.94026160e-03,  5.44873823e-04,\n",
              "              -3.93919554e-03,  1.21139376e-04, -3.44167277e-03, -2.33487156e-03,\n",
              "               3.28605622e-03, -3.04382015e-03, -1.01663615e-03,  2.83268804e-04,\n",
              "               2.72212364e-03, -2.83847773e-03, -2.27095815e-03,  2.71958997e-03,\n",
              "               7.67085818e-04,  2.87094782e-03, -3.10224667e-03, -4.99812979e-03,\n",
              "               1.82007020e-03,  4.78975382e-03, -1.38642255e-03,  3.75765795e-03,\n",
              "               3.47104110e-03,  3.61184007e-03, -1.32194022e-04, -3.70375090e-03,\n",
              "              -7.33491324e-04,  4.45875851e-03, -2.64982926e-03,  3.27263540e-03,\n",
              "              -1.50674419e-03,  4.82870964e-03, -4.15607775e-03,  3.68757406e-03,\n",
              "               3.18268687e-03,  2.97416397e-03,  9.92901507e-04,  4.47749990e-05,\n",
              "               5.63914934e-03,  3.02831270e-03,  3.71159520e-03,  1.96214556e-03,\n",
              "               3.71729839e-03, -3.88090545e-03, -2.88950885e-03,  2.92595150e-03,\n",
              "              -3.28900339e-03,  2.21158471e-03, -3.15556908e-03,  4.79088398e-04],\n",
              "             dtype=float32)                                                       ,\n",
              "       array([ 2.26199991e-04, -7.68233382e-04, -1.29399938e-03,  6.24413136e-03,\n",
              "               1.41262133e-02, -6.01366349e-03, -8.47236428e-04,  1.96164120e-02,\n",
              "              -5.35213016e-03,  9.72254202e-03, -8.62419512e-03, -9.50012822e-03,\n",
              "               1.76884606e-03,  8.10606778e-03, -4.91940603e-03, -1.10379541e-02,\n",
              "              -9.07240715e-03,  3.38010490e-03,  3.61034716e-03, -1.59213655e-02,\n",
              "               7.61513924e-03, -1.00471014e-02,  2.88491137e-03,  3.80202732e-03,\n",
              "              -2.81892740e-03, -1.07949236e-02, -2.01942725e-03, -6.61758194e-03,\n",
              "              -1.27618564e-02,  5.84237650e-03,  1.16813760e-02,  2.15236982e-03,\n",
              "               5.88249182e-03, -8.21261667e-04,  3.90519155e-03,  4.60555637e-03,\n",
              "               4.65043867e-03,  1.81589648e-03,  7.28953746e-05, -1.22857075e-02,\n",
              "              -5.83781814e-03, -3.21603776e-03, -2.46435939e-03,  6.15657633e-03,\n",
              "               1.25311008e-02, -4.72262967e-03,  7.46517326e-04, -4.74367384e-03,\n",
              "               7.88765028e-03,  7.81815592e-03,  7.40770018e-03, -2.84057902e-03,\n",
              "              -3.42536578e-03, -1.01307677e-02, -9.43832158e-04, -3.34944087e-03,\n",
              "               7.27286912e-04, -8.60524829e-03, -1.10539468e-02, -9.23220010e-04,\n",
              "              -2.36884644e-03,  1.81558752e-03, -2.26527522e-03,  3.77859746e-04,\n",
              "              -1.39964055e-02,  1.46521302e-03,  3.95728322e-03,  1.67767927e-02,\n",
              "              -1.45247849e-02,  1.92845799e-02, -7.69672683e-04, -9.48792498e-04,\n",
              "               1.26557443e-02,  1.79306371e-03,  2.00125063e-03,  2.65061483e-03,\n",
              "               9.34499688e-03, -1.06874090e-02, -1.72946602e-02,  2.51844351e-04,\n",
              "              -6.05228730e-03, -6.01341249e-03, -9.41358600e-03,  1.29765030e-02,\n",
              "              -1.07795550e-02, -5.59625123e-03, -1.54944789e-03,  1.06020719e-02,\n",
              "               4.82404139e-05, -2.19970080e-03,  3.76943266e-03,  7.71731045e-03,\n",
              "               4.68000956e-03,  8.35804641e-03,  1.48677956e-02,  6.36635954e-03,\n",
              "               6.74079265e-03, -6.79048104e-03,  6.42505381e-03,  8.55983421e-03,\n",
              "              -1.38314702e-02,  1.84477624e-02,  1.81053206e-03, -8.53097904e-03,\n",
              "              -1.07887220e-02, -1.31940562e-02,  3.88907734e-03,  1.15791094e-02,\n",
              "              -3.98945110e-03, -1.39752934e-02, -2.36073346e-03, -1.60682965e-02,\n",
              "              -5.77165326e-03, -3.24909668e-03,  6.06630743e-03, -8.27420224e-03,\n",
              "               5.17620426e-03, -2.22601406e-02, -6.44700660e-04, -5.37689170e-03,\n",
              "              -1.38393487e-03,  1.54271778e-02,  9.97160375e-03, -4.54039872e-03,\n",
              "              -4.89899656e-03,  6.44956669e-03, -8.29598587e-03, -7.69238919e-03,\n",
              "              -2.57803011e-04, -5.93017228e-03,  5.27235633e-03,  5.09074074e-04,\n",
              "              -6.11267937e-03, -5.96346706e-03, -6.56695524e-03,  8.56176950e-03,\n",
              "              -7.19005661e-03, -1.13926232e-02, -4.06925939e-03, -2.04805210e-02,\n",
              "               6.65239291e-03, -1.32496981e-02, -8.36850703e-03, -8.24648701e-03,\n",
              "              -7.12028053e-03, -5.84971672e-03, -8.94727185e-03,  6.64053857e-03,\n",
              "              -3.90341133e-03,  8.27872660e-04, -5.49387187e-05, -7.55926128e-03,\n",
              "               1.47790601e-03,  9.54800472e-03, -1.34078478e-02,  1.06437253e-02,\n",
              "               6.33727061e-03,  6.55380730e-03, -5.76278893e-03, -3.34427576e-04,\n",
              "               8.64091143e-03,  5.82866557e-03, -7.94684421e-03, -2.83662276e-03,\n",
              "              -1.18750206e-03,  4.21792129e-03,  3.62165272e-03, -1.02904849e-02,\n",
              "              -4.50353930e-03,  5.16453478e-03, -9.92891937e-03,  4.99393092e-03,\n",
              "               2.00589723e-03, -9.37396567e-03,  8.75972863e-03,  9.49332397e-03,\n",
              "              -1.29821580e-02,  1.00730257e-02,  3.17311450e-03,  5.09220455e-03,\n",
              "               3.07428162e-03, -1.54747383e-03, -1.71630189e-03,  2.27100425e-03,\n",
              "               8.30717478e-03,  1.03695411e-03, -4.68726177e-03,  9.07727890e-03,\n",
              "               1.45923654e-02,  5.66637889e-03,  8.91927257e-03, -4.73029260e-03,\n",
              "              -3.35144182e-03, -1.06351553e-02,  1.06744841e-02,  6.25136588e-03,\n",
              "               4.14535124e-03, -9.99377389e-03, -2.01913109e-03, -6.70580612e-03],\n",
              "             dtype=float32)                                                       ,\n",
              "       array([ 3.94902891e-04, -1.81209063e-03, -2.61273235e-05, -9.73033195e-04,\n",
              "               4.36500646e-03, -4.50846134e-03,  1.18595781e-03,  2.73393421e-03,\n",
              "               7.94857624e-05, -1.40359905e-03,  2.15087784e-04, -5.47726115e-04,\n",
              "              -1.05765699e-04,  3.61412182e-03, -4.81474475e-04, -1.42716127e-03,\n",
              "               7.40192190e-04,  1.49978022e-03,  2.74616550e-03, -2.58299056e-03,\n",
              "              -1.88433006e-03, -1.92951295e-03,  3.17785540e-03,  5.29744895e-04,\n",
              "               1.18521450e-04,  2.87802919e-04,  5.99371386e-04, -2.06628162e-03,\n",
              "              -1.90481311e-03,  3.00824409e-03,  5.55704581e-03,  1.17098261e-03,\n",
              "               4.46686638e-04, -1.00988848e-03, -2.28900206e-03,  2.37473636e-04,\n",
              "               6.47032284e-05, -5.00654627e-04,  4.41438810e-04, -4.70454153e-03,\n",
              "              -3.46604735e-04, -8.65567359e-04, -1.37012382e-03, -9.17766418e-04,\n",
              "               4.80471784e-03, -3.17312824e-03, -1.47390738e-03, -1.96478592e-04,\n",
              "               3.76700307e-04,  1.42829306e-03,  2.25475687e-03,  4.75311477e-04,\n",
              "              -2.47322069e-03, -6.36329525e-04, -1.43554108e-03, -1.44328817e-03,\n",
              "              -9.16973047e-04, -1.93239027e-03, -2.49390723e-03, -6.43861946e-04,\n",
              "              -1.98273873e-03,  2.60709669e-03, -1.97589048e-03, -3.75421136e-03,\n",
              "              -1.76821975e-03,  2.54521030e-04,  1.08241453e-03,  8.66964576e-04,\n",
              "              -8.30290490e-04,  5.07971691e-03,  9.92921880e-04,  1.59842137e-03,\n",
              "               2.10522907e-03, -2.89735268e-04,  1.89437368e-03,  1.27572427e-03,\n",
              "               2.40592915e-03, -2.80309678e-03, -5.08985668e-03, -2.88465386e-03,\n",
              "               2.58045853e-04, -2.14906712e-03,  1.43714109e-03,  1.35596108e-03,\n",
              "              -2.83603580e-03, -2.56924797e-03,  2.45007395e-04,  2.81813927e-03,\n",
              "              -1.24386791e-03, -1.29729952e-03,  1.35908567e-03, -1.64536526e-03,\n",
              "              -1.66849437e-04,  9.40466532e-04,  2.39478284e-03,  8.00150621e-04,\n",
              "               1.93854712e-03, -1.88542274e-03,  5.42741036e-05,  1.65196939e-03,\n",
              "              -1.45396590e-03,  5.17071038e-03, -1.40560209e-03, -2.36513000e-03,\n",
              "              -1.95457553e-03, -2.10307073e-03,  4.52930923e-04,  6.91897818e-04,\n",
              "              -6.94727409e-04, -4.94238641e-03, -1.54373655e-03, -2.35407171e-03,\n",
              "              -1.83851551e-03, -2.68937275e-03,  5.26585791e-05, -6.17479440e-04,\n",
              "               4.07274754e-04, -2.68282136e-03, -1.19986641e-03,  4.86022676e-04,\n",
              "               1.76235393e-03,  2.68342486e-03, -1.41703873e-03, -1.43229286e-03,\n",
              "               1.78796041e-03,  6.37381396e-04,  1.57819141e-03, -4.18659858e-03,\n",
              "               9.86089814e-04, -4.88312682e-04,  2.41260906e-03,  4.02668864e-03,\n",
              "              -1.06546504e-03, -1.94987515e-03,  3.26172099e-04,  9.29062953e-05,\n",
              "              -1.55070599e-03, -4.58537787e-03, -2.99320533e-03, -3.80658917e-03,\n",
              "               2.14623776e-03, -4.11061430e-03, -6.90111658e-04, -2.13899650e-03,\n",
              "              -7.03041907e-04,  4.27835388e-04, -1.72823900e-03,  1.63972529e-03,\n",
              "              -7.14012422e-05,  2.41621304e-03,  3.19664483e-04, -1.74449920e-03,\n",
              "               9.66440071e-04,  2.39477493e-03, -1.33181852e-03,  4.75313142e-03,\n",
              "               1.10070198e-03,  2.57053552e-03, -1.17647951e-03, -2.26614904e-03,\n",
              "               4.37494018e-04,  4.34075855e-03, -5.53361047e-03, -2.87120137e-03,\n",
              "               7.15947303e-04, -5.40120993e-04,  1.19948981e-03,  1.75402337e-03,\n",
              "               4.65798890e-04,  1.63301593e-04, -4.86450922e-03, -6.42699364e-04,\n",
              "              -2.03910167e-05, -3.03792022e-03,  1.06174324e-04,  1.96120981e-03,\n",
              "              -2.44623725e-03,  3.08941305e-03,  1.72325363e-03,  2.44407030e-03,\n",
              "               1.16652530e-03, -2.27405201e-03, -1.95083953e-03,  5.07205259e-05,\n",
              "               3.67405126e-04,  8.79050815e-04, -5.08635771e-04,  1.54431770e-03,\n",
              "               3.13717173e-03,  1.28172431e-03,  2.31695268e-03, -4.29458771e-04,\n",
              "              -3.01141315e-03, -2.34337570e-03,  2.85734748e-03, -1.64197013e-03,\n",
              "               1.01011363e-03, -2.86791613e-03, -3.67203436e-04,  1.27372949e-03],\n",
              "             dtype=float32)                                                       ],\n",
              "      dtype=object)"
            ]
          },
          "metadata": {},
          "execution_count": 175
        }
      ]
    },
    {
      "cell_type": "code",
      "source": [
        "X_val_embeddings= np.array(imp_word_embedding(val_df['text'].astype(str),model,\\\n",
        "                                           np_vocab,use_pos,use_ner))"
      ],
      "metadata": {
        "colab": {
          "base_uri": "https://localhost:8080/"
        },
        "id": "XreOSUvNJTT3",
        "outputId": "4bbc53fb-e09c-4c0c-f385-91b26097d045"
      },
      "execution_count": 183,
      "outputs": [
        {
          "output_type": "stream",
          "name": "stderr",
          "text": [
            "/usr/local/lib/python3.10/dist-packages/numpy/core/fromnumeric.py:3474: RuntimeWarning: Mean of empty slice.\n",
            "  return _methods._mean(a, axis=axis, dtype=dtype,\n",
            "/usr/local/lib/python3.10/dist-packages/numpy/core/_methods.py:189: RuntimeWarning: invalid value encountered in double_scalars\n",
            "  ret = ret.dtype.type(ret / rcount)\n",
            "<ipython-input-183-8e7eb74b7f70>:1: VisibleDeprecationWarning: Creating an ndarray from ragged nested sequences (which is a list-or-tuple of lists-or-tuples-or ndarrays with different lengths or shapes) is deprecated. If you meant to do this, you must specify 'dtype=object' when creating the ndarray.\n",
            "  X_val_embeddings= np.array(imp_word_embedding(val_df['text'].astype(str),model,\\\n"
          ]
        }
      ]
    },
    {
      "cell_type": "code",
      "source": [
        "X_val_embeddings"
      ],
      "metadata": {
        "colab": {
          "base_uri": "https://localhost:8080/"
        },
        "id": "v4INKRqPJZFd",
        "outputId": "827b3f60-74f6-4e51-8134-4ee6fe078d16"
      },
      "execution_count": 184,
      "outputs": [
        {
          "output_type": "execute_result",
          "data": {
            "text/plain": [
              "array([array([ 3.53150372e-03,  6.05767011e-04, -2.32094666e-03,  6.30014925e-04,\n",
              "               2.22346932e-03, -7.69553334e-03, -4.27765446e-03,  2.70561618e-03,\n",
              "              -9.75333911e-04,  2.48491927e-03, -2.60828692e-03, -5.09469630e-03,\n",
              "              -7.47565646e-04, -1.49146456e-03, -3.36637138e-03, -7.38778478e-03,\n",
              "              -5.01781423e-03, -3.43144056e-03, -1.12963736e-03, -5.23821311e-03,\n",
              "               4.12873784e-03, -3.93770635e-03,  3.65790469e-03,  5.10250311e-03,\n",
              "               4.41093650e-03, -5.15312376e-03, -4.33609216e-03, -7.43550295e-03,\n",
              "              -7.23754801e-03, -3.97803989e-04,  7.80313089e-03, -1.75422092e-03,\n",
              "              -1.36560376e-03,  1.60220196e-03,  5.11653442e-03,  1.25342875e-03,\n",
              "               5.59153175e-03, -3.81212588e-03,  1.63789443e-03, -8.91416892e-03,\n",
              "               2.43599154e-03, -6.52885006e-04, -4.75064665e-03,  4.91726911e-03,\n",
              "               3.75617994e-03,  2.31721860e-04, -2.97319563e-03, -6.33343298e-04,\n",
              "               1.74363737e-03,  4.03639069e-03,  2.97985668e-03,  1.16682507e-03,\n",
              "              -2.55368976e-03,  6.16876525e-04, -4.92391642e-03,  1.95598160e-03,\n",
              "               5.39017143e-03,  1.12730043e-03, -4.95551853e-03,  3.12201842e-03,\n",
              "               3.24754068e-03, -6.17824553e-04, -1.32586900e-03, -8.05903750e-04,\n",
              "              -7.93877617e-03,  3.82665801e-03, -1.49042637e-03,  1.80272362e-03,\n",
              "              -8.64579249e-03,  1.08029705e-03, -2.95538711e-03,  3.27327289e-03,\n",
              "               2.93971226e-03, -6.43279054e-04,  5.03930636e-03,  3.59168090e-03,\n",
              "              -1.01694500e-03, -2.63916538e-03, -1.19995913e-02,  3.35611636e-03,\n",
              "              -6.49750000e-03,  2.83888658e-03, -4.36167000e-03,  2.74735712e-03,\n",
              "              -6.14497438e-03, -1.17616879e-03, -5.95683558e-03,  4.28142026e-03,\n",
              "              -1.02906465e-03,  2.57557048e-03,  3.79746244e-03,  7.92195648e-03,\n",
              "              -2.33921548e-03,  1.97763857e-03,  6.63056411e-03,  3.65875638e-03,\n",
              "               1.85279758e-04,  2.65761488e-03,  5.78225066e-04, -1.37015851e-03,\n",
              "              -6.07401365e-03,  7.94947147e-03,  3.06072319e-03, -1.15217024e-03,\n",
              "               7.90037229e-05, -3.43666808e-03,  4.74425638e-03,  7.34326569e-03,\n",
              "              -5.46951126e-03, -2.71939614e-04, -2.45008245e-03, -7.95809925e-03,\n",
              "              -6.11777417e-03,  2.85821472e-04,  5.95264952e-04,  3.46515561e-03,\n",
              "               6.41638134e-03, -4.60796896e-03,  6.47979439e-04, -1.95293932e-03,\n",
              "              -5.46171190e-03,  1.04969125e-02,  6.36524567e-03, -7.08430214e-03,\n",
              "              -4.19779355e-03,  5.23535581e-03, -2.47841584e-03, -4.48668562e-03,\n",
              "               1.32118911e-03, -6.53400691e-03,  5.19160647e-03,  2.39554676e-03,\n",
              "              -2.74081220e-04,  2.64513819e-03, -9.00259649e-04, -2.81414803e-04,\n",
              "              -2.18341150e-03, -6.78597763e-03, -4.32011066e-03, -3.97364097e-03,\n",
              "               2.85603758e-03, -4.94038826e-03, -4.68644081e-03, -1.82065612e-03,\n",
              "              -3.61646689e-03, -3.99418117e-04, -3.23846051e-03,  2.22575525e-03,\n",
              "              -1.84097164e-03,  4.74176370e-03,  4.70010517e-03, -1.17315876e-03,\n",
              "               2.83796573e-03,  1.43891573e-03, -6.79482752e-03,  9.22394916e-03,\n",
              "               4.08855500e-03, -1.53061235e-03,  3.22255096e-03,  3.80002591e-03,\n",
              "               6.05816115e-03, -1.79442647e-03, -3.39374575e-03, -5.71199087e-03,\n",
              "              -5.79029787e-04, -1.39484683e-03,  4.33847355e-03, -8.87273904e-03,\n",
              "              -2.80641206e-03, -2.24539405e-03, -4.91099618e-03, -9.08488699e-04,\n",
              "              -4.41615179e-04, -5.03676524e-03,  1.98838301e-03,  7.27887079e-03,\n",
              "              -4.77900915e-03,  6.97241537e-03, -1.67291274e-03,  4.77906596e-03,\n",
              "               3.72275332e-04, -3.88080720e-04, -1.13759690e-03,  2.01069494e-03,\n",
              "               1.41444069e-03,  4.19485802e-03,  1.84632535e-03,  1.19096576e-03,\n",
              "               4.50505130e-03,  4.60419012e-03,  8.12881254e-03, -2.76269275e-03,\n",
              "               2.99134664e-03, -7.16308830e-03,  6.66192919e-03,  1.56213657e-03,\n",
              "               3.86284338e-03,  7.65287026e-04, -2.24389462e-03,  4.02328791e-04],\n",
              "             dtype=float32)                                                       ,\n",
              "       array([ 7.17875455e-03, -3.56118508e-05, -6.75853633e-04,  2.33297981e-03,\n",
              "               6.98926020e-03, -2.31833779e-03,  2.36125477e-03,  1.16545893e-02,\n",
              "               4.52027143e-06, -6.47962443e-04, -6.70992583e-03, -2.20074668e-03,\n",
              "              -3.14825471e-03,  3.32205347e-03,  3.30037973e-03, -8.25852249e-03,\n",
              "              -5.95349493e-03,  1.29909429e-03,  1.47537678e-03, -1.00642545e-02,\n",
              "               6.92724669e-03, -1.10458850e-03, -4.51189606e-03, -2.02383311e-03,\n",
              "               2.33996892e-03, -9.02128930e-04, -5.98437851e-03, -4.72900504e-03,\n",
              "              -6.23341557e-03,  1.59175764e-03,  1.10284612e-02, -5.89551404e-04,\n",
              "              -2.34326324e-03, -1.28326926e-03, -2.31680344e-03,  7.36511499e-03,\n",
              "               4.72358521e-03,  4.17323550e-03, -3.37317516e-03, -3.82320653e-03,\n",
              "              -1.36537230e-04,  1.28359685e-03, -3.74587253e-04,  2.63761566e-03,\n",
              "               5.59879979e-03, -2.73024174e-03,  7.48368329e-04,  2.61869025e-03,\n",
              "               3.02818534e-03,  4.99187922e-03,  7.67635694e-03, -1.35858732e-04,\n",
              "              -6.47574058e-03, -2.11936445e-03, -1.51550584e-03,  1.40679872e-03,\n",
              "               5.10036619e-03, -2.87073734e-03, -7.32537638e-03, -1.32663851e-03,\n",
              "              -3.34775844e-03,  9.57712007e-04, -7.19642593e-03,  3.53988842e-03,\n",
              "              -6.24253694e-03,  1.60740770e-03, -3.00633418e-03,  1.34740015e-02,\n",
              "              -2.30996590e-03,  4.34648199e-03, -1.42676744e-03,  3.68476682e-03,\n",
              "               7.42607377e-03,  2.44273734e-03, -1.99685385e-03,  4.60426696e-03,\n",
              "               4.18553781e-03, -9.08501353e-03, -1.46976076e-02,  1.67347118e-03,\n",
              "              -6.86439732e-03, -4.74045606e-04, -3.37530114e-03,  1.28344055e-02,\n",
              "              -1.40814960e-03,  3.67802964e-03,  1.07760984e-03,  4.92853625e-03,\n",
              "               4.00217110e-03, -2.12690444e-03,  2.93299160e-03,  1.01562226e-02,\n",
              "               1.21715968e-03,  1.16692651e-02,  1.26500716e-02,  8.91657546e-03,\n",
              "               5.68070356e-03,  2.38925510e-04, -3.88876157e-04,  7.24832434e-03,\n",
              "              -7.68877380e-03,  1.00802882e-02,  5.65296877e-03, -2.22797226e-03,\n",
              "              -4.52291733e-03, -6.17988780e-03,  2.74983631e-03,  9.32491105e-03,\n",
              "              -2.53062625e-03, -7.37957377e-03, -1.02637440e-03, -1.30991563e-02,\n",
              "              -6.59576664e-03,  1.17004314e-03,  5.24831098e-03, -2.98074028e-03,\n",
              "               2.69978121e-03, -1.72517318e-02, -2.05728877e-03, -2.52777268e-03,\n",
              "              -3.96735920e-03,  8.05003569e-03,  9.25958809e-03, -2.04207655e-03,\n",
              "               7.88486504e-04, -7.59310729e-04, -2.90970411e-03, -4.45174426e-03,\n",
              "              -3.82905896e-03,  1.57953228e-03,  1.27467874e-03,  2.52376078e-03,\n",
              "               2.01242557e-03, -6.50869869e-03, -5.52978180e-03,  8.94158520e-03,\n",
              "              -1.10207584e-04, -4.47082659e-03, -2.56701396e-03, -6.12712372e-03,\n",
              "               8.77048261e-03, -3.32630565e-03, -7.01686426e-04, -7.24757975e-03,\n",
              "              -5.44373272e-03, -3.48478992e-04, -7.18164444e-03,  7.62782153e-03,\n",
              "               2.29468662e-03, -1.22649758e-03, -4.61103581e-03, -8.98770988e-03,\n",
              "               2.92607956e-03,  1.65028730e-03, -3.28454189e-03,  1.23014618e-02,\n",
              "              -1.33668418e-05, -2.33247029e-05, -6.34942437e-03,  5.73783368e-03,\n",
              "               7.08484650e-03,  8.63842666e-04, -2.56669475e-03, -5.79436449e-03,\n",
              "              -3.17294965e-03, -4.76902147e-04,  6.75404677e-03, -1.02537954e-02,\n",
              "              -4.91528027e-03,  5.33360348e-04, -7.24754878e-04, -3.19614737e-05,\n",
              "               3.66777205e-03, -8.72587506e-03,  9.53647587e-03,  5.24571724e-03,\n",
              "              -5.64324157e-03,  5.40247373e-03,  1.94767315e-04, -8.54415470e-04,\n",
              "              -2.44718773e-04,  2.60114996e-03,  3.02324281e-03, -1.87872211e-03,\n",
              "               4.41075815e-03,  6.21110806e-03,  2.43362505e-03,  2.49822042e-05,\n",
              "               1.18384585e-02,  6.09957892e-03,  6.49324572e-03, -1.00077724e-03,\n",
              "              -1.78323407e-03, -2.04286232e-04,  6.24275301e-04, -1.24325161e-03,\n",
              "               1.28599314e-03, -1.03518926e-02, -2.27231137e-03, -4.00489298e-05],\n",
              "             dtype=float32)                                                       ,\n",
              "       nan, ...,\n",
              "       array([ 3.92143521e-03, -4.27638879e-04,  2.96665612e-03,  1.42004923e-03,\n",
              "               7.31336128e-04,  1.12462172e-03, -4.95340861e-03, -3.15048569e-03,\n",
              "               3.51154269e-03,  2.23523495e-03,  2.64111999e-03, -4.35700826e-03,\n",
              "               4.10835352e-03, -1.35616097e-03,  2.76923209e-04, -2.05808482e-03,\n",
              "               1.51222851e-03, -3.66013939e-03, -6.27926376e-04, -2.19163019e-03,\n",
              "              -4.42051655e-03,  1.18750834e-03,  1.41929172e-03, -2.50481046e-03,\n",
              "               3.34151275e-03, -5.21953357e-03,  2.87097273e-03, -3.60336038e-03,\n",
              "               2.78462563e-03,  2.74701533e-03, -8.93075077e-04,  2.86918413e-03,\n",
              "              -2.97362800e-03, -2.88400240e-03,  1.24401611e-03, -6.96318573e-04,\n",
              "               2.14856467e-03,  1.40098436e-03, -2.59685703e-03,  3.62273608e-03,\n",
              "               8.13273306e-04,  4.63706208e-03, -4.55158576e-03,  2.82861595e-03,\n",
              "               3.48513667e-03,  3.17906415e-06,  1.92076783e-03,  8.31658544e-04,\n",
              "              -3.22031765e-03, -1.47961651e-03,  1.19406765e-03,  3.11712804e-03,\n",
              "               8.89406074e-04, -3.42696672e-03,  2.31370516e-03,  1.32946169e-03,\n",
              "               4.20381036e-03, -2.39751278e-03, -2.82337260e-03,  4.14217915e-03,\n",
              "              -1.68990518e-04, -3.91782168e-03,  1.52288214e-03, -1.26639544e-03,\n",
              "              -2.46665860e-03, -4.13742196e-03,  4.59523452e-03, -3.12620425e-03,\n",
              "              -1.52218109e-03,  5.69525734e-03,  5.35143248e-04, -2.82765273e-03,\n",
              "               1.58412952e-03,  2.74791196e-03,  1.36699807e-03, -3.21643054e-03,\n",
              "               2.03761715e-03, -4.87607718e-03,  3.83882620e-03,  2.87541491e-03,\n",
              "              -1.72131491e-04,  3.99721647e-03, -3.58415488e-03, -3.41837551e-03,\n",
              "               4.28743009e-03, -1.86264195e-04, -3.37843364e-03, -2.14480003e-03,\n",
              "              -3.93634755e-03, -4.72960528e-03,  9.14919015e-04,  5.04056178e-03,\n",
              "               1.59671402e-03,  2.18318100e-03, -3.92628834e-03, -1.20329240e-03,\n",
              "               4.37800679e-03,  1.69275759e-03,  5.29687200e-03,  4.79919836e-03,\n",
              "              -2.15146341e-03, -3.34135792e-03, -4.82403487e-03, -2.32214550e-03,\n",
              "              -4.08409303e-03,  2.41976421e-04,  1.95060147e-03,  4.87465644e-03,\n",
              "               3.27185844e-03,  3.73660610e-03,  2.89970660e-03, -4.01521707e-03,\n",
              "              -3.46143206e-04, -2.41540070e-03, -4.26977780e-03, -2.91781453e-03,\n",
              "              -4.14753146e-03, -2.88788870e-04, -2.04814202e-03, -7.47134909e-04,\n",
              "               6.98677090e-04,  4.99364082e-03, -3.29411094e-04, -3.65163363e-03,\n",
              "              -3.58635932e-03,  5.18360641e-04,  3.42348986e-03,  1.61146652e-03,\n",
              "              -3.34873307e-03, -4.00553318e-03,  6.75079005e-04,  5.51156001e-04,\n",
              "              -4.65948181e-03,  4.33323812e-03, -2.12283991e-03,  6.21578423e-04,\n",
              "               2.70576193e-03,  5.20569040e-04, -1.65501272e-03, -3.47507623e-04,\n",
              "               1.83720724e-03,  1.48944580e-03, -3.86699592e-03,  7.40118499e-04,\n",
              "              -2.72297347e-03, -4.86580702e-03,  4.78739239e-04,  5.15727792e-03,\n",
              "              -4.70838370e-03, -1.81274954e-03,  4.94026160e-03,  5.44873823e-04,\n",
              "              -3.93919554e-03,  1.21139376e-04, -3.44167277e-03, -2.33487156e-03,\n",
              "               3.28605622e-03, -3.04382015e-03, -1.01663615e-03,  2.83268804e-04,\n",
              "               2.72212364e-03, -2.83847773e-03, -2.27095815e-03,  2.71958997e-03,\n",
              "               7.67085818e-04,  2.87094782e-03, -3.10224667e-03, -4.99812979e-03,\n",
              "               1.82007020e-03,  4.78975382e-03, -1.38642255e-03,  3.75765795e-03,\n",
              "               3.47104110e-03,  3.61184007e-03, -1.32194022e-04, -3.70375090e-03,\n",
              "              -7.33491324e-04,  4.45875851e-03, -2.64982926e-03,  3.27263540e-03,\n",
              "              -1.50674419e-03,  4.82870964e-03, -4.15607775e-03,  3.68757406e-03,\n",
              "               3.18268687e-03,  2.97416397e-03,  9.92901507e-04,  4.47749990e-05,\n",
              "               5.63914934e-03,  3.02831270e-03,  3.71159520e-03,  1.96214556e-03,\n",
              "               3.71729839e-03, -3.88090545e-03, -2.88950885e-03,  2.92595150e-03,\n",
              "              -3.28900339e-03,  2.21158471e-03, -3.15556908e-03,  4.79088398e-04],\n",
              "             dtype=float32)                                                       ,\n",
              "       array([ 2.26199991e-04, -7.68233382e-04, -1.29399938e-03,  6.24413136e-03,\n",
              "               1.41262133e-02, -6.01366349e-03, -8.47236428e-04,  1.96164120e-02,\n",
              "              -5.35213016e-03,  9.72254202e-03, -8.62419512e-03, -9.50012822e-03,\n",
              "               1.76884606e-03,  8.10606778e-03, -4.91940603e-03, -1.10379541e-02,\n",
              "              -9.07240715e-03,  3.38010490e-03,  3.61034716e-03, -1.59213655e-02,\n",
              "               7.61513924e-03, -1.00471014e-02,  2.88491137e-03,  3.80202732e-03,\n",
              "              -2.81892740e-03, -1.07949236e-02, -2.01942725e-03, -6.61758194e-03,\n",
              "              -1.27618564e-02,  5.84237650e-03,  1.16813760e-02,  2.15236982e-03,\n",
              "               5.88249182e-03, -8.21261667e-04,  3.90519155e-03,  4.60555637e-03,\n",
              "               4.65043867e-03,  1.81589648e-03,  7.28953746e-05, -1.22857075e-02,\n",
              "              -5.83781814e-03, -3.21603776e-03, -2.46435939e-03,  6.15657633e-03,\n",
              "               1.25311008e-02, -4.72262967e-03,  7.46517326e-04, -4.74367384e-03,\n",
              "               7.88765028e-03,  7.81815592e-03,  7.40770018e-03, -2.84057902e-03,\n",
              "              -3.42536578e-03, -1.01307677e-02, -9.43832158e-04, -3.34944087e-03,\n",
              "               7.27286912e-04, -8.60524829e-03, -1.10539468e-02, -9.23220010e-04,\n",
              "              -2.36884644e-03,  1.81558752e-03, -2.26527522e-03,  3.77859746e-04,\n",
              "              -1.39964055e-02,  1.46521302e-03,  3.95728322e-03,  1.67767927e-02,\n",
              "              -1.45247849e-02,  1.92845799e-02, -7.69672683e-04, -9.48792498e-04,\n",
              "               1.26557443e-02,  1.79306371e-03,  2.00125063e-03,  2.65061483e-03,\n",
              "               9.34499688e-03, -1.06874090e-02, -1.72946602e-02,  2.51844351e-04,\n",
              "              -6.05228730e-03, -6.01341249e-03, -9.41358600e-03,  1.29765030e-02,\n",
              "              -1.07795550e-02, -5.59625123e-03, -1.54944789e-03,  1.06020719e-02,\n",
              "               4.82404139e-05, -2.19970080e-03,  3.76943266e-03,  7.71731045e-03,\n",
              "               4.68000956e-03,  8.35804641e-03,  1.48677956e-02,  6.36635954e-03,\n",
              "               6.74079265e-03, -6.79048104e-03,  6.42505381e-03,  8.55983421e-03,\n",
              "              -1.38314702e-02,  1.84477624e-02,  1.81053206e-03, -8.53097904e-03,\n",
              "              -1.07887220e-02, -1.31940562e-02,  3.88907734e-03,  1.15791094e-02,\n",
              "              -3.98945110e-03, -1.39752934e-02, -2.36073346e-03, -1.60682965e-02,\n",
              "              -5.77165326e-03, -3.24909668e-03,  6.06630743e-03, -8.27420224e-03,\n",
              "               5.17620426e-03, -2.22601406e-02, -6.44700660e-04, -5.37689170e-03,\n",
              "              -1.38393487e-03,  1.54271778e-02,  9.97160375e-03, -4.54039872e-03,\n",
              "              -4.89899656e-03,  6.44956669e-03, -8.29598587e-03, -7.69238919e-03,\n",
              "              -2.57803011e-04, -5.93017228e-03,  5.27235633e-03,  5.09074074e-04,\n",
              "              -6.11267937e-03, -5.96346706e-03, -6.56695524e-03,  8.56176950e-03,\n",
              "              -7.19005661e-03, -1.13926232e-02, -4.06925939e-03, -2.04805210e-02,\n",
              "               6.65239291e-03, -1.32496981e-02, -8.36850703e-03, -8.24648701e-03,\n",
              "              -7.12028053e-03, -5.84971672e-03, -8.94727185e-03,  6.64053857e-03,\n",
              "              -3.90341133e-03,  8.27872660e-04, -5.49387187e-05, -7.55926128e-03,\n",
              "               1.47790601e-03,  9.54800472e-03, -1.34078478e-02,  1.06437253e-02,\n",
              "               6.33727061e-03,  6.55380730e-03, -5.76278893e-03, -3.34427576e-04,\n",
              "               8.64091143e-03,  5.82866557e-03, -7.94684421e-03, -2.83662276e-03,\n",
              "              -1.18750206e-03,  4.21792129e-03,  3.62165272e-03, -1.02904849e-02,\n",
              "              -4.50353930e-03,  5.16453478e-03, -9.92891937e-03,  4.99393092e-03,\n",
              "               2.00589723e-03, -9.37396567e-03,  8.75972863e-03,  9.49332397e-03,\n",
              "              -1.29821580e-02,  1.00730257e-02,  3.17311450e-03,  5.09220455e-03,\n",
              "               3.07428162e-03, -1.54747383e-03, -1.71630189e-03,  2.27100425e-03,\n",
              "               8.30717478e-03,  1.03695411e-03, -4.68726177e-03,  9.07727890e-03,\n",
              "               1.45923654e-02,  5.66637889e-03,  8.91927257e-03, -4.73029260e-03,\n",
              "              -3.35144182e-03, -1.06351553e-02,  1.06744841e-02,  6.25136588e-03,\n",
              "               4.14535124e-03, -9.99377389e-03, -2.01913109e-03, -6.70580612e-03],\n",
              "             dtype=float32)                                                       ,\n",
              "       array([ 3.94902891e-04, -1.81209063e-03, -2.61273235e-05, -9.73033195e-04,\n",
              "               4.36500646e-03, -4.50846134e-03,  1.18595781e-03,  2.73393421e-03,\n",
              "               7.94857624e-05, -1.40359905e-03,  2.15087784e-04, -5.47726115e-04,\n",
              "              -1.05765699e-04,  3.61412182e-03, -4.81474475e-04, -1.42716127e-03,\n",
              "               7.40192190e-04,  1.49978022e-03,  2.74616550e-03, -2.58299056e-03,\n",
              "              -1.88433006e-03, -1.92951295e-03,  3.17785540e-03,  5.29744895e-04,\n",
              "               1.18521450e-04,  2.87802919e-04,  5.99371386e-04, -2.06628162e-03,\n",
              "              -1.90481311e-03,  3.00824409e-03,  5.55704581e-03,  1.17098261e-03,\n",
              "               4.46686638e-04, -1.00988848e-03, -2.28900206e-03,  2.37473636e-04,\n",
              "               6.47032284e-05, -5.00654627e-04,  4.41438810e-04, -4.70454153e-03,\n",
              "              -3.46604735e-04, -8.65567359e-04, -1.37012382e-03, -9.17766418e-04,\n",
              "               4.80471784e-03, -3.17312824e-03, -1.47390738e-03, -1.96478592e-04,\n",
              "               3.76700307e-04,  1.42829306e-03,  2.25475687e-03,  4.75311477e-04,\n",
              "              -2.47322069e-03, -6.36329525e-04, -1.43554108e-03, -1.44328817e-03,\n",
              "              -9.16973047e-04, -1.93239027e-03, -2.49390723e-03, -6.43861946e-04,\n",
              "              -1.98273873e-03,  2.60709669e-03, -1.97589048e-03, -3.75421136e-03,\n",
              "              -1.76821975e-03,  2.54521030e-04,  1.08241453e-03,  8.66964576e-04,\n",
              "              -8.30290490e-04,  5.07971691e-03,  9.92921880e-04,  1.59842137e-03,\n",
              "               2.10522907e-03, -2.89735268e-04,  1.89437368e-03,  1.27572427e-03,\n",
              "               2.40592915e-03, -2.80309678e-03, -5.08985668e-03, -2.88465386e-03,\n",
              "               2.58045853e-04, -2.14906712e-03,  1.43714109e-03,  1.35596108e-03,\n",
              "              -2.83603580e-03, -2.56924797e-03,  2.45007395e-04,  2.81813927e-03,\n",
              "              -1.24386791e-03, -1.29729952e-03,  1.35908567e-03, -1.64536526e-03,\n",
              "              -1.66849437e-04,  9.40466532e-04,  2.39478284e-03,  8.00150621e-04,\n",
              "               1.93854712e-03, -1.88542274e-03,  5.42741036e-05,  1.65196939e-03,\n",
              "              -1.45396590e-03,  5.17071038e-03, -1.40560209e-03, -2.36513000e-03,\n",
              "              -1.95457553e-03, -2.10307073e-03,  4.52930923e-04,  6.91897818e-04,\n",
              "              -6.94727409e-04, -4.94238641e-03, -1.54373655e-03, -2.35407171e-03,\n",
              "              -1.83851551e-03, -2.68937275e-03,  5.26585791e-05, -6.17479440e-04,\n",
              "               4.07274754e-04, -2.68282136e-03, -1.19986641e-03,  4.86022676e-04,\n",
              "               1.76235393e-03,  2.68342486e-03, -1.41703873e-03, -1.43229286e-03,\n",
              "               1.78796041e-03,  6.37381396e-04,  1.57819141e-03, -4.18659858e-03,\n",
              "               9.86089814e-04, -4.88312682e-04,  2.41260906e-03,  4.02668864e-03,\n",
              "              -1.06546504e-03, -1.94987515e-03,  3.26172099e-04,  9.29062953e-05,\n",
              "              -1.55070599e-03, -4.58537787e-03, -2.99320533e-03, -3.80658917e-03,\n",
              "               2.14623776e-03, -4.11061430e-03, -6.90111658e-04, -2.13899650e-03,\n",
              "              -7.03041907e-04,  4.27835388e-04, -1.72823900e-03,  1.63972529e-03,\n",
              "              -7.14012422e-05,  2.41621304e-03,  3.19664483e-04, -1.74449920e-03,\n",
              "               9.66440071e-04,  2.39477493e-03, -1.33181852e-03,  4.75313142e-03,\n",
              "               1.10070198e-03,  2.57053552e-03, -1.17647951e-03, -2.26614904e-03,\n",
              "               4.37494018e-04,  4.34075855e-03, -5.53361047e-03, -2.87120137e-03,\n",
              "               7.15947303e-04, -5.40120993e-04,  1.19948981e-03,  1.75402337e-03,\n",
              "               4.65798890e-04,  1.63301593e-04, -4.86450922e-03, -6.42699364e-04,\n",
              "              -2.03910167e-05, -3.03792022e-03,  1.06174324e-04,  1.96120981e-03,\n",
              "              -2.44623725e-03,  3.08941305e-03,  1.72325363e-03,  2.44407030e-03,\n",
              "               1.16652530e-03, -2.27405201e-03, -1.95083953e-03,  5.07205259e-05,\n",
              "               3.67405126e-04,  8.79050815e-04, -5.08635771e-04,  1.54431770e-03,\n",
              "               3.13717173e-03,  1.28172431e-03,  2.31695268e-03, -4.29458771e-04,\n",
              "              -3.01141315e-03, -2.34337570e-03,  2.85734748e-03, -1.64197013e-03,\n",
              "               1.01011363e-03, -2.86791613e-03, -3.67203436e-04,  1.27372949e-03],\n",
              "             dtype=float32)                                                       ],\n",
              "      dtype=object)"
            ]
          },
          "metadata": {},
          "execution_count": 184
        }
      ]
    },
    {
      "cell_type": "code",
      "execution_count": 193,
      "metadata": {
        "colab": {
          "base_uri": "https://localhost:8080/",
          "height": 1000
        },
        "id": "RrUsGMhAFxvf",
        "outputId": "aaa7746c-c93e-404e-9264-fdd961a8b0ef"
      },
      "outputs": [
        {
          "output_type": "stream",
          "name": "stdout",
          "text": [
            "use_ner: True use_pos: True\n",
            "accuracy: 0.1609699094361671\n",
            "              precision    recall  f1-score   support\n",
            "\n",
            "           0       0.29      0.00      0.01      1998\n",
            "           1       0.25      0.05      0.09      1683\n",
            "           2       0.17      0.29      0.21      1657\n",
            "           3       0.25      0.05      0.09      2123\n",
            "           4       0.22      0.29      0.25      1966\n",
            "           5       0.10      0.46      0.16       842\n",
            "\n",
            "    accuracy                           0.16     10269\n",
            "   macro avg       0.21      0.19      0.13     10269\n",
            "weighted avg       0.23      0.16      0.13     10269\n",
            "\n"
          ]
        },
        {
          "output_type": "display_data",
          "data": {
            "text/plain": [
              "<Figure size 640x480 with 2 Axes>"
            ],
            "image/png": "[encoded data removed]"
          },
          "metadata": {}
        },
        {
          "output_type": "stream",
          "name": "stdout",
          "text": [
            "use_ner: True use_pos: False\n",
            "accuracy: 0.1609699094361671\n",
            "              precision    recall  f1-score   support\n",
            "\n",
            "           0       0.29      0.00      0.01      1998\n",
            "           1       0.25      0.05      0.09      1683\n",
            "           2       0.17      0.29      0.21      1657\n",
            "           3       0.25      0.05      0.09      2123\n",
            "           4       0.22      0.29      0.25      1966\n",
            "           5       0.10      0.46      0.16       842\n",
            "\n",
            "    accuracy                           0.16     10269\n",
            "   macro avg       0.21      0.19      0.13     10269\n",
            "weighted avg       0.23      0.16      0.13     10269\n",
            "\n"
          ]
        },
        {
          "output_type": "display_data",
          "data": {
            "text/plain": [
              "<Figure size 640x480 with 2 Axes>"
            ],
            "image/png": "[encoded data removed]"
          },
          "metadata": {}
        },
        {
          "output_type": "stream",
          "name": "stdout",
          "text": [
            "use_ner: False use_pos: True\n",
            "accuracy: 0.1609699094361671\n",
            "              precision    recall  f1-score   support\n",
            "\n",
            "           0       0.29      0.00      0.01      1998\n",
            "           1       0.25      0.05      0.09      1683\n",
            "           2       0.17      0.29      0.21      1657\n",
            "           3       0.25      0.05      0.09      2123\n",
            "           4       0.22      0.29      0.25      1966\n",
            "           5       0.10      0.46      0.16       842\n",
            "\n",
            "    accuracy                           0.16     10269\n",
            "   macro avg       0.21      0.19      0.13     10269\n",
            "weighted avg       0.23      0.16      0.13     10269\n",
            "\n"
          ]
        },
        {
          "output_type": "display_data",
          "data": {
            "text/plain": [
              "<Figure size 640x480 with 2 Axes>"
            ],
            "image/png": "[encoded data removed]"
          },
          "metadata": {}
        }
      ],
      "source": [
        "\n",
        "for use_ner in [True,False]:\n",
        "  for use_pos in [True,False]:\n",
        "    if not use_ner and not use_pos:\n",
        "      pass\n",
        "    else:\n",
        "      \n",
        "    \n",
        "      X_train_embeddings =np.array( imp_word_embedding(train_df['text'].astype(str),model,\\\n",
        "                                              np_vocab,use_pos,use_ner))\n",
        "      X_val_embeddings= np.array(imp_word_embedding(train_df['text'].astype(str),model,\\\n",
        "                                           np_vocab,use_pos,use_ner))\n",
        "      print(\"use_ner:\",use_ner,\"use_pos:\",use_pos)\n",
        "      clf=classifiction_resualts(X_train_embeddings, y_train,X_val_embeddings,y_train)#y_val)\n"
      ]
    },
    {
      "cell_type": "code",
      "execution_count": null,
      "metadata": {
        "id": "3mWHzkNC50wo"
      },
      "outputs": [],
      "source": [
        "# X_train_embeddings = imp_word_embedding(train_df['text'].astype(str).values, model,np_vocab,\n",
        "#                                                   use_pos,use_ner)"
      ]
    },
    {
      "cell_type": "code",
      "execution_count": 180,
      "metadata": {
        "id": "aJuwEzKFROOk",
        "colab": {
          "base_uri": "https://localhost:8080/",
          "height": 254
        },
        "outputId": "da997e4f-134c-47e0-8a04-947b56c81f59"
      },
      "outputs": [
        {
          "output_type": "error",
          "ename": "NameError",
          "evalue": "ignored",
          "traceback": [
            "\u001b[0;31m---------------------------------------------------------------------------\u001b[0m",
            "\u001b[0;31mNameError\u001b[0m                                 Traceback (most recent call last)",
            "\u001b[0;32m<ipython-input-180-957dacd532b7>\u001b[0m in \u001b[0;36m<cell line: 1>\u001b[0;34m()\u001b[0m\n\u001b[1;32m      5\u001b[0m     \u001b[0;32melse\u001b[0m\u001b[0;34m:\u001b[0m\u001b[0;34m\u001b[0m\u001b[0;34m\u001b[0m\u001b[0m\n\u001b[1;32m      6\u001b[0m \u001b[0;34m\u001b[0m\u001b[0m\n\u001b[0;32m----> 7\u001b[0;31m       X_train_embeddings = imp_word_embedding(train_df['text'].astype(str).values, model,vocab,\n\u001b[0m\u001b[1;32m      8\u001b[0m                                                   use_pos,use_ner)\n\u001b[1;32m      9\u001b[0m       X_val_embeddings= imp_word_embedding(train_df['text'].astype(str).values, model,vocab,\n",
            "\u001b[0;31mNameError\u001b[0m: name 'vocab' is not defined"
          ]
        }
      ],
      "source": [
        "\n",
        "# for use_ner in [True,False]:\n",
        "#   for use_pos in [True,False]:\n",
        "#     if not use_ner and not use_pos:\n",
        "#       pass\n",
        "#     else:\n",
        "    \n",
        "#       X_train_embeddings = imp_word_embedding(train_df['text'].astype(str).values, model,vocab,\n",
        "#                                                   use_pos,use_ner)\n",
        "#       X_val_embeddings= imp_word_embedding(val_df['text'].astype(str).values, model,vocab,\n",
        "#                                                 use_pos,use_ner)\n",
        "#       print(\"use_ner:\",use_ner,\"use_pos:\",use_pos)\n",
        "#       clf=classifiction_resualts(X_train_embeddings, y_train,X_val_embeddings,y_val)\n"
      ]
    },
    {
      "cell_type": "code",
      "execution_count": null,
      "metadata": {
        "id": "WjWbGuAqAp2L"
      },
      "outputs": [],
      "source": [
        "# embedding = sentence_embedding()"
      ]
    },
    {
      "cell_type": "code",
      "execution_count": null,
      "metadata": {
        "id": "qpt3aogvU0KQ"
      },
      "outputs": [],
      "source": []
    }
  ],
  "metadata": {
    "colab": {
      "provenance": []
    },
    "kernelspec": {
      "display_name": "Python 3",
      "name": "python3"
    },
    "language_info": {
      "name": "python"
    }
  },
  "nbformat": 4,
  "nbformat_minor": 0
}