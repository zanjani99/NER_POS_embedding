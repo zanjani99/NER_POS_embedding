{
  "cells": [
    {
      "cell_type": "code",
      "execution_count": null,
      "metadata": {
        "colab": {
          "base_uri": "https://localhost:8080/"
        },
        "id": "cGD29lHyzCoO",
        "outputId": "ccfe4f4a-1fcf-463d-bbdb-1c3665464db9"
      },
      "outputs": [
        {
          "output_type": "stream",
          "name": "stdout",
          "text": [
            "Looking in indexes: https://pypi.org/simple, https://us-python.pkg.dev/colab-wheels/public/simple/\n",
            "Requirement already satisfied: sklearn_crfsuite in /usr/local/lib/python3.10/dist-packages (0.3.6)\n",
            "Requirement already satisfied: python-crfsuite>=0.8.3 in /usr/local/lib/python3.10/dist-packages (from sklearn_crfsuite) (0.9.9)\n",
            "Requirement already satisfied: six in /usr/local/lib/python3.10/dist-packages (from sklearn_crfsuite) (1.16.0)\n",
            "Requirement already satisfied: tabulate in /usr/local/lib/python3.10/dist-packages (from sklearn_crfsuite) (0.8.10)\n",
            "Requirement already satisfied: tqdm>=2.0 in /usr/local/lib/python3.10/dist-packages (from sklearn_crfsuite) (4.65.0)\n",
            "Looking in indexes: https://pypi.org/simple, https://us-python.pkg.dev/colab-wheels/public/simple/\n",
            "Requirement already satisfied: eli5 in /usr/local/lib/python3.10/dist-packages (0.13.0)\n",
            "Requirement already satisfied: attrs>17.1.0 in /usr/local/lib/python3.10/dist-packages (from eli5) (23.1.0)\n",
            "Requirement already satisfied: jinja2>=3.0.0 in /usr/local/lib/python3.10/dist-packages (from eli5) (3.1.2)\n",
            "Requirement already satisfied: numpy>=1.9.0 in /usr/local/lib/python3.10/dist-packages (from eli5) (1.22.4)\n",
            "Requirement already satisfied: scipy in /usr/local/lib/python3.10/dist-packages (from eli5) (1.10.1)\n",
            "Requirement already satisfied: six in /usr/local/lib/python3.10/dist-packages (from eli5) (1.16.0)\n",
            "Requirement already satisfied: scikit-learn>=0.20 in /usr/local/lib/python3.10/dist-packages (from eli5) (1.2.2)\n",
            "Requirement already satisfied: graphviz in /usr/local/lib/python3.10/dist-packages (from eli5) (0.20.1)\n",
            "Requirement already satisfied: tabulate>=0.7.7 in /usr/local/lib/python3.10/dist-packages (from eli5) (0.8.10)\n",
            "Requirement already satisfied: MarkupSafe>=2.0 in /usr/local/lib/python3.10/dist-packages (from jinja2>=3.0.0->eli5) (2.1.2)\n",
            "Requirement already satisfied: joblib>=1.1.1 in /usr/local/lib/python3.10/dist-packages (from scikit-learn>=0.20->eli5) (1.2.0)\n",
            "Requirement already satisfied: threadpoolctl>=2.0.0 in /usr/local/lib/python3.10/dist-packages (from scikit-learn>=0.20->eli5) (3.1.0)\n"
          ]
        }
      ],
      "source": [
        "!pip install sklearn_crfsuite\n",
        "! pip install eli5"
      ]
    },
    {
      "cell_type": "code",
      "execution_count": null,
      "metadata": {
        "id": "-jMxKrQHjL-J"
      },
      "outputs": [],
      "source": [
        "import nltk\n",
        "import sklearn\n",
        "from sklearn.metrics import classification_report, confusion_matrix\n",
        "from sklearn.preprocessing import LabelBinarizer\n",
        "import sklearn_crfsuite as crfsuite\n",
        "from sklearn_crfsuite import metrics\n",
        "from sklearn.metrics import confusion_matrix, ConfusionMatrixDisplay\n",
        "import matplotlib.pyplot as plt\n",
        "from sklearn_crfsuite.utils import flatten\n",
        "from functools import wraps"
      ]
    },
    {
      "cell_type": "code",
      "source": [
        "\n",
        "import joblib"
      ],
      "metadata": {
        "id": "l4l5QpbQmrUS"
      },
      "execution_count": null,
      "outputs": []
    },
    {
      "cell_type": "code",
      "execution_count": null,
      "metadata": {
        "colab": {
          "base_uri": "https://localhost:8080/"
        },
        "id": "zP0Xb_WKYOiq",
        "outputId": "a5f74f98-0c27-45d6-a8e0-0e0cd3591b99"
      },
      "outputs": [
        {
          "output_type": "stream",
          "name": "stderr",
          "text": [
            "[nltk_data] Downloading package punkt to /root/nltk_data...\n",
            "[nltk_data]   Package punkt is already up-to-date!\n",
            "[nltk_data] Downloading package averaged_perceptron_tagger to\n",
            "[nltk_data]     /root/nltk_data...\n",
            "[nltk_data]   Package averaged_perceptron_tagger is already up-to-\n",
            "[nltk_data]       date!\n",
            "[nltk_data] Downloading package universal_tagset to /root/nltk_data...\n",
            "[nltk_data]   Package universal_tagset is already up-to-date!\n",
            "[nltk_data] Downloading package treebank to /root/nltk_data...\n",
            "[nltk_data]   Package treebank is already up-to-date!\n"
          ]
        },
        {
          "output_type": "execute_result",
          "data": {
            "text/plain": [
              "True"
            ]
          },
          "metadata": {},
          "execution_count": 44
        }
      ],
      "source": [
        "import  nltk\n",
        "from nltk import word_tokenize\n",
        "\n",
        "nltk.download('punkt')\n",
        "nltk.download('averaged_perceptron_tagger')\n",
        "nltk.download('universal_tagset')\n",
        "nltk.download('treebank')"
      ]
    },
    {
      "cell_type": "code",
      "execution_count": null,
      "metadata": {
        "id": "4n_qv5dPW6dM"
      },
      "outputs": [],
      "source": [
        "def load_dataset(X_file,y_file,pos_file):\n",
        "  '''laod data set and crete list of tuples (word,tag) '''\n",
        "  X=[]\n",
        "  with open(X_file) as f:\n",
        "    # X_train=f.read().splitlines()\n",
        "    for line in f:\n",
        "      X.append(word_tokenize(line))\n",
        "\n",
        "  y=[]\n",
        "  with open(y_file) as f:\n",
        "    for line in f:\n",
        "      y.append(word_tokenize(line))\n",
        "  tag=[]\n",
        "  with open(pos_file) as f:\n",
        "    for line in f:\n",
        "      tag.append(eval(line))\n",
        "\n",
        "  dataset= [[(x,t,y) for x,t,y in zip(sublist1,sublist_t, sublist2)] \\\n",
        "                  for sublist1, sublist_t,sublist2 in zip(X, tag,y)]\n",
        "  return dataset"
      ]
    },
    {
      "cell_type": "code",
      "execution_count": null,
      "metadata": {
        "id": "aGajTKGdXLoy",
        "colab": {
          "base_uri": "https://localhost:8080/",
          "height": 324
        },
        "outputId": "5368f195-5d6b-45af-eadb-c3ac454d98f0"
      },
      "outputs": [
        {
          "output_type": "error",
          "ename": "FileNotFoundError",
          "evalue": "ignored",
          "traceback": [
            "\u001b[0;31m---------------------------------------------------------------------------\u001b[0m",
            "\u001b[0;31mFileNotFoundError\u001b[0m                         Traceback (most recent call last)",
            "\u001b[0;32m<ipython-input-46-41cc1f5396f7>\u001b[0m in \u001b[0;36m<cell line: 1>\u001b[0;34m()\u001b[0m\n\u001b[0;32m----> 1\u001b[0;31m \u001b[0mtrain_set\u001b[0m\u001b[0;34m=\u001b[0m\u001b[0mload_dataset\u001b[0m\u001b[0;34m(\u001b[0m\u001b[0;34m\"NERtr_in.txt\"\u001b[0m\u001b[0;34m,\u001b[0m\u001b[0;34m\"NERtr_out.txt\"\u001b[0m\u001b[0;34m,\u001b[0m\u001b[0;34m'pos_tag_train_ner.txt'\u001b[0m\u001b[0;34m)\u001b[0m\u001b[0;34m\u001b[0m\u001b[0;34m\u001b[0m\u001b[0m\n\u001b[0m\u001b[1;32m      2\u001b[0m \u001b[0mval_set\u001b[0m\u001b[0;34m=\u001b[0m\u001b[0mload_dataset\u001b[0m\u001b[0;34m(\u001b[0m\u001b[0;34m\"NERvalid_in.txt\"\u001b[0m\u001b[0;34m,\u001b[0m\u001b[0;34m\"NERvalid_out.txt\"\u001b[0m\u001b[0;34m,\u001b[0m\u001b[0;34m'pos_tag_val_ner.txt'\u001b[0m\u001b[0;34m)\u001b[0m\u001b[0;34m\u001b[0m\u001b[0;34m\u001b[0m\u001b[0m\n\u001b[1;32m      3\u001b[0m \u001b[0mtest_set\u001b[0m\u001b[0;34m=\u001b[0m\u001b[0mload_dataset\u001b[0m\u001b[0;34m(\u001b[0m\u001b[0;34m\"NERtest_in.txt\"\u001b[0m\u001b[0;34m,\u001b[0m\u001b[0;34m\"NERtest_out.txt\"\u001b[0m\u001b[0;34m,\u001b[0m\u001b[0;34m'pos_tag_test_ner.txt'\u001b[0m\u001b[0;34m)\u001b[0m\u001b[0;34m\u001b[0m\u001b[0;34m\u001b[0m\u001b[0m\n",
            "\u001b[0;32m<ipython-input-45-65bec18452ea>\u001b[0m in \u001b[0;36mload_dataset\u001b[0;34m(X_file, y_file, pos_file)\u001b[0m\n\u001b[1;32m      2\u001b[0m   \u001b[0;34m'''laod data set and crete list of tuples (word,tag) '''\u001b[0m\u001b[0;34m\u001b[0m\u001b[0;34m\u001b[0m\u001b[0m\n\u001b[1;32m      3\u001b[0m   \u001b[0mX\u001b[0m\u001b[0;34m=\u001b[0m\u001b[0;34m[\u001b[0m\u001b[0;34m]\u001b[0m\u001b[0;34m\u001b[0m\u001b[0;34m\u001b[0m\u001b[0m\n\u001b[0;32m----> 4\u001b[0;31m   \u001b[0;32mwith\u001b[0m \u001b[0mopen\u001b[0m\u001b[0;34m(\u001b[0m\u001b[0mX_file\u001b[0m\u001b[0;34m)\u001b[0m \u001b[0;32mas\u001b[0m \u001b[0mf\u001b[0m\u001b[0;34m:\u001b[0m\u001b[0;34m\u001b[0m\u001b[0;34m\u001b[0m\u001b[0m\n\u001b[0m\u001b[1;32m      5\u001b[0m     \u001b[0;31m# X_train=f.read().splitlines()\u001b[0m\u001b[0;34m\u001b[0m\u001b[0;34m\u001b[0m\u001b[0m\n\u001b[1;32m      6\u001b[0m     \u001b[0;32mfor\u001b[0m \u001b[0mline\u001b[0m \u001b[0;32min\u001b[0m \u001b[0mf\u001b[0m\u001b[0;34m:\u001b[0m\u001b[0;34m\u001b[0m\u001b[0;34m\u001b[0m\u001b[0m\n",
            "\u001b[0;31mFileNotFoundError\u001b[0m: [Errno 2] No such file or directory: 'NERtr_in.txt'"
          ]
        }
      ],
      "source": [
        "train_set=load_dataset(\"NERtr_in.txt\",\"NERtr_out.txt\",'pos_tag_train_ner.txt')\n",
        "val_set=load_dataset(\"NERvalid_in.txt\",\"NERvalid_out.txt\",'pos_tag_val_ner.txt')\n",
        "test_set=load_dataset(\"NERtest_in.txt\",\"NERtest_out.txt\",'pos_tag_test_ner.txt')\n"
      ]
    },
    {
      "cell_type": "code",
      "execution_count": null,
      "metadata": {
        "id": "xtNGtHTuzQ1w"
      },
      "outputs": [],
      "source": [
        "# nltk.download('conll2002')"
      ]
    },
    {
      "cell_type": "code",
      "execution_count": null,
      "metadata": {
        "colab": {
          "base_uri": "https://localhost:8080/"
        },
        "id": "VqBGUMxi0_FX",
        "outputId": "b6ef209c-c049-4971-f63a-a36e4089e1d7"
      },
      "outputs": [
        {
          "output_type": "stream",
          "name": "stdout",
          "text": [
            "--2023-05-13 15:15:43--  https://raw.githubusercontent.com/nlptown/nlp-notebooks/master/data/embeddings/clusters_nl.tsv\n",
            "Resolving raw.githubusercontent.com (raw.githubusercontent.com)... 185.199.108.133, 185.199.109.133, 185.199.110.133, ...\n",
            "Connecting to raw.githubusercontent.com (raw.githubusercontent.com)|185.199.108.133|:443... connected.\n",
            "HTTP request sent, awaiting response... 200 OK\n",
            "Length: 459810 (449K) [text/plain]\n",
            "Saving to: ‘clusters_nl.tsv’\n",
            "\n",
            "\rclusters_nl.tsv       0%[                    ]       0  --.-KB/s               \rclusters_nl.tsv     100%[===================>] 449.03K  --.-KB/s    in 0.007s  \n",
            "\n",
            "2023-05-13 15:15:44 (67.2 MB/s) - ‘clusters_nl.tsv’ saved [459810/459810]\n",
            "\n"
          ]
        }
      ],
      "source": [
        "! wget https://raw.githubusercontent.com/nlptown/nlp-notebooks/master/data/embeddings/clusters_nl.tsv"
      ]
    },
    {
      "cell_type": "code",
      "execution_count": null,
      "metadata": {
        "id": "I4ZTyiMyzX92"
      },
      "outputs": [],
      "source": [
        "def read_clusters(cluster_file):\n",
        "    word2cluster = {}\n",
        "    with open(cluster_file) as i:\n",
        "        for line in i:\n",
        "            word, cluster = line.strip().split('\\t')\n",
        "            word2cluster[word] = cluster\n",
        "    return word2cluster\n",
        "  "
      ]
    },
    {
      "cell_type": "code",
      "execution_count": null,
      "metadata": {
        "id": "GspJPfT70nh7"
      },
      "outputs": [],
      "source": [
        "word2cluster=read_clusters(\"clusters_nl.tsv\")"
      ]
    },
    {
      "cell_type": "code",
      "execution_count": null,
      "metadata": {
        "id": "NUJluSIU1F80"
      },
      "outputs": [],
      "source": [
        "\n",
        "def ner_word2features(sent, i, word2cluster):\n",
        "    word = sent[i][0]\n",
        "    postag = sent[i][1]\n",
        "    features = [\n",
        "        'bias',\n",
        "        'word.lower=' + word.lower(),\n",
        "        'word[-3:]=' + word[-3:],\n",
        "        'word[-2:]=' + word[-2:],\n",
        "        'word.isupper=%s' % word.isupper(),\n",
        "        'word.istitle=%s' % word.istitle(),\n",
        "        'word.isdigit=%s' % word.isdigit(),\n",
        "        'word.cluster=%s' % word2cluster[word.lower()] if word.lower() in word2cluster else \"0\",\n",
        "        'postag=' + postag\n",
        "    ]\n",
        "    if i > 0:\n",
        "        word1 = sent[i-1][0]\n",
        "        postag1 = sent[i-1][1]\n",
        "        features.extend([\n",
        "            '-1:word.lower=' + word1.lower(),\n",
        "            '-1:word.istitle=%s' % word1.istitle(),\n",
        "            '-1:word.isupper=%s' % word1.isupper(),\n",
        "            '-1:postag=' + postag1\n",
        "        ])\n",
        "    else:\n",
        "        features.append('BOS')\n",
        "\n",
        "    if i > 1: \n",
        "        word2 = sent[i-2][0]\n",
        "        postag2 = sent[i-2][1]\n",
        "        features.extend([\n",
        "            '-2:word.lower=' + word2.lower(),\n",
        "            '-2:word.istitle=%s' % word2.istitle(),\n",
        "            '-2:word.isupper=%s' % word2.isupper(),\n",
        "            '-2:postag=' + postag2\n",
        "        ])        \n",
        "\n",
        "        \n",
        "    if i < len(sent)-1:\n",
        "        word1 = sent[i+1][0]\n",
        "        postag1 = sent[i+1][1]\n",
        "        features.extend([\n",
        "            '+1:word.lower=' + word1.lower(),\n",
        "            '+1:word.istitle=%s' % word1.istitle(),\n",
        "            '+1:word.isupper=%s' % word1.isupper(),\n",
        "            '+1:postag=' + postag1\n",
        "        ])\n",
        "    else:\n",
        "        features.append('EOS')\n",
        "\n",
        "    if i < len(sent)-2:\n",
        "        word2 = sent[i+2][0]\n",
        "        postag2 = sent[i+2][1]\n",
        "        features.extend([\n",
        "            '+2:word.lower=' + word2.lower(),\n",
        "            '+2:word.istitle=%s' % word2.istitle(),\n",
        "            '+2:word.isupper=%s' % word2.isupper(),\n",
        "            '+2:postag=' + postag2\n",
        "        ])\n",
        "\n",
        "        \n",
        "    return features"
      ]
    },
    {
      "cell_type": "code",
      "execution_count": null,
      "metadata": {
        "id": "1GsxlM2t28Xl"
      },
      "outputs": [],
      "source": [
        "def ner_sent2features(sent, word2cluster):\n",
        "    return [ner_word2features(sent, i, word2cluster) for i in range(len(sent))]\n",
        "\n",
        "def ner_sent2labels(sent):\n",
        "    return [label for token, postag, label in sent]\n",
        "\n",
        "def ner_sent2tokens(sent):\n",
        "    return [token for token, postag, label in sent]\n",
        "    "
      ]
    },
    {
      "cell_type": "code",
      "execution_count": null,
      "metadata": {
        "colab": {
          "base_uri": "https://localhost:8080/",
          "height": 167
        },
        "id": "_FlnLbxM3AD1",
        "outputId": "a298e8c0-3561-4432-e74f-1c45e168bbda"
      },
      "outputs": [
        {
          "output_type": "error",
          "ename": "NameError",
          "evalue": "ignored",
          "traceback": [
            "\u001b[0;31m---------------------------------------------------------------------------\u001b[0m",
            "\u001b[0;31mNameError\u001b[0m                                 Traceback (most recent call last)",
            "\u001b[0;32m<ipython-input-36-827239502107>\u001b[0m in \u001b[0;36m<cell line: 1>\u001b[0;34m()\u001b[0m\n\u001b[0;32m----> 1\u001b[0;31m \u001b[0msent2features\u001b[0m\u001b[0;34m(\u001b[0m\u001b[0mtrain_set\u001b[0m\u001b[0;34m[\u001b[0m\u001b[0;36m0\u001b[0m\u001b[0;34m]\u001b[0m\u001b[0;34m,\u001b[0m \u001b[0mword2cluster\u001b[0m\u001b[0;34m)\u001b[0m\u001b[0;34m[\u001b[0m\u001b[0;36m1\u001b[0m\u001b[0;34m]\u001b[0m\u001b[0;34m\u001b[0m\u001b[0;34m\u001b[0m\u001b[0m\n\u001b[0m",
            "\u001b[0;31mNameError\u001b[0m: name 'train_set' is not defined"
          ]
        }
      ],
      "source": [
        "# ner_sent2features(train_set[0], word2cluster)[1]"
      ]
    },
    {
      "cell_type": "code",
      "execution_count": null,
      "metadata": {
        "id": "82wFG1sX3DhL"
      },
      "outputs": [],
      "source": [
        "\n",
        "\n",
        "X_train = [ner_sent2features(s, word2cluster) for s in train_set]\n",
        "y_train = [ner_sent2labels(s) for s in train_set]\n",
        "\n",
        "X_val = [ner_sent2features(s, word2cluster) for s in val_set]\n",
        "y_val = [ner_sent2labels(s) for s in val_set]\n",
        "\n",
        "X_test = [ner_sent2features(s, word2cluster) for s in test_set]\n",
        "y_test = [ner_sent2labels(s) for s in test_set]"
      ]
    },
    {
      "cell_type": "code",
      "execution_count": null,
      "metadata": {
        "colab": {
          "base_uri": "https://localhost:8080/"
        },
        "id": "3KdCQqK052FI",
        "outputId": "db2034f7-97b4-4381-8ffa-2d253b19f16d"
      },
      "outputs": [
        {
          "output_type": "stream",
          "name": "stderr",
          "text": [
            "loading training data to CRFsuite: 100%|██████████| 6973/6973 [00:06<00:00, 1108.50it/s]\n"
          ]
        },
        {
          "output_type": "stream",
          "name": "stdout",
          "text": [
            "\n"
          ]
        },
        {
          "output_type": "stream",
          "name": "stderr",
          "text": [
            "loading dev data to CRFsuite: 100%|██████████| 1739/1739 [00:02<00:00, 740.55it/s]\n"
          ]
        },
        {
          "output_type": "stream",
          "name": "stdout",
          "text": [
            "\n",
            "Holdout group: 2\n",
            "\n",
            "Feature generation\n",
            "type: CRF1d\n",
            "feature.minfreq: 0.000000\n",
            "feature.possible_states: 0\n",
            "feature.possible_transitions: 1\n",
            "0....1....2....3....4....5....6....7....8....9....10\n",
            "Number of features: 150836\n",
            "Seconds required: 1.609\n",
            "\n",
            "L-BFGS optimization\n",
            "c1: 0.100000\n",
            "c2: 0.100000\n",
            "num_memories: 6\n",
            "max_iterations: 200\n",
            "epsilon: 0.000010\n",
            "stop: 10\n",
            "delta: 0.000010\n",
            "linesearch: MoreThuente\n",
            "linesearch.max_iterations: 20\n",
            "\n",
            "Iter 1   time=1.15  loss=152952.72 active=150054 precision=0.093  recall=0.111  F1=0.101  Acc(item/seq)=0.833 0.160  feature_norm=1.00\n",
            "Iter 2   time=0.70  loss=149626.65 active=140681 precision=0.093  recall=0.111  F1=0.101  Acc(item/seq)=0.833 0.160  feature_norm=1.05\n",
            "Iter 3   time=0.69  loss=132128.24 active=138719 precision=0.093  recall=0.111  F1=0.101  Acc(item/seq)=0.833 0.160  feature_norm=1.37\n",
            "Iter 4   time=0.69  loss=105522.95 active=147244 precision=0.153  recall=0.118  F1=0.114  Acc(item/seq)=0.833 0.160  feature_norm=2.29\n",
            "Iter 5   time=0.70  loss=95035.97 active=144893 precision=0.326  recall=0.263  F1=0.255  Acc(item/seq)=0.860 0.177  feature_norm=3.05\n",
            "Iter 6   time=0.68  loss=86239.05 active=118439 precision=0.272  recall=0.287  F1=0.264  Acc(item/seq)=0.865 0.185  feature_norm=3.99\n",
            "Iter 7   time=0.69  loss=77735.23 active=116684 precision=0.438  recall=0.358  F1=0.364  Acc(item/seq)=0.874 0.208  feature_norm=4.85\n",
            "Iter 8   time=0.44  loss=70264.97 active=111453 precision=0.485  recall=0.361  F1=0.362  Acc(item/seq)=0.881 0.222  feature_norm=6.08\n",
            "Iter 9   time=0.46  loss=64112.65 active=109554 precision=0.456  recall=0.428  F1=0.431  Acc(item/seq)=0.887 0.247  feature_norm=7.44\n",
            "Iter 10  time=0.70  loss=60172.88 active=108515 precision=0.694  recall=0.407  F1=0.435  Acc(item/seq)=0.890 0.235  feature_norm=8.63\n",
            "Iter 11  time=0.70  loss=56867.58 active=105466 precision=0.621  recall=0.474  F1=0.494  Acc(item/seq)=0.894 0.283  feature_norm=9.98\n",
            "Iter 12  time=0.68  loss=53440.73 active=105026 precision=0.675  recall=0.470  F1=0.512  Acc(item/seq)=0.898 0.279  feature_norm=11.36\n",
            "Iter 13  time=0.68  loss=50007.83 active=103825 precision=0.659  recall=0.518  F1=0.553  Acc(item/seq)=0.902 0.305  feature_norm=13.23\n",
            "Iter 14  time=0.67  loss=45764.19 active=102101 precision=0.707  recall=0.570  F1=0.621  Acc(item/seq)=0.915 0.344  feature_norm=16.31\n",
            "Iter 15  time=0.70  loss=42035.29 active=99139 precision=0.720  recall=0.621  F1=0.662  Acc(item/seq)=0.922 0.387  feature_norm=19.76\n",
            "Iter 16  time=0.68  loss=40494.91 active=97319 precision=0.712  recall=0.652  F1=0.673  Acc(item/seq)=0.921 0.405  feature_norm=22.96\n",
            "Iter 17  time=0.43  loss=38181.37 active=98471 precision=0.741  recall=0.654  F1=0.687  Acc(item/seq)=0.926 0.426  feature_norm=24.37\n",
            "Iter 18  time=0.42  loss=36727.23 active=97861 precision=0.750  recall=0.671  F1=0.704  Acc(item/seq)=0.929 0.450  feature_norm=26.14\n",
            "Iter 19  time=0.44  loss=34900.20 active=94236 precision=0.720  recall=0.704  F1=0.707  Acc(item/seq)=0.929 0.477  feature_norm=35.08\n",
            "Iter 20  time=0.42  loss=32685.07 active=97341 precision=0.765  recall=0.698  F1=0.728  Acc(item/seq)=0.934 0.491  feature_norm=35.28\n",
            "Iter 21  time=0.43  loss=32266.94 active=97323 precision=0.768  recall=0.699  F1=0.730  Acc(item/seq)=0.935 0.492  feature_norm=35.77\n",
            "Iter 22  time=0.43  loss=30508.40 active=95184 precision=0.770  recall=0.714  F1=0.739  Acc(item/seq)=0.937 0.511  feature_norm=39.60\n",
            "Iter 23  time=0.44  loss=28829.13 active=93703 precision=0.796  recall=0.724  F1=0.756  Acc(item/seq)=0.940 0.524  feature_norm=44.08\n",
            "Iter 24  time=0.42  loss=27117.21 active=90594 precision=0.799  recall=0.746  F1=0.767  Acc(item/seq)=0.940 0.557  feature_norm=48.44\n",
            "Iter 25  time=0.41  loss=25529.40 active=90908 precision=0.819  recall=0.747  F1=0.778  Acc(item/seq)=0.944 0.572  feature_norm=53.47\n",
            "Iter 26  time=0.43  loss=24084.77 active=88967 precision=0.809  recall=0.770  F1=0.787  Acc(item/seq)=0.945 0.584  feature_norm=58.96\n",
            "Iter 27  time=0.42  loss=22629.95 active=88788 precision=0.830  recall=0.766  F1=0.795  Acc(item/seq)=0.947 0.596  feature_norm=64.69\n",
            "Iter 28  time=0.42  loss=21053.53 active=87655 precision=0.818  recall=0.789  F1=0.803  Acc(item/seq)=0.948 0.606  feature_norm=72.13\n",
            "Iter 29  time=0.42  loss=19581.51 active=85135 precision=0.837  recall=0.781  F1=0.807  Acc(item/seq)=0.949 0.615  feature_norm=80.14\n",
            "Iter 30  time=0.62  loss=18166.21 active=84335 precision=0.827  recall=0.793  F1=0.809  Acc(item/seq)=0.949 0.627  feature_norm=90.40\n",
            "Iter 31  time=0.65  loss=16810.21 active=83592 precision=0.848  recall=0.783  F1=0.813  Acc(item/seq)=0.950 0.630  feature_norm=101.51\n",
            "Iter 32  time=0.66  loss=15657.85 active=80810 precision=0.846  recall=0.794  F1=0.818  Acc(item/seq)=0.951 0.650  feature_norm=110.36\n",
            "Iter 33  time=0.66  loss=14630.02 active=79889 precision=0.852  recall=0.793  F1=0.821  Acc(item/seq)=0.952 0.653  feature_norm=119.43\n",
            "Iter 34  time=0.42  loss=13830.36 active=78155 precision=0.837  recall=0.800  F1=0.816  Acc(item/seq)=0.951 0.665  feature_norm=130.30\n",
            "Iter 35  time=0.43  loss=13099.50 active=78325 precision=0.857  recall=0.798  F1=0.825  Acc(item/seq)=0.952 0.661  feature_norm=135.61\n",
            "Iter 36  time=0.43  loss=12648.23 active=77671 precision=0.854  recall=0.799  F1=0.824  Acc(item/seq)=0.952 0.660  feature_norm=140.40\n",
            "Iter 37  time=0.41  loss=12097.03 active=74252 precision=0.862  recall=0.794  F1=0.825  Acc(item/seq)=0.953 0.657  feature_norm=147.46\n",
            "Iter 38  time=0.43  loss=11980.24 active=72527 precision=0.852  recall=0.800  F1=0.824  Acc(item/seq)=0.951 0.657  feature_norm=152.82\n",
            "Iter 39  time=0.42  loss=11692.91 active=72934 precision=0.859  recall=0.799  F1=0.826  Acc(item/seq)=0.953 0.659  feature_norm=153.45\n",
            "Iter 40  time=0.42  loss=11592.09 active=72715 precision=0.860  recall=0.798  F1=0.827  Acc(item/seq)=0.953 0.660  feature_norm=154.37\n",
            "Iter 41  time=0.42  loss=11400.55 active=71991 precision=0.859  recall=0.801  F1=0.828  Acc(item/seq)=0.953 0.662  feature_norm=156.60\n",
            "Iter 42  time=1.18  loss=11335.36 active=71525 precision=0.867  recall=0.792  F1=0.826  Acc(item/seq)=0.953 0.654  feature_norm=158.24\n",
            "Iter 43  time=0.43  loss=11131.39 active=70856 precision=0.860  recall=0.799  F1=0.827  Acc(item/seq)=0.953 0.658  feature_norm=161.60\n",
            "Iter 44  time=0.44  loss=11043.69 active=69412 precision=0.866  recall=0.799  F1=0.830  Acc(item/seq)=0.953 0.662  feature_norm=162.62\n",
            "Iter 45  time=0.44  loss=10917.08 active=66215 precision=0.862  recall=0.799  F1=0.828  Acc(item/seq)=0.953 0.661  feature_norm=165.17\n",
            "Iter 46  time=0.45  loss=10852.78 active=66030 precision=0.866  recall=0.797  F1=0.828  Acc(item/seq)=0.953 0.660  feature_norm=164.96\n",
            "Iter 47  time=0.42  loss=10806.12 active=65330 precision=0.865  recall=0.799  F1=0.829  Acc(item/seq)=0.953 0.661  feature_norm=165.30\n",
            "Iter 48  time=0.53  loss=10703.93 active=63735 precision=0.864  recall=0.799  F1=0.828  Acc(item/seq)=0.952 0.658  feature_norm=166.53\n",
            "Iter 49  time=0.70  loss=10697.04 active=63166 precision=0.867  recall=0.796  F1=0.829  Acc(item/seq)=0.953 0.656  feature_norm=167.70\n",
            "Iter 50  time=0.69  loss=10633.82 active=63303 precision=0.865  recall=0.798  F1=0.829  Acc(item/seq)=0.953 0.658  feature_norm=167.69\n",
            "Iter 51  time=0.63  loss=10605.70 active=62773 precision=0.864  recall=0.798  F1=0.828  Acc(item/seq)=0.953 0.657  feature_norm=168.01\n",
            "Iter 52  time=0.71  loss=10559.42 active=61959 precision=0.866  recall=0.798  F1=0.829  Acc(item/seq)=0.953 0.658  feature_norm=168.51\n",
            "Iter 53  time=0.71  loss=10492.06 active=60844 precision=0.862  recall=0.799  F1=0.828  Acc(item/seq)=0.953 0.661  feature_norm=169.19\n",
            "Iter 54  time=0.71  loss=10450.81 active=60200 precision=0.866  recall=0.794  F1=0.827  Acc(item/seq)=0.953 0.653  feature_norm=169.32\n",
            "Iter 55  time=0.56  loss=10412.99 active=59898 precision=0.864  recall=0.799  F1=0.829  Acc(item/seq)=0.953 0.657  feature_norm=169.54\n",
            "Iter 56  time=0.43  loss=10361.76 active=58992 precision=0.863  recall=0.802  F1=0.830  Acc(item/seq)=0.953 0.660  feature_norm=169.71\n",
            "Iter 57  time=1.52  loss=10359.01 active=58831 precision=0.865  recall=0.801  F1=0.830  Acc(item/seq)=0.953 0.662  feature_norm=169.71\n",
            "Iter 58  time=0.42  loss=10319.88 active=58514 precision=0.865  recall=0.800  F1=0.830  Acc(item/seq)=0.953 0.657  feature_norm=169.81\n",
            "Iter 59  time=0.43  loss=10292.78 active=58084 precision=0.862  recall=0.801  F1=0.829  Acc(item/seq)=0.953 0.660  feature_norm=169.93\n",
            "Iter 60  time=0.42  loss=10262.14 active=57632 precision=0.863  recall=0.798  F1=0.828  Acc(item/seq)=0.953 0.658  feature_norm=169.94\n",
            "Iter 61  time=0.42  loss=10235.04 active=57276 precision=0.859  recall=0.803  F1=0.829  Acc(item/seq)=0.953 0.662  feature_norm=170.14\n",
            "Iter 62  time=0.42  loss=10211.15 active=56981 precision=0.864  recall=0.799  F1=0.829  Acc(item/seq)=0.953 0.661  feature_norm=170.13\n",
            "Iter 63  time=0.42  loss=10187.58 active=56682 precision=0.859  recall=0.801  F1=0.828  Acc(item/seq)=0.953 0.662  feature_norm=170.23\n",
            "Iter 64  time=0.43  loss=10164.34 active=56227 precision=0.865  recall=0.801  F1=0.830  Acc(item/seq)=0.953 0.664  feature_norm=170.26\n",
            "Iter 65  time=0.41  loss=10144.12 active=55929 precision=0.859  recall=0.801  F1=0.828  Acc(item/seq)=0.953 0.661  feature_norm=170.38\n",
            "Iter 66  time=0.42  loss=10126.39 active=55683 precision=0.865  recall=0.800  F1=0.830  Acc(item/seq)=0.953 0.663  feature_norm=170.36\n",
            "Iter 67  time=0.43  loss=10109.19 active=55349 precision=0.861  recall=0.801  F1=0.828  Acc(item/seq)=0.953 0.663  feature_norm=170.43\n",
            "Iter 68  time=0.42  loss=10092.66 active=54982 precision=0.865  recall=0.800  F1=0.830  Acc(item/seq)=0.953 0.664  feature_norm=170.42\n",
            "Iter 69  time=0.42  loss=10078.77 active=54722 precision=0.861  recall=0.801  F1=0.828  Acc(item/seq)=0.953 0.661  feature_norm=170.49\n",
            "Iter 70  time=0.42  loss=10065.85 active=54511 precision=0.864  recall=0.803  F1=0.831  Acc(item/seq)=0.953 0.664  feature_norm=170.46\n",
            "Iter 71  time=0.42  loss=10052.54 active=54222 precision=0.861  recall=0.803  F1=0.830  Acc(item/seq)=0.953 0.660  feature_norm=170.49\n",
            "Iter 72  time=0.64  loss=10041.01 active=53929 precision=0.862  recall=0.801  F1=0.829  Acc(item/seq)=0.953 0.662  feature_norm=170.43\n",
            "Iter 73  time=0.65  loss=10029.91 active=53693 precision=0.861  recall=0.803  F1=0.830  Acc(item/seq)=0.953 0.659  feature_norm=170.45\n",
            "Iter 74  time=0.64  loss=10019.44 active=53406 precision=0.861  recall=0.801  F1=0.829  Acc(item/seq)=0.953 0.661  feature_norm=170.37\n",
            "Iter 75  time=0.66  loss=10009.27 active=53163 precision=0.861  recall=0.803  F1=0.830  Acc(item/seq)=0.953 0.660  feature_norm=170.39\n",
            "Iter 76  time=0.54  loss=10000.67 active=52977 precision=0.859  recall=0.800  F1=0.828  Acc(item/seq)=0.953 0.660  feature_norm=170.32\n",
            "Iter 77  time=0.41  loss=9992.90  active=52809 precision=0.861  recall=0.803  F1=0.830  Acc(item/seq)=0.953 0.661  feature_norm=170.35\n",
            "Iter 78  time=0.42  loss=9985.21  active=52648 precision=0.859  recall=0.801  F1=0.828  Acc(item/seq)=0.953 0.661  feature_norm=170.30\n",
            "Iter 79  time=0.43  loss=9977.90  active=52485 precision=0.860  recall=0.803  F1=0.830  Acc(item/seq)=0.953 0.662  feature_norm=170.32\n",
            "Iter 80  time=0.42  loss=9971.83  active=52363 precision=0.861  recall=0.802  F1=0.830  Acc(item/seq)=0.953 0.662  feature_norm=170.26\n",
            "Iter 81  time=0.44  loss=9965.66  active=52276 precision=0.860  recall=0.803  F1=0.830  Acc(item/seq)=0.953 0.663  feature_norm=170.30\n",
            "Iter 82  time=0.41  loss=9960.48  active=52162 precision=0.862  recall=0.803  F1=0.830  Acc(item/seq)=0.953 0.664  feature_norm=170.26\n",
            "Iter 83  time=0.42  loss=9954.97  active=52097 precision=0.861  recall=0.804  F1=0.830  Acc(item/seq)=0.953 0.665  feature_norm=170.30\n",
            "Iter 84  time=0.43  loss=9950.00  active=52027 precision=0.861  recall=0.803  F1=0.830  Acc(item/seq)=0.953 0.661  feature_norm=170.26\n",
            "Iter 85  time=0.41  loss=9945.16  active=51892 precision=0.861  recall=0.804  F1=0.831  Acc(item/seq)=0.953 0.665  feature_norm=170.31\n",
            "Iter 86  time=0.42  loss=9940.94  active=51787 precision=0.861  recall=0.802  F1=0.829  Acc(item/seq)=0.953 0.662  feature_norm=170.26\n",
            "Iter 87  time=0.42  loss=9936.79  active=51738 precision=0.861  recall=0.804  F1=0.830  Acc(item/seq)=0.953 0.665  feature_norm=170.30\n",
            "Iter 88  time=0.41  loss=9933.02  active=51650 precision=0.860  recall=0.802  F1=0.829  Acc(item/seq)=0.953 0.663  feature_norm=170.27\n",
            "Iter 89  time=0.43  loss=9928.99  active=51545 precision=0.860  recall=0.804  F1=0.830  Acc(item/seq)=0.953 0.665  feature_norm=170.30\n",
            "Iter 90  time=0.41  loss=9925.84  active=51425 precision=0.861  recall=0.802  F1=0.830  Acc(item/seq)=0.953 0.663  feature_norm=170.27\n",
            "Iter 91  time=0.42  loss=9922.55  active=51358 precision=0.860  recall=0.804  F1=0.830  Acc(item/seq)=0.953 0.664  feature_norm=170.31\n",
            "Iter 92  time=0.41  loss=9919.68  active=51322 precision=0.861  recall=0.802  F1=0.830  Acc(item/seq)=0.954 0.664  feature_norm=170.28\n",
            "Iter 93  time=0.42  loss=9916.67  active=51269 precision=0.860  recall=0.802  F1=0.829  Acc(item/seq)=0.953 0.664  feature_norm=170.30\n",
            "Iter 94  time=0.42  loss=9914.09  active=51189 precision=0.862  recall=0.802  F1=0.830  Acc(item/seq)=0.953 0.664  feature_norm=170.27\n",
            "Iter 95  time=0.42  loss=9911.40  active=51143 precision=0.860  recall=0.803  F1=0.829  Acc(item/seq)=0.953 0.665  feature_norm=170.29\n",
            "Iter 96  time=0.42  loss=9909.11  active=51083 precision=0.862  recall=0.802  F1=0.830  Acc(item/seq)=0.953 0.664  feature_norm=170.26\n",
            "Iter 97  time=0.42  loss=9906.37  active=51038 precision=0.859  recall=0.803  F1=0.829  Acc(item/seq)=0.953 0.665  feature_norm=170.30\n",
            "Iter 98  time=0.42  loss=9904.23  active=51000 precision=0.860  recall=0.802  F1=0.829  Acc(item/seq)=0.953 0.664  feature_norm=170.27\n",
            "Iter 99  time=0.43  loss=9902.24  active=50971 precision=0.859  recall=0.802  F1=0.828  Acc(item/seq)=0.953 0.665  feature_norm=170.29\n",
            "Iter 100 time=0.60  loss=9900.48  active=50905 precision=0.861  recall=0.803  F1=0.829  Acc(item/seq)=0.953 0.664  feature_norm=170.26\n",
            "Iter 101 time=0.65  loss=9898.45  active=50865 precision=0.859  recall=0.803  F1=0.829  Acc(item/seq)=0.953 0.665  feature_norm=170.29\n",
            "Iter 102 time=0.65  loss=9896.53  active=50813 precision=0.861  recall=0.803  F1=0.830  Acc(item/seq)=0.953 0.665  feature_norm=170.27\n",
            "Iter 103 time=0.65  loss=9894.68  active=50793 precision=0.859  recall=0.803  F1=0.829  Acc(item/seq)=0.953 0.665  feature_norm=170.29\n",
            "Iter 104 time=0.55  loss=9892.96  active=50758 precision=0.861  recall=0.803  F1=0.830  Acc(item/seq)=0.953 0.666  feature_norm=170.27\n",
            "Iter 105 time=0.42  loss=9891.47  active=50717 precision=0.860  recall=0.803  F1=0.829  Acc(item/seq)=0.953 0.667  feature_norm=170.30\n",
            "Iter 106 time=0.42  loss=9889.85  active=50675 precision=0.861  recall=0.802  F1=0.829  Acc(item/seq)=0.953 0.666  feature_norm=170.29\n",
            "Iter 107 time=0.42  loss=9888.46  active=50661 precision=0.859  recall=0.803  F1=0.829  Acc(item/seq)=0.953 0.669  feature_norm=170.32\n",
            "Iter 108 time=0.43  loss=9886.79  active=50645 precision=0.861  recall=0.802  F1=0.829  Acc(item/seq)=0.953 0.667  feature_norm=170.30\n",
            "Iter 109 time=0.42  loss=9885.54  active=50654 precision=0.859  recall=0.803  F1=0.829  Acc(item/seq)=0.953 0.670  feature_norm=170.33\n",
            "Iter 110 time=0.42  loss=9884.09  active=50634 precision=0.861  recall=0.803  F1=0.830  Acc(item/seq)=0.953 0.668  feature_norm=170.32\n",
            "Iter 111 time=0.43  loss=9883.09  active=50621 precision=0.859  recall=0.804  F1=0.829  Acc(item/seq)=0.953 0.669  feature_norm=170.34\n",
            "Iter 112 time=0.42  loss=9881.65  active=50593 precision=0.861  recall=0.803  F1=0.830  Acc(item/seq)=0.953 0.668  feature_norm=170.33\n",
            "Iter 113 time=0.44  loss=9880.75  active=50594 precision=0.860  recall=0.804  F1=0.829  Acc(item/seq)=0.953 0.668  feature_norm=170.35\n",
            "Iter 114 time=0.43  loss=9879.47  active=50595 precision=0.861  recall=0.804  F1=0.830  Acc(item/seq)=0.953 0.668  feature_norm=170.35\n",
            "Iter 115 time=0.42  loss=9878.65  active=50564 precision=0.859  recall=0.804  F1=0.829  Acc(item/seq)=0.953 0.667  feature_norm=170.37\n",
            "Iter 116 time=0.42  loss=9877.28  active=50560 precision=0.861  recall=0.804  F1=0.830  Acc(item/seq)=0.953 0.668  feature_norm=170.37\n",
            "Iter 117 time=0.42  loss=9876.41  active=50532 precision=0.859  recall=0.805  F1=0.830  Acc(item/seq)=0.953 0.668  feature_norm=170.39\n",
            "Iter 118 time=0.42  loss=9875.35  active=50501 precision=0.861  recall=0.804  F1=0.830  Acc(item/seq)=0.953 0.668  feature_norm=170.39\n",
            "Iter 119 time=0.42  loss=9874.64  active=50478 precision=0.860  recall=0.805  F1=0.830  Acc(item/seq)=0.953 0.667  feature_norm=170.41\n",
            "Iter 120 time=0.43  loss=9873.39  active=50466 precision=0.861  recall=0.805  F1=0.831  Acc(item/seq)=0.954 0.669  feature_norm=170.41\n",
            "Iter 121 time=0.41  loss=9872.70  active=50446 precision=0.859  recall=0.804  F1=0.829  Acc(item/seq)=0.953 0.667  feature_norm=170.43\n",
            "Iter 122 time=0.42  loss=9871.50  active=50423 precision=0.862  recall=0.805  F1=0.831  Acc(item/seq)=0.954 0.669  feature_norm=170.43\n",
            "Iter 123 time=0.43  loss=9871.07  active=50399 precision=0.859  recall=0.804  F1=0.829  Acc(item/seq)=0.953 0.668  feature_norm=170.44\n",
            "Iter 124 time=0.41  loss=9869.73  active=50375 precision=0.862  recall=0.805  F1=0.831  Acc(item/seq)=0.954 0.670  feature_norm=170.44\n",
            "Iter 125 time=0.43  loss=9869.16  active=50337 precision=0.859  recall=0.805  F1=0.830  Acc(item/seq)=0.953 0.668  feature_norm=170.46\n",
            "Iter 126 time=0.41  loss=9868.09  active=50307 precision=0.862  recall=0.805  F1=0.831  Acc(item/seq)=0.954 0.670  feature_norm=170.46\n",
            "Iter 127 time=0.42  loss=9867.58  active=50272 precision=0.858  recall=0.805  F1=0.829  Acc(item/seq)=0.953 0.667  feature_norm=170.48\n",
            "Iter 128 time=0.58  loss=9866.39  active=50266 precision=0.861  recall=0.805  F1=0.831  Acc(item/seq)=0.954 0.670  feature_norm=170.48\n",
            "Iter 129 time=0.65  loss=9865.83  active=50252 precision=0.858  recall=0.805  F1=0.829  Acc(item/seq)=0.953 0.667  feature_norm=170.50\n",
            "Iter 130 time=0.66  loss=9864.83  active=50227 precision=0.862  recall=0.805  F1=0.831  Acc(item/seq)=0.954 0.669  feature_norm=170.50\n",
            "Iter 131 time=0.65  loss=9864.61  active=50221 precision=0.858  recall=0.805  F1=0.829  Acc(item/seq)=0.953 0.668  feature_norm=170.52\n",
            "Iter 132 time=0.56  loss=9863.35  active=50187 precision=0.862  recall=0.805  F1=0.831  Acc(item/seq)=0.954 0.669  feature_norm=170.51\n",
            "Iter 133 time=0.43  loss=9863.05  active=50176 precision=0.859  recall=0.805  F1=0.830  Acc(item/seq)=0.953 0.668  feature_norm=170.53\n",
            "Iter 134 time=0.42  loss=9861.92  active=50163 precision=0.862  recall=0.805  F1=0.831  Acc(item/seq)=0.954 0.669  feature_norm=170.53\n",
            "Iter 135 time=0.44  loss=9861.69  active=50149 precision=0.859  recall=0.805  F1=0.830  Acc(item/seq)=0.953 0.667  feature_norm=170.55\n",
            "Iter 136 time=0.42  loss=9860.56  active=50138 precision=0.861  recall=0.805  F1=0.831  Acc(item/seq)=0.954 0.670  feature_norm=170.55\n",
            "Iter 137 time=0.43  loss=9860.08  active=50129 precision=0.859  recall=0.805  F1=0.830  Acc(item/seq)=0.953 0.668  feature_norm=170.56\n",
            "Iter 138 time=0.42  loss=9859.35  active=50112 precision=0.862  recall=0.805  F1=0.831  Acc(item/seq)=0.954 0.670  feature_norm=170.56\n",
            "Iter 139 time=0.42  loss=9859.08  active=50099 precision=0.859  recall=0.805  F1=0.830  Acc(item/seq)=0.953 0.668  feature_norm=170.58\n",
            "Iter 140 time=0.42  loss=9857.95  active=50081 precision=0.861  recall=0.805  F1=0.831  Acc(item/seq)=0.954 0.670  feature_norm=170.58\n",
            "Iter 141 time=0.42  loss=9857.68  active=50059 precision=0.859  recall=0.805  F1=0.830  Acc(item/seq)=0.953 0.669  feature_norm=170.59\n",
            "Iter 142 time=0.44  loss=9856.67  active=50053 precision=0.861  recall=0.805  F1=0.831  Acc(item/seq)=0.954 0.671  feature_norm=170.59\n",
            "Iter 143 time=0.43  loss=9856.45  active=50018 precision=0.859  recall=0.805  F1=0.830  Acc(item/seq)=0.953 0.669  feature_norm=170.60\n",
            "Iter 144 time=0.42  loss=9855.41  active=49992 precision=0.861  recall=0.805  F1=0.831  Acc(item/seq)=0.954 0.672  feature_norm=170.60\n",
            "Iter 145 time=0.43  loss=9855.08  active=49983 precision=0.859  recall=0.806  F1=0.830  Acc(item/seq)=0.953 0.669  feature_norm=170.60\n",
            "Iter 146 time=0.42  loss=9854.22  active=49974 precision=0.861  recall=0.805  F1=0.831  Acc(item/seq)=0.954 0.671  feature_norm=170.60\n",
            "Iter 147 time=0.43  loss=9854.01  active=49986 precision=0.859  recall=0.806  F1=0.830  Acc(item/seq)=0.953 0.669  feature_norm=170.61\n",
            "Iter 148 time=0.42  loss=9852.87  active=49980 precision=0.861  recall=0.805  F1=0.831  Acc(item/seq)=0.954 0.671  feature_norm=170.61\n",
            "Iter 149 time=0.41  loss=9852.62  active=49976 precision=0.859  recall=0.806  F1=0.830  Acc(item/seq)=0.953 0.669  feature_norm=170.62\n",
            "Iter 150 time=0.43  loss=9851.44  active=49993 precision=0.861  recall=0.805  F1=0.831  Acc(item/seq)=0.954 0.671  feature_norm=170.62\n",
            "Iter 151 time=0.77  loss=9850.86  active=50007 precision=0.860  recall=0.805  F1=0.830  Acc(item/seq)=0.953 0.669  feature_norm=170.62\n",
            "Iter 152 time=0.42  loss=9850.35  active=49970 precision=0.861  recall=0.805  F1=0.831  Acc(item/seq)=0.954 0.671  feature_norm=170.61\n",
            "Iter 153 time=0.42  loss=9849.86  active=49954 precision=0.859  recall=0.806  F1=0.830  Acc(item/seq)=0.953 0.667  feature_norm=170.62\n",
            "Iter 154 time=0.43  loss=9848.71  active=49964 precision=0.861  recall=0.805  F1=0.831  Acc(item/seq)=0.954 0.671  feature_norm=170.61\n",
            "Iter 155 time=0.59  loss=9847.66  active=49978 precision=0.859  recall=0.806  F1=0.831  Acc(item/seq)=0.953 0.668  feature_norm=170.61\n",
            "Iter 156 time=0.65  loss=9846.68  active=49986 precision=0.861  recall=0.805  F1=0.831  Acc(item/seq)=0.954 0.670  feature_norm=170.61\n",
            "Iter 157 time=0.66  loss=9845.90  active=49993 precision=0.860  recall=0.806  F1=0.831  Acc(item/seq)=0.953 0.669  feature_norm=170.61\n",
            "Iter 158 time=0.66  loss=9845.16  active=49986 precision=0.861  recall=0.805  F1=0.831  Acc(item/seq)=0.954 0.670  feature_norm=170.60\n",
            "Iter 159 time=0.53  loss=9844.31  active=49983 precision=0.861  recall=0.806  F1=0.831  Acc(item/seq)=0.953 0.668  feature_norm=170.60\n",
            "Iter 160 time=0.50  loss=9843.77  active=49970 precision=0.861  recall=0.805  F1=0.831  Acc(item/seq)=0.954 0.670  feature_norm=170.59\n",
            "Iter 161 time=0.47  loss=9842.93  active=49970 precision=0.860  recall=0.806  F1=0.831  Acc(item/seq)=0.953 0.667  feature_norm=170.58\n",
            "Iter 162 time=0.43  loss=9842.29  active=49955 precision=0.861  recall=0.804  F1=0.830  Acc(item/seq)=0.954 0.669  feature_norm=170.57\n",
            "Iter 163 time=0.41  loss=9841.46  active=49965 precision=0.860  recall=0.806  F1=0.831  Acc(item/seq)=0.953 0.668  feature_norm=170.57\n",
            "Iter 164 time=0.42  loss=9840.65  active=49954 precision=0.861  recall=0.804  F1=0.830  Acc(item/seq)=0.953 0.669  feature_norm=170.55\n",
            "Iter 165 time=0.43  loss=9840.02  active=49937 precision=0.860  recall=0.806  F1=0.831  Acc(item/seq)=0.953 0.669  feature_norm=170.55\n",
            "Iter 166 time=0.42  loss=9839.25  active=49922 precision=0.861  recall=0.805  F1=0.831  Acc(item/seq)=0.954 0.671  feature_norm=170.54\n",
            "Iter 167 time=0.44  loss=9838.69  active=49908 precision=0.860  recall=0.806  F1=0.831  Acc(item/seq)=0.953 0.669  feature_norm=170.53\n",
            "Iter 168 time=0.42  loss=9837.92  active=49889 precision=0.861  recall=0.806  F1=0.831  Acc(item/seq)=0.954 0.671  feature_norm=170.52\n",
            "Iter 169 time=0.42  loss=9837.45  active=49876 precision=0.860  recall=0.806  F1=0.831  Acc(item/seq)=0.953 0.669  feature_norm=170.51\n",
            "Iter 170 time=0.42  loss=9836.61  active=49847 precision=0.861  recall=0.806  F1=0.831  Acc(item/seq)=0.954 0.670  feature_norm=170.50\n",
            "Iter 171 time=0.41  loss=9836.18  active=49836 precision=0.860  recall=0.806  F1=0.831  Acc(item/seq)=0.953 0.669  feature_norm=170.50\n",
            "Iter 172 time=0.44  loss=9835.36  active=49829 precision=0.861  recall=0.806  F1=0.831  Acc(item/seq)=0.954 0.671  feature_norm=170.48\n",
            "Iter 173 time=0.42  loss=9834.93  active=49823 precision=0.861  recall=0.807  F1=0.832  Acc(item/seq)=0.953 0.671  feature_norm=170.48\n",
            "Iter 174 time=0.42  loss=9834.10  active=49814 precision=0.861  recall=0.806  F1=0.831  Acc(item/seq)=0.954 0.671  feature_norm=170.47\n",
            "Iter 175 time=0.42  loss=9833.78  active=49801 precision=0.861  recall=0.807  F1=0.832  Acc(item/seq)=0.954 0.671  feature_norm=170.47\n",
            "Iter 176 time=0.42  loss=9832.87  active=49794 precision=0.862  recall=0.807  F1=0.832  Acc(item/seq)=0.954 0.671  feature_norm=170.46\n",
            "Iter 177 time=0.42  loss=9832.58  active=49785 precision=0.860  recall=0.807  F1=0.831  Acc(item/seq)=0.953 0.670  feature_norm=170.46\n",
            "Iter 178 time=0.42  loss=9831.69  active=49774 precision=0.861  recall=0.806  F1=0.832  Acc(item/seq)=0.954 0.671  feature_norm=170.45\n",
            "Iter 179 time=0.43  loss=9831.45  active=49768 precision=0.861  recall=0.807  F1=0.832  Acc(item/seq)=0.954 0.670  feature_norm=170.45\n",
            "Iter 180 time=0.49  loss=9830.54  active=49755 precision=0.862  recall=0.807  F1=0.832  Acc(item/seq)=0.954 0.671  feature_norm=170.44\n",
            "Iter 181 time=0.51  loss=9830.35  active=49748 precision=0.861  recall=0.807  F1=0.832  Acc(item/seq)=0.954 0.669  feature_norm=170.43\n",
            "Iter 182 time=0.65  loss=9829.44  active=49746 precision=0.862  recall=0.807  F1=0.832  Acc(item/seq)=0.954 0.671  feature_norm=170.42\n",
            "Iter 183 time=0.66  loss=9829.25  active=49737 precision=0.861  recall=0.807  F1=0.832  Acc(item/seq)=0.954 0.669  feature_norm=170.42\n",
            "Iter 184 time=0.66  loss=9828.31  active=49731 precision=0.862  recall=0.807  F1=0.832  Acc(item/seq)=0.954 0.671  feature_norm=170.41\n",
            "Iter 185 time=0.63  loss=9828.22  active=49728 precision=0.861  recall=0.806  F1=0.831  Acc(item/seq)=0.953 0.669  feature_norm=170.40\n",
            "Iter 186 time=0.42  loss=9827.24  active=49711 precision=0.862  recall=0.807  F1=0.832  Acc(item/seq)=0.954 0.671  feature_norm=170.40\n",
            "Iter 187 time=0.41  loss=9827.13  active=49703 precision=0.861  recall=0.806  F1=0.831  Acc(item/seq)=0.953 0.669  feature_norm=170.39\n",
            "Iter 188 time=0.44  loss=9826.17  active=49698 precision=0.862  recall=0.807  F1=0.832  Acc(item/seq)=0.954 0.671  feature_norm=170.38\n",
            "Iter 189 time=0.41  loss=9826.07  active=49673 precision=0.861  recall=0.807  F1=0.832  Acc(item/seq)=0.953 0.670  feature_norm=170.38\n",
            "Iter 190 time=0.42  loss=9825.11  active=49654 precision=0.862  recall=0.807  F1=0.832  Acc(item/seq)=0.954 0.671  feature_norm=170.37\n",
            "Iter 191 time=0.43  loss=9825.09  active=49643 precision=0.861  recall=0.808  F1=0.832  Acc(item/seq)=0.954 0.671  feature_norm=170.36\n",
            "Iter 192 time=0.42  loss=9824.08  active=49645 precision=0.861  recall=0.806  F1=0.832  Acc(item/seq)=0.954 0.669  feature_norm=170.35\n",
            "Iter 193 time=0.79  loss=9823.63  active=49663 precision=0.861  recall=0.807  F1=0.832  Acc(item/seq)=0.954 0.671  feature_norm=170.35\n",
            "Iter 194 time=0.42  loss=9823.18  active=49640 precision=0.862  recall=0.807  F1=0.832  Acc(item/seq)=0.954 0.670  feature_norm=170.34\n",
            "Iter 195 time=0.42  loss=9823.14  active=49650 precision=0.861  recall=0.808  F1=0.832  Acc(item/seq)=0.954 0.673  feature_norm=170.33\n",
            "Iter 196 time=0.42  loss=9821.90  active=49647 precision=0.862  recall=0.807  F1=0.832  Acc(item/seq)=0.954 0.670  feature_norm=170.31\n",
            "Iter 197 time=0.43  loss=9821.60  active=49646 precision=0.862  recall=0.809  F1=0.833  Acc(item/seq)=0.954 0.673  feature_norm=170.31\n",
            "Iter 198 time=0.41  loss=9820.68  active=49632 precision=0.862  recall=0.806  F1=0.832  Acc(item/seq)=0.954 0.671  feature_norm=170.30\n",
            "Iter 199 time=0.42  loss=9820.32  active=49632 precision=0.862  recall=0.809  F1=0.833  Acc(item/seq)=0.954 0.672  feature_norm=170.29\n",
            "Iter 200 time=0.42  loss=9819.72  active=49624 precision=0.862  recall=0.807  F1=0.832  Acc(item/seq)=0.954 0.671  feature_norm=170.28\n",
            "================================================\n",
            "Label      Precision    Recall     F1    Support\n",
            "-------  -----------  --------  -----  ---------\n",
            "B-LOC          0.830     0.783  0.806       1837\n",
            "B-MISC         0.903     0.804  0.850        922\n",
            "B-ORG          0.860     0.810  0.834       1340\n",
            "B-PER          0.807     0.800  0.804       1842\n",
            "I-LOC          0.897     0.778  0.833        257\n",
            "I-MISC         0.864     0.679  0.760        346\n",
            "I-ORG          0.832     0.827  0.829        750\n",
            "I-PER          0.789     0.792  0.791       1307\n",
            "O              0.976     0.986  0.981      42757\n",
            "------------------------------------------------\n",
            "L-BFGS terminated with the maximum number of iterations\n",
            "Total seconds required for training: 99.361\n",
            "\n",
            "Storing the model\n",
            "Number of active features: 49624 (150836)\n",
            "Number of active attributes: 30111 (124136)\n",
            "Number of active labels: 9 (9)\n",
            "Writing labels\n",
            "Writing attributes\n",
            "Writing feature references for transitions\n",
            "Writing feature references for attributes\n",
            "Seconds required: 0.032\n",
            "\n"
          ]
        }
      ],
      "source": [
        "crf = crfsuite.CRF(\n",
        "    verbose='true',\n",
        "    algorithm='lbfgs',\n",
        "    max_iterations=200,\n",
        "    c1=0.1,\n",
        "    c2=0.1,\n",
        "    all_possible_transitions=True\n",
        ")\n",
        "try:\n",
        "    crf.fit(X_train, y_train, X_dev=X_val, y_dev=y_val)\n",
        "except AttributeError:\n",
        "    pass"
      ]
    },
    {
      "cell_type": "code",
      "execution_count": null,
      "metadata": {
        "colab": {
          "base_uri": "https://localhost:8080/"
        },
        "id": "ar3Y8tc143qn",
        "outputId": "7a4328c6-361a-44ec-ae50-137099fa7288"
      },
      "outputs": [
        {
          "output_type": "execute_result",
          "data": {
            "text/plain": [
              "['./crf_model_ner']"
            ]
          },
          "metadata": {},
          "execution_count": 99
        }
      ],
      "source": [
        "\n",
        "\n",
        "import joblib\n",
        "import os\n",
        "\n",
        "OUTPUT_PATH = \"./\"\n",
        "OUTPUT_FILE = \"crf_model_ner\"\n",
        "\n",
        "if not os.path.exists(OUTPUT_PATH):\n",
        "    os.mkdir(OUTPUT_PATH)\n",
        "\n",
        "joblib.dump(crf, os.path.join(OUTPUT_PATH, OUTPUT_FILE))\n",
        "\n"
      ]
    },
    {
      "cell_type": "code",
      "source": [
        "# X_val"
      ],
      "metadata": {
        "colab": {
          "base_uri": "https://localhost:8080/",
          "height": 167
        },
        "id": "KeMrI6FUqWzB",
        "outputId": "0536997e-2ae6-45f0-9083-b15d79bb624b"
      },
      "execution_count": null,
      "outputs": [
        {
          "output_type": "error",
          "ename": "NameError",
          "evalue": "ignored",
          "traceback": [
            "\u001b[0;31m---------------------------------------------------------------------------\u001b[0m",
            "\u001b[0;31mNameError\u001b[0m                                 Traceback (most recent call last)",
            "\u001b[0;32m<ipython-input-12-feecb69a18cd>\u001b[0m in \u001b[0;36m<cell line: 1>\u001b[0;34m()\u001b[0m\n\u001b[0;32m----> 1\u001b[0;31m \u001b[0mX_val\u001b[0m\u001b[0;34m\u001b[0m\u001b[0;34m\u001b[0m\u001b[0m\n\u001b[0m",
            "\u001b[0;31mNameError\u001b[0m: name 'X_val' is not defined"
          ]
        }
      ]
    },
    {
      "cell_type": "code",
      "source": [],
      "metadata": {
        "id": "V3yW51sOqWWq"
      },
      "execution_count": null,
      "outputs": []
    },
    {
      "cell_type": "code",
      "execution_count": null,
      "metadata": {
        "id": "2RPPK4D3s-CU"
      },
      "outputs": [],
      "source": [
        "y_pred=crf.predict(X_val)\n"
      ]
    },
    {
      "cell_type": "code",
      "execution_count": null,
      "metadata": {
        "colab": {
          "base_uri": "https://localhost:8080/"
        },
        "id": "mgVZmEHCtA7C",
        "outputId": "ac0f264c-50c3-4307-d82a-ed44b887ae94"
      },
      "outputs": [
        {
          "output_type": "execute_result",
          "data": {
            "text/plain": [
              "0.9536196892402352"
            ]
          },
          "metadata": {},
          "execution_count": 101
        }
      ],
      "source": [
        "metrics.flat_accuracy_score(y_val, y_pred)\n"
      ]
    },
    {
      "cell_type": "code",
      "execution_count": null,
      "metadata": {
        "colab": {
          "base_uri": "https://localhost:8080/"
        },
        "id": "gis6tRHYtCnc",
        "outputId": "bf34681f-6ac8-4f5c-9b83-1539f9313583"
      },
      "outputs": [
        {
          "output_type": "execute_result",
          "data": {
            "text/plain": [
              "0.806515486506417"
            ]
          },
          "metadata": {},
          "execution_count": 102
        }
      ],
      "source": [
        "metrics.flat_recall_score(y_val, y_pred,average='macro')\n"
      ]
    },
    {
      "cell_type": "code",
      "execution_count": null,
      "metadata": {
        "colab": {
          "base_uri": "https://localhost:8080/"
        },
        "id": "O3Bur2HGtEO-",
        "outputId": "36c01e11-f9c5-47eb-dad4-42f3a0aa5af8"
      },
      "outputs": [
        {
          "output_type": "execute_result",
          "data": {
            "text/plain": [
              "0.8620405616552316"
            ]
          },
          "metadata": {},
          "execution_count": 103
        }
      ],
      "source": [
        "metrics.flat_precision_score(y_val, y_pred,average='macro')\n"
      ]
    },
    {
      "cell_type": "code",
      "execution_count": null,
      "metadata": {
        "id": "DpBv3wVItGJy"
      },
      "outputs": [],
      "source": [
        "with open('ner_out_file.txt', 'w') as f:\n",
        "  for sentence in y_pred:\n",
        "    f.write(f\"{sentence}\\n\")"
      ]
    },
    {
      "cell_type": "code",
      "execution_count": null,
      "metadata": {
        "id": "G1haI6gatLWz"
      },
      "outputs": [],
      "source": [
        "train_tagged_words = [ tup for sent in train_set for tup in sent ]\n",
        "\n",
        "tags = {ner for word,tag,ner in train_tagged_words}\n"
      ]
    },
    {
      "cell_type": "code",
      "execution_count": null,
      "metadata": {
        "colab": {
          "base_uri": "https://localhost:8080/"
        },
        "id": "VM7h09jvu23z",
        "outputId": "2d4719bf-b8d0-48c5-c7cc-1be115370764"
      },
      "outputs": [
        {
          "output_type": "execute_result",
          "data": {
            "text/plain": [
              "(51358, 51358)"
            ]
          },
          "metadata": {},
          "execution_count": 111
        }
      ],
      "source": [
        "len(y_true_flat),len(y_pred_flat)"
      ]
    },
    {
      "cell_type": "code",
      "source": [
        "y_true_flat = flatten(y_val)\n",
        "y_pred_flat = flatten(y_pred)\n",
        "cm = confusion_matrix(y_true_flat, y_pred_flat,labels=list(tags))\n",
        "disp=ConfusionMatrixDisplay(confusion_matrix=cm,\n",
        "                            display_labels=tags)"
      ],
      "metadata": {
        "id": "YIxPCtuIA8hh"
      },
      "execution_count": null,
      "outputs": []
    },
    {
      "cell_type": "code",
      "source": [
        "disp.plot()"
      ],
      "metadata": {
        "colab": {
          "base_uri": "https://localhost:8080/",
          "height": 466
        },
        "id": "D_FIcxsrCeMx",
        "outputId": "d280840e-69fe-4dbe-8150-471b3fde109d"
      },
      "execution_count": null,
      "outputs": [
        {
          "output_type": "execute_result",
          "data": {
            "text/plain": [
              "<sklearn.metrics._plot.confusion_matrix.ConfusionMatrixDisplay at 0x7f9d91cd7100>"
            ]
          },
          "metadata": {},
          "execution_count": 119
        },
        {
          "output_type": "display_data",
          "data": {
            "text/plain": [
              "<Figure size 640x480 with 2 Axes>"
            ],
            "image/png": "[encoded data removed]"
          },
          "metadata": {}
        }
      ]
    },
    {
      "cell_type": "markdown",
      "source": [
        "# NER labling"
      ],
      "metadata": {
        "id": "SAALUSaOlgYP"
      }
    },
    {
      "cell_type": "code",
      "source": [
        "import nltk\n",
        "import re\n",
        "import string\n",
        "from nltk.tokenize import word_tokenize\n",
        "from nltk import pos_tag\n",
        "from nltk.corpus import stopwords\n",
        "from gensim.models import Word2Vec"
      ],
      "metadata": {
        "id": "56t61MAunSDP"
      },
      "execution_count": null,
      "outputs": []
    },
    {
      "cell_type": "code",
      "source": [
        "nltk.download('punkt')\n",
        "nltk.download('stopwords')"
      ],
      "metadata": {
        "colab": {
          "base_uri": "https://localhost:8080/"
        },
        "id": "soESAQzTq_nx",
        "outputId": "f357196b-79e2-420f-83c3-6e0198c586e0"
      },
      "execution_count": null,
      "outputs": [
        {
          "output_type": "stream",
          "name": "stderr",
          "text": [
            "[nltk_data] Downloading package punkt to /root/nltk_data...\n",
            "[nltk_data]   Package punkt is already up-to-date!\n",
            "[nltk_data] Downloading package stopwords to /root/nltk_data...\n",
            "[nltk_data]   Unzipping corpora/stopwords.zip.\n"
          ]
        },
        {
          "output_type": "execute_result",
          "data": {
            "text/plain": [
              "True"
            ]
          },
          "metadata": {},
          "execution_count": 89
        }
      ]
    },
    {
      "cell_type": "code",
      "source": [
        "def pos_word2features(sent, i):\n",
        "    word = sent[i][0]\n",
        "\n",
        "    features = {\n",
        "        'bias': 1.0,\n",
        "        'word': word,\n",
        "        'len(word)': len(word),\n",
        "        'word[:4]': word[:4],\n",
        "        'word[:3]': word[:3],\n",
        "        'word[:2]': word[:2],\n",
        "        'word[-3:]': word[-3:],\n",
        "        'word[-2:]': word[-2:],\n",
        "        'word[-4:]': word[-4:],\n",
        "        'word.lower()': word.lower(),\n",
        "        'word.stemmed': re.sub(r'(.{2,}?)([aeiougyn]+$)',r'\\1', word.lower()),\n",
        "        'word.ispunctuation': (word in string.punctuation),\n",
        "        'word.isdigit()': word.isdigit(),\n",
        "    }    \n",
        "    if i > 0:\n",
        "        word1 = sent[i-1][0]\n",
        "        features.update({\n",
        "            '-1:word': word1,\n",
        "            '-1:len(word)': len(word1),\n",
        "            '-1:word.lower()': word1.lower(),\n",
        "            '-1:word.stemmed': re.sub(r'(.{2,}?)([aeiougyn]+$)',r'\\1', word1.lower()),\n",
        "            '-1:word[:3]': word1[:3],\n",
        "            '-1:word[:2]': word1[:2],\n",
        "            '-1:word[-3:]': word1[-3:],\n",
        "            '-1:word[-2:]': word1[-2:],\n",
        "            '-1:word.isdigit()': word1.isdigit(),\n",
        "            '-1:word.ispunctuation': (word1 in string.punctuation),\n",
        "        })\n",
        "    else:\n",
        "        features['BOS'] = True\n",
        "\n",
        "    if i > 1:\n",
        "        word2 = sent[i-2][0]\n",
        "        features.update({\n",
        "            '-2:word': word2,\n",
        "            '-2:len(word)': len(word2),\n",
        "            '-2:word.lower()': word2.lower(),\n",
        "            '-2:word[:3]': word2[:3],\n",
        "            '-2:word[:2]': word2[:2],\n",
        "            '-2:word[-3:]': word2[-3:],\n",
        "            '-2:word[-2:]': word2[-2:],\n",
        "            '-2:word.isdigit()': word2.isdigit(),\n",
        "            '-2:word.ispunctuation': (word2 in string.punctuation),\n",
        "        })\n",
        "\n",
        "    if i < len(sent)-1:\n",
        "        word1 = sent[i+1][0]\n",
        "        features.update({\n",
        "            '+1:word': word1,\n",
        "            '+1:len(word)': len(word1),\n",
        "            '+1:word.lower()': word1.lower(),\n",
        "            '+1:word[:3]': word1[:3],\n",
        "            '+1:word[:2]': word1[:2],\n",
        "            '+1:word[-3:]': word1[-3:],\n",
        "            '+1:word[-2:]': word1[-2:],\n",
        "            '+1:word.isdigit()': word1.isdigit(),\n",
        "            '+1:word.ispunctuation': (word1 in string.punctuation),\n",
        "        })\n",
        "\n",
        "    else:\n",
        "        features['EOS'] = True    \n",
        "    if i < len(sent) - 2:\n",
        "        word2 = sent[i+2][0]\n",
        "        features.update({\n",
        "            '+2:word': word2,\n",
        "            '+2:len(word)': len(word2),\n",
        "            '+2:word.lower()': word2.lower(),\n",
        "            '+2:word.stemmed': re.sub(r'(.{2,}?)([aeiougyn]+$)',r'\\1', word2.lower()),\n",
        "            '+2:word[:3]': word2[:3],\n",
        "            '+2:word[:2]': word2[:2],\n",
        "            '+2:word[-3:]': word2[-3:],\n",
        "            '+2:word[-2:]': word2[-2:],\n",
        "            '+2:word.isdigit()': word2.isdigit(),\n",
        "            '+2:word.ispunctuation': (word2 in string.punctuation),\n",
        "        })\n",
        "\n",
        "    return features\n",
        "\n",
        "\n",
        "def pos_sent2features(sent):\n",
        "    return [pos_word2features(sent, i) for i in range(len(sent))]\n",
        "\n",
        "def pos_sent2labels(sent):\n",
        "    return [word[1] for word in sent]\n",
        "\n",
        "def pos_sent2tokens(sent):\n",
        "    return [word[0] for word in sent]"
      ],
      "metadata": {
        "id": "Goas-zEF2TbW"
      },
      "execution_count": null,
      "outputs": []
    },
    {
      "cell_type": "code",
      "source": [
        "text = \"John Smith works at Google in New York\"\n"
      ],
      "metadata": {
        "id": "AiaYm64Lq57S"
      },
      "execution_count": null,
      "outputs": []
    },
    {
      "cell_type": "code",
      "source": [
        "pos_crf=joblib.load('pos_crf_model')\n",
        "ner_crf=joblib.load('crf_model_ner')\n"
      ],
      "metadata": {
        "id": "9fhjP5aMl_V4"
      },
      "execution_count": null,
      "outputs": []
    },
    {
      "cell_type": "code",
      "source": [
        "def preprocess_text(text):\n",
        "    # Tokenize the text\n",
        "    tokens = word_tokenize(text.lower())\n",
        "    \n",
        "    \n",
        "    \n",
        "    # POS tags list of (word, tag)\n",
        "    \n",
        "    pos_tags = [(x,y) for x,y in zip(tokens,pos_crf.predict(pos_sent2features([text]))[0])]\n",
        "\n",
        "    pos_words = [word for word, tag in pos_tags if tag.startswith('N') or tag.startswith('V') or tag.startswith('J')]\n",
        "\n",
        "    ner_preds=ner_crf.predict([ner_sent2features(pos_tags, word2cluster)])[0]\n",
        "    ner_tags=[(x,y) for x,y in zip(tokens,ner_preds)]\n",
        "\n",
        "    named_entities = [ word for word, label in  ner_tags\\\n",
        "                      if label.startswith('PER') or label.startswith('ORG')\\\n",
        "                      or label.startswith('LOC')]\n",
        "\n",
        "\n",
        "    important_words=named_entities + pos_words\n",
        "    # Filter out stop words from outputs\n",
        "    stop_words = set(stopwords.words('english'))\n",
        "    important_words = [word for word in important_words if word not in stop_words and word.isalpha()]\n",
        "    \n",
        "    return important_words"
      ],
      "metadata": {
        "id": "tO28X61jlerc"
      },
      "execution_count": null,
      "outputs": []
    },
    {
      "cell_type": "code",
      "source": [],
      "metadata": {
        "id": "g6hSh8Wc83MC"
      },
      "execution_count": null,
      "outputs": []
    },
    {
      "cell_type": "code",
      "source": [
        "def sentence_embedding(text):\n",
        "    # Preprocess the text and extract the relevant words\n",
        "    imp_words = preprocess_text(text)\n",
        "    \n",
        "    # Train a Word2Vec model on the relevant words\n",
        "    model = Word2Vec([imp_words], min_count=1)\n",
        "    \n",
        "    # Calculate the word embeddings for the relevant words\n",
        "    word_embeddings = [model.wv[entity] for entity in imp_words]\n",
        "    #  [model.wv[word] for wonamed_entities = [ent for ent in doc.ents if ent.label_.startswith('PER') or ent.label_.startswith('ORG') or ent.label_.startswith('LOC')]rd in pos_words]\n",
        "    \n",
        "    # Calculate the sentence embedding as the average of the word embeddings\n",
        "    sentence_embedding = sum(word_embeddings) / float(len(word_embeddings))\n",
        "    \n",
        "    return sentence_embedding"
      ],
      "metadata": {
        "id": "F4nuR_BLl3Rv"
      },
      "execution_count": null,
      "outputs": []
    },
    {
      "cell_type": "code",
      "source": [
        "text = \"Two goals from defensive errors in the last six minutes\\\n",
        " allowed Japan to come from behind and \\\n",
        "collect all three points from their opening meeting against Syria\"\n",
        "embedding = sentence_embedding(text)\n",
        "print(embedding)\n"
      ],
      "metadata": {
        "id": "JlySJMFel86Y",
        "colab": {
          "base_uri": "https://localhost:8080/"
        },
        "outputId": "5342350e-9dd4-485f-89fb-04e7e3825926"
      },
      "execution_count": null,
      "outputs": [
        {
          "output_type": "stream",
          "name": "stdout",
          "text": [
            "[-4.57795756e-03  1.95108471e-03  5.14661660e-03  7.37560540e-03\n",
            " -9.18015605e-04 -6.64224196e-03  3.78224300e-03  7.51013542e-03\n",
            " -3.92773934e-03 -4.96844715e-03  3.48514086e-03 -4.95120976e-03\n",
            " -5.06831286e-03  6.82929531e-03 -7.53810396e-04  2.70482595e-03\n",
            "  4.83841356e-03  4.26130788e-03 -6.03718497e-03 -5.00531215e-03\n",
            "  4.83007124e-03  2.75614904e-04  7.57321250e-03 -4.54764906e-03\n",
            "  6.55776542e-03 -2.45474512e-04 -2.93961633e-03  5.08338027e-03\n",
            " -4.63060616e-03  1.38764037e-03  1.22663379e-03 -2.64624273e-03\n",
            "  4.46939049e-03 -6.50740229e-03  7.58526847e-04  4.24442871e-04\n",
            "  7.48425676e-03  8.50998331e-05  4.79182974e-03  2.25984165e-03\n",
            " -8.52741301e-04 -9.91105568e-04 -8.95772502e-03 -2.37378897e-03\n",
            " -1.56747038e-03  3.79906758e-03 -8.61332985e-04  4.03454015e-03\n",
            "  3.24651063e-03  5.51159214e-03 -1.70173123e-04 -2.50719418e-03\n",
            " -2.17130361e-03  2.14686641e-03  3.77982389e-03  1.95979769e-03\n",
            "  6.76414184e-03 -1.25226798e-04 -2.13005487e-03  8.55445582e-03\n",
            " -5.05599380e-03  1.76423904e-03 -4.38931352e-03 -6.38582185e-03\n",
            "  1.04080501e-03  3.92006710e-03  3.44074378e-03 -1.16422307e-04\n",
            "  2.34519178e-03  4.44278074e-03  8.72996985e-04 -1.99844129e-04\n",
            "  1.99186336e-03 -1.34919351e-03  1.79150118e-03 -3.06903548e-03\n",
            "  1.77991344e-04 -1.65517151e-03  1.25241990e-03 -6.20912341e-03\n",
            " -5.11330832e-03  3.32665141e-03  5.14295418e-03  3.12046381e-04\n",
            " -2.24728161e-03 -1.08028646e-04  3.05663352e-03 -7.34077999e-03\n",
            " -2.07628007e-04  1.02376146e-03  1.35956099e-03 -6.93153765e-04\n",
            "  2.83515500e-03 -3.83189926e-03  3.45082115e-03  3.86190135e-03\n",
            " -1.78535422e-03 -4.71653789e-03 -4.30431915e-03  5.44920657e-03]\n"
          ]
        }
      ]
    },
    {
      "cell_type": "code",
      "execution_count": null,
      "metadata": {
        "id": "cvicel6StNOn"
      },
      "outputs": [],
      "source": [
        "\n",
        "\n",
        "# def _flattens_y(func):\n",
        "#     @wraps(func)\n",
        "#     def wrapper(y_true, y_pred, *args, **kwargs):\n",
        "#         y_true_flat = flatten(y_true)\n",
        "#         y_pred_flat = flatten(y_pred)\n",
        "#         return func(y_true_flat, y_pred_flat, *args, **kwargs)\n",
        "#     return wrapper"
      ]
    },
    {
      "cell_type": "code",
      "execution_count": null,
      "metadata": {
        "id": "vFO4Wz6dtUXM"
      },
      "outputs": [],
      "source": [
        "@_flattens_y\n",
        "# def plot_conf_matrix(y_true, y_pred,tags):\n",
        "#   y_true_flat = flatten(y_true)\n",
        "#   y_pred_flat = flatten(y_pred)\n",
        "#   cm = confusion_matrix(y_true_flat, y_pred_flat,labels=tags)\n",
        "#   disp=ConfusionMatrixDisplay(confusion_matrix=cm,\n",
        "#                               display_labels=tags)\n",
        "#   disp.plot()#include_values=False, cmap=\"viridis\", ax=None, xticks_rotation=\"vertical\")\n",
        "#   plt.show()"
      ]
    },
    {
      "cell_type": "code",
      "execution_count": null,
      "metadata": {
        "id": "QbTZOvqbtZTU"
      },
      "outputs": [],
      "source": [
        "# plot_conf_matrix(y_val, y_pred,list(tags))\n"
      ]
    },
    {
      "cell_type": "code",
      "execution_count": null,
      "metadata": {
        "id": "fAmMPcgYtu76"
      },
      "outputs": [],
      "source": []
    }
  ],
  "metadata": {
    "colab": {
      "provenance": []
    },
    "kernelspec": {
      "display_name": "Python 3",
      "name": "python3"
    },
    "language_info": {
      "name": "python"
    }
  },
  "nbformat": 4,
  "nbformat_minor": 0
}