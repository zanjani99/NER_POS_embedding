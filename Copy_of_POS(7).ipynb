{
  "cells": [
    {
      "cell_type": "code",
      "execution_count": null,
      "metadata": {
        "id": "yJLt9tWmQX6j"
      },
      "outputs": [],
      "source": [
        "from sklearn.model_selection import train_test_split\n",
        "import pandas as pd\n",
        "import numpy as np\n",
        "import random\n",
        "import time\n",
        "import json\n",
        "import seaborn as sn\n",
        "from tqdm import tqdm\n",
        "import matplotlib.pyplot as plt"
      ]
    },
    {
      "cell_type": "code",
      "execution_count": null,
      "metadata": {
        "colab": {
          "base_uri": "https://localhost:8080/"
        },
        "id": "yGri5S5y_-sB",
        "outputId": "8642c23c-9c65-44e5-ac80-d36748163f7b"
      },
      "outputs": [
        {
          "output_type": "stream",
          "name": "stdout",
          "text": [
            "Looking in indexes: https://pypi.org/simple, https://us-python.pkg.dev/colab-wheels/public/simple/\n",
            "Requirement already satisfied: sklearn_crfsuite in /usr/local/lib/python3.10/dist-packages (0.3.6)\n",
            "Requirement already satisfied: python-crfsuite>=0.8.3 in /usr/local/lib/python3.10/dist-packages (from sklearn_crfsuite) (0.9.9)\n",
            "Requirement already satisfied: six in /usr/local/lib/python3.10/dist-packages (from sklearn_crfsuite) (1.16.0)\n",
            "Requirement already satisfied: tabulate in /usr/local/lib/python3.10/dist-packages (from sklearn_crfsuite) (0.8.10)\n",
            "Requirement already satisfied: tqdm>=2.0 in /usr/local/lib/python3.10/dist-packages (from sklearn_crfsuite) (4.65.0)\n"
          ]
        }
      ],
      "source": [
        "! pip install sklearn_crfsuite"
      ]
    },
    {
      "cell_type": "code",
      "execution_count": null,
      "metadata": {
        "id": "o222EUi0_w-d"
      },
      "outputs": [],
      "source": [
        "import re\n",
        "import math, string\n",
        "import sklearn_crfsuite\n",
        "\n",
        "# from sklearn.metrics import make_scorer\n",
        "# from sklearn.metrics import accuracy_score\n",
        "# from sklearn.model_selection import cross_val_score\n",
        "# from sklearn.model_selection import RandomizedSearchCV\n",
        "# from sklearn_crfsuite import scorers\n",
        "from sklearn_crfsuite import metrics\n",
        "# from itertools import chain\n",
        "# from sklearn.preprocessing import MultiLabelBinarizer"
      ]
    },
    {
      "cell_type": "code",
      "execution_count": null,
      "metadata": {
        "id": "YPnQ496cDc92"
      },
      "outputs": [],
      "source": [
        "from sklearn.metrics import confusion_matrix, ConfusionMatrixDisplay"
      ]
    },
    {
      "cell_type": "code",
      "execution_count": null,
      "metadata": {
        "colab": {
          "base_uri": "https://localhost:8080/"
        },
        "id": "pRAOaCAE4CvI",
        "outputId": "f2a02d5b-3bf0-4039-d76d-152e0b81919f"
      },
      "outputs": [
        {
          "name": "stderr",
          "output_type": "stream",
          "text": [
            "[nltk_data] Downloading package punkt to /root/nltk_data...\n",
            "[nltk_data]   Unzipping tokenizers/punkt.zip.\n",
            "[nltk_data] Downloading package averaged_perceptron_tagger to\n",
            "[nltk_data]     /root/nltk_data...\n",
            "[nltk_data]   Unzipping taggers/averaged_perceptron_tagger.zip.\n",
            "[nltk_data] Downloading package universal_tagset to /root/nltk_data...\n",
            "[nltk_data]   Unzipping taggers/universal_tagset.zip.\n",
            "[nltk_data] Downloading package treebank to /root/nltk_data...\n",
            "[nltk_data]   Unzipping corpora/treebank.zip.\n"
          ]
        },
        {
          "data": {
            "text/plain": [
              "True"
            ]
          },
          "execution_count": 5,
          "metadata": {},
          "output_type": "execute_result"
        }
      ],
      "source": [
        "import  nltk\n",
        "from nltk import word_tokenize\n",
        "\n",
        "nltk.download('punkt')\n",
        "nltk.download('averaged_perceptron_tagger')\n",
        "nltk.download('universal_tagset')\n",
        "nltk.download('treebank')"
      ]
    },
    {
      "cell_type": "code",
      "execution_count": null,
      "metadata": {
        "colab": {
          "base_uri": "https://localhost:8080/"
        },
        "id": "EHrwcb6KSqwy",
        "outputId": "eb0025c7-8c4b-4a39-fab8-94daab1e87cb"
      },
      "outputs": [
        {
          "name": "stdout",
          "output_type": "stream",
          "text": [
            "POStest-in.txt\t POStr-in.txt\tPOSvalid-in.txt   sample_data\n",
            "POStest-out.txt  POStr-out.txt\tPOSvalid-out.txt\n"
          ]
        }
      ],
      "source": [
        "!ls"
      ]
    },
    {
      "cell_type": "code",
      "execution_count": null,
      "metadata": {
        "id": "LfyMe2cAfIpm"
      },
      "outputs": [],
      "source": [
        "def load_dataset(X_file,y_file):\n",
        "  '''laod data set and crete list of tuples (word,tag) '''\n",
        "  X=[]\n",
        "  with open(X_file) as f:\n",
        "    # X_train=f.read().splitlines()\n",
        "    for line in f:\n",
        "      X.append(word_tokenize(line))\n",
        "\n",
        "  y=[]\n",
        "  with open(y_file) as f:\n",
        "    for line in f:\n",
        "      y.append(eval(line))\n",
        "\n",
        "  dataset= [[(x,y) for x,y in zip(sublist1, sublist2)] \\\n",
        "                  for sublist1, sublist2 in zip(X, y)]\n",
        "  return dataset"
      ]
    },
    {
      "cell_type": "code",
      "execution_count": null,
      "metadata": {
        "id": "vRe3EeIqgJvU"
      },
      "outputs": [],
      "source": [
        "train_set=load_dataset(\"POStr-in.txt\",\"POStr-out.txt\")\n",
        "val_set=load_dataset(\"POSvalid-in.txt\",\"POSvalid-out.txt\")\n",
        "test_set=load_dataset(\"POStest-in.txt\",\"POStest-out.txt\")\n"
      ]
    },
    {
      "cell_type": "code",
      "execution_count": null,
      "metadata": {
        "id": "0LEN6YkT-G8r"
      },
      "outputs": [],
      "source": [
        "def word2features(sent, i):\n",
        "    word = sent[i][0]\n",
        "\n",
        "    features = {\n",
        "        'bias': 1.0,\n",
        "        'word': word,\n",
        "        'len(word)': len(word),\n",
        "        'word[:4]': word[:4],\n",
        "        'word[:3]': word[:3],\n",
        "        'word[:2]': word[:2],\n",
        "        'word[-3:]': word[-3:],\n",
        "        'word[-2:]': word[-2:],\n",
        "        'word[-4:]': word[-4:],\n",
        "        'word.lower()': word.lower(),\n",
        "        'word.stemmed': re.sub(r'(.{2,}?)([aeiougyn]+$)',r'\\1', word.lower()),\n",
        "        'word.ispunctuation': (word in string.punctuation),\n",
        "        'word.isdigit()': word.isdigit(),\n",
        "    }    \n",
        "    if i > 0:\n",
        "        word1 = sent[i-1][0]\n",
        "        features.update({\n",
        "            '-1:word': word1,\n",
        "            '-1:len(word)': len(word1),\n",
        "            '-1:word.lower()': word1.lower(),\n",
        "            '-1:word.stemmed': re.sub(r'(.{2,}?)([aeiougyn]+$)',r'\\1', word1.lower()),\n",
        "            '-1:word[:3]': word1[:3],\n",
        "            '-1:word[:2]': word1[:2],\n",
        "            '-1:word[-3:]': word1[-3:],\n",
        "            '-1:word[-2:]': word1[-2:],\n",
        "            '-1:word.isdigit()': word1.isdigit(),\n",
        "            '-1:word.ispunctuation': (word1 in string.punctuation),\n",
        "        })\n",
        "    else:\n",
        "        features['BOS'] = True\n",
        "\n",
        "    if i > 1:\n",
        "        word2 = sent[i-2][0]\n",
        "        features.update({\n",
        "            '-2:word': word2,\n",
        "            '-2:len(word)': len(word2),\n",
        "            '-2:word.lower()': word2.lower(),\n",
        "            '-2:word[:3]': word2[:3],\n",
        "            '-2:word[:2]': word2[:2],\n",
        "            '-2:word[-3:]': word2[-3:],\n",
        "            '-2:word[-2:]': word2[-2:],\n",
        "            '-2:word.isdigit()': word2.isdigit(),\n",
        "            '-2:word.ispunctuation': (word2 in string.punctuation),\n",
        "        })\n",
        "\n",
        "    if i < len(sent)-1:\n",
        "        word1 = sent[i+1][0]\n",
        "        features.update({\n",
        "            '+1:word': word1,\n",
        "            '+1:len(word)': len(word1),\n",
        "            '+1:word.lower()': word1.lower(),\n",
        "            '+1:word[:3]': word1[:3],\n",
        "            '+1:word[:2]': word1[:2],\n",
        "            '+1:word[-3:]': word1[-3:],\n",
        "            '+1:word[-2:]': word1[-2:],\n",
        "            '+1:word.isdigit()': word1.isdigit(),\n",
        "            '+1:word.ispunctuation': (word1 in string.punctuation),\n",
        "        })\n",
        "\n",
        "    else:\n",
        "        features['EOS'] = True    \n",
        "    if i < len(sent) - 2:\n",
        "        word2 = sent[i+2][0]\n",
        "        features.update({\n",
        "            '+2:word': word2,\n",
        "            '+2:len(word)': len(word2),\n",
        "            '+2:word.lower()': word2.lower(),\n",
        "            '+2:word.stemmed': re.sub(r'(.{2,}?)([aeiougyn]+$)',r'\\1', word2.lower()),\n",
        "            '+2:word[:3]': word2[:3],\n",
        "            '+2:word[:2]': word2[:2],\n",
        "            '+2:word[-3:]': word2[-3:],\n",
        "            '+2:word[-2:]': word2[-2:],\n",
        "            '+2:word.isdigit()': word2.isdigit(),\n",
        "            '+2:word.ispunctuation': (word2 in string.punctuation),\n",
        "        })\n",
        "\n",
        "    return features\n",
        "\n",
        "\n",
        "def sent2features(sent):\n",
        "    return [word2features(sent, i) for i in range(len(sent))]\n",
        "\n",
        "def sent2labels(sent):\n",
        "    return [word[1] for word in sent]\n",
        "\n",
        "def sent2tokens(sent):\n",
        "    return [word[0] for word in sent]"
      ]
    },
    {
      "cell_type": "code",
      "execution_count": null,
      "metadata": {
        "id": "qw6UFo_b-mRu"
      },
      "outputs": [],
      "source": [
        "Xtrain = [sent2features(s) for s in train_set]\n",
        "ytrain = [sent2labels(s) for s in train_set]"
      ]
    },
    {
      "cell_type": "code",
      "execution_count": null,
      "metadata": {
        "id": "axBVhC3XAWfk"
      },
      "outputs": [],
      "source": [
        "X_val = [sent2features(s) for s in val_set]\n",
        "y_val = [sent2labels(s) for s in val_set]"
      ]
    },
    {
      "cell_type": "code",
      "execution_count": null,
      "metadata": {
        "colab": {
          "base_uri": "https://localhost:8080/"
        },
        "id": "Ns2Dxkx1_lm8",
        "outputId": "f8b5e7d4-a697-4596-93d4-fd90d4ff60d7"
      },
      "outputs": [
        {
          "name": "stderr",
          "output_type": "stream",
          "text": [
            "loading training data to CRFsuite: 100%|██████████| 6974/6974 [00:14<00:00, 491.09it/s]\n"
          ]
        },
        {
          "name": "stdout",
          "output_type": "stream",
          "text": [
            "\n"
          ]
        },
        {
          "name": "stderr",
          "output_type": "stream",
          "text": [
            "loading dev data to CRFsuite: 100%|██████████| 1740/1740 [00:03<00:00, 489.09it/s]\n"
          ]
        },
        {
          "name": "stdout",
          "output_type": "stream",
          "text": [
            "\n",
            "Holdout group: 2\n",
            "\n",
            "Feature generation\n",
            "type: CRF1d\n",
            "feature.minfreq: 0.000000\n",
            "feature.possible_states: 0\n",
            "feature.possible_transitions: 1\n",
            "0....1....2....3....4....5....6....7....8....9....10\n",
            "Number of features: 974274\n",
            "Seconds required: 6.396\n",
            "\n",
            "L-BFGS optimization\n",
            "c1: 0.250000\n",
            "c2: 0.300000\n",
            "num_memories: 6\n",
            "max_iterations: 200\n",
            "epsilon: 0.000010\n",
            "stop: 10\n",
            "delta: 0.000010\n",
            "linesearch: MoreThuente\n",
            "linesearch.max_iterations: 20\n",
            "\n",
            "Iter 1   time=9.19  loss=634793.85 active=940338 precision=0.004  recall=0.023  F1=0.007  Acc(item/seq)=0.180 0.000  feature_norm=0.50\n",
            "Iter 2   time=4.32  loss=597840.91 active=935947 precision=0.024  recall=0.031  F1=0.012  Acc(item/seq)=0.149 0.000  feature_norm=0.62\n",
            "Iter 3   time=3.83  loss=581923.47 active=951404 precision=0.026  recall=0.042  F1=0.024  Acc(item/seq)=0.237 0.000  feature_norm=0.69\n",
            "Iter 4   time=3.35  loss=557663.31 active=937448 precision=0.075  recall=0.068  F1=0.052  Acc(item/seq)=0.289 0.001  feature_norm=0.98\n",
            "Iter 5   time=3.36  loss=539904.05 active=948139 precision=0.104  recall=0.077  F1=0.062  Acc(item/seq)=0.325 0.000  feature_norm=1.11\n",
            "Iter 6   time=4.84  loss=508491.54 active=941831 precision=0.098  recall=0.103  F1=0.087  Acc(item/seq)=0.371 0.000  feature_norm=1.54\n",
            "Iter 7   time=3.45  loss=473778.29 active=948221 precision=0.129  recall=0.113  F1=0.098  Acc(item/seq)=0.401 0.000  feature_norm=2.00\n",
            "Iter 8   time=3.46  loss=431761.30 active=951939 precision=0.178  recall=0.141  F1=0.131  Acc(item/seq)=0.426 0.000  feature_norm=2.83\n",
            "Iter 9   time=3.63  loss=378027.74 active=954698 precision=0.304  recall=0.188  F1=0.195  Acc(item/seq)=0.487 0.003  feature_norm=4.21\n",
            "Iter 10  time=4.67  loss=334216.46 active=955990 precision=0.381  recall=0.240  F1=0.243  Acc(item/seq)=0.536 0.001  feature_norm=5.83\n",
            "Iter 11  time=3.38  loss=300931.80 active=956312 precision=0.401  recall=0.292  F1=0.304  Acc(item/seq)=0.583 0.010  feature_norm=7.57\n",
            "Iter 12  time=3.42  loss=274474.30 active=954681 precision=0.476  recall=0.310  F1=0.319  Acc(item/seq)=0.607 0.009  feature_norm=9.67\n",
            "Iter 13  time=4.12  loss=242081.32 active=949311 precision=0.495  recall=0.344  F1=0.364  Acc(item/seq)=0.639 0.017  feature_norm=13.21\n",
            "Iter 14  time=4.12  loss=211736.83 active=928698 precision=0.526  recall=0.368  F1=0.390  Acc(item/seq)=0.665 0.021  feature_norm=17.08\n",
            "Iter 15  time=3.41  loss=188025.43 active=919159 precision=0.563  recall=0.418  F1=0.441  Acc(item/seq)=0.716 0.031  feature_norm=20.59\n",
            "Iter 16  time=3.40  loss=166949.14 active=895425 precision=0.570  recall=0.479  F1=0.507  Acc(item/seq)=0.752 0.033  feature_norm=24.09\n",
            "Iter 17  time=4.68  loss=143683.83 active=851162 precision=0.660  recall=0.515  F1=0.546  Acc(item/seq)=0.769 0.042  feature_norm=28.71\n",
            "Iter 18  time=3.61  loss=127117.71 active=817669 precision=0.666  recall=0.560  F1=0.588  Acc(item/seq)=0.806 0.048  feature_norm=31.21\n",
            "Iter 19  time=3.40  loss=113351.33 active=814534 precision=0.672  recall=0.578  F1=0.607  Acc(item/seq)=0.822 0.055  feature_norm=33.66\n",
            "Iter 20  time=3.47  loss=96286.59 active=808480 precision=0.672  recall=0.614  F1=0.633  Acc(item/seq)=0.851 0.068  feature_norm=38.18\n",
            "Iter 21  time=4.88  loss=83712.48 active=799371 precision=0.679  recall=0.629  F1=0.647  Acc(item/seq)=0.868 0.085  feature_norm=42.53\n",
            "Iter 22  time=3.43  loss=74810.11 active=711780 precision=0.734  recall=0.654  F1=0.672  Acc(item/seq)=0.880 0.089  feature_norm=47.48\n",
            "Iter 23  time=3.40  loss=64988.25 active=679731 precision=0.764  recall=0.684  F1=0.701  Acc(item/seq)=0.898 0.125  feature_norm=51.83\n",
            "Iter 24  time=3.92  loss=57715.04 active=650101 precision=0.766  recall=0.703  F1=0.718  Acc(item/seq)=0.909 0.141  feature_norm=57.39\n",
            "Iter 25  time=4.35  loss=50759.56 active=629712 precision=0.772  recall=0.723  F1=0.734  Acc(item/seq)=0.922 0.189  feature_norm=64.95\n",
            "Iter 26  time=3.41  loss=45392.80 active=597197 precision=0.793  recall=0.742  F1=0.754  Acc(item/seq)=0.927 0.204  feature_norm=70.85\n",
            "Iter 27  time=3.43  loss=41437.29 active=581969 precision=0.794  recall=0.766  F1=0.774  Acc(item/seq)=0.934 0.236  feature_norm=74.54\n",
            "Iter 28  time=4.52  loss=37886.74 active=555725 precision=0.852  recall=0.795  F1=0.810  Acc(item/seq)=0.940 0.252  feature_norm=79.03\n",
            "Iter 29  time=3.74  loss=34597.26 active=524347 precision=0.910  recall=0.836  F1=0.860  Acc(item/seq)=0.945 0.283  feature_norm=86.12\n",
            "Iter 30  time=3.42  loss=32284.97 active=516552 precision=0.899  recall=0.866  F1=0.878  Acc(item/seq)=0.949 0.313  feature_norm=91.05\n",
            "Iter 31  time=3.36  loss=30866.76 active=512750 precision=0.902  recall=0.863  F1=0.878  Acc(item/seq)=0.951 0.318  feature_norm=93.11\n",
            "Iter 32  time=4.85  loss=29254.49 active=469160 precision=0.914  recall=0.862  F1=0.882  Acc(item/seq)=0.952 0.338  feature_norm=96.61\n",
            "Iter 33  time=3.40  loss=27722.45 active=455264 precision=0.910  recall=0.861  F1=0.877  Acc(item/seq)=0.954 0.353  feature_norm=102.74\n",
            "Iter 34  time=3.35  loss=26541.12 active=456100 precision=0.912  recall=0.863  F1=0.882  Acc(item/seq)=0.956 0.371  feature_norm=103.54\n",
            "Iter 35  time=3.51  loss=25672.96 active=451722 precision=0.911  recall=0.865  F1=0.883  Acc(item/seq)=0.957 0.377  feature_norm=104.39\n",
            "Iter 36  time=4.65  loss=24379.05 active=422000 precision=0.914  recall=0.873  F1=0.890  Acc(item/seq)=0.958 0.391  feature_norm=106.75\n",
            "Iter 37  time=3.44  loss=23712.38 active=415620 precision=0.917  recall=0.873  F1=0.891  Acc(item/seq)=0.959 0.395  feature_norm=107.47\n",
            "Iter 38  time=3.39  loss=23067.52 active=386025 precision=0.919  recall=0.875  F1=0.893  Acc(item/seq)=0.959 0.393  feature_norm=108.54\n",
            "Iter 39  time=4.04  loss=22240.19 active=350325 precision=0.922  recall=0.876  F1=0.894  Acc(item/seq)=0.960 0.403  feature_norm=111.71\n",
            "Iter 40  time=6.97  loss=21971.28 active=344653 precision=0.922  recall=0.876  F1=0.895  Acc(item/seq)=0.961 0.397  feature_norm=112.75\n",
            "Iter 41  time=3.38  loss=21565.60 active=332397 precision=0.923  recall=0.875  F1=0.894  Acc(item/seq)=0.961 0.399  feature_norm=113.96\n",
            "Iter 42  time=4.25  loss=21116.96 active=313586 precision=0.927  recall=0.875  F1=0.896  Acc(item/seq)=0.961 0.407  feature_norm=115.65\n",
            "Iter 43  time=3.94  loss=20708.08 active=306819 precision=0.929  recall=0.874  F1=0.896  Acc(item/seq)=0.962 0.415  feature_norm=116.54\n",
            "Iter 44  time=3.37  loss=20378.85 active=300038 precision=0.928  recall=0.873  F1=0.895  Acc(item/seq)=0.962 0.415  feature_norm=117.31\n",
            "Iter 45  time=3.39  loss=20045.41 active=289938 precision=0.931  recall=0.877  F1=0.899  Acc(item/seq)=0.963 0.420  feature_norm=118.03\n",
            "Iter 46  time=7.69  loss=19981.30 active=280851 precision=0.932  recall=0.875  F1=0.897  Acc(item/seq)=0.963 0.419  feature_norm=118.25\n",
            "Iter 47  time=3.39  loss=19721.29 active=276114 precision=0.933  recall=0.875  F1=0.898  Acc(item/seq)=0.963 0.420  feature_norm=118.45\n",
            "Iter 48  time=3.38  loss=19544.04 active=259860 precision=0.934  recall=0.875  F1=0.898  Acc(item/seq)=0.963 0.423  feature_norm=118.68\n",
            "Iter 49  time=4.83  loss=19338.90 active=252375 precision=0.932  recall=0.878  F1=0.900  Acc(item/seq)=0.963 0.426  feature_norm=119.03\n",
            "Iter 50  time=3.42  loss=19154.68 active=243003 precision=0.932  recall=0.880  F1=0.901  Acc(item/seq)=0.963 0.427  feature_norm=119.31\n",
            "Iter 51  time=3.35  loss=19005.88 active=236671 precision=0.934  recall=0.881  F1=0.902  Acc(item/seq)=0.964 0.430  feature_norm=119.38\n",
            "Iter 52  time=3.47  loss=18860.00 active=230604 precision=0.934  recall=0.881  F1=0.903  Acc(item/seq)=0.963 0.428  feature_norm=119.47\n",
            "Iter 53  time=4.68  loss=18703.02 active=218911 precision=0.933  recall=0.885  F1=0.905  Acc(item/seq)=0.964 0.424  feature_norm=119.80\n",
            "Iter 54  time=3.36  loss=18577.02 active=216955 precision=0.933  recall=0.884  F1=0.905  Acc(item/seq)=0.964 0.429  feature_norm=119.85\n",
            "Iter 55  time=3.36  loss=18502.13 active=214500 precision=0.933  recall=0.885  F1=0.905  Acc(item/seq)=0.964 0.429  feature_norm=119.97\n",
            "Iter 56  time=3.96  loss=18359.92 active=205612 precision=0.933  recall=0.879  F1=0.900  Acc(item/seq)=0.964 0.432  feature_norm=120.36\n",
            "Iter 57  time=7.16  loss=18315.69 active=204466 precision=0.933  recall=0.881  F1=0.902  Acc(item/seq)=0.964 0.434  feature_norm=120.35\n",
            "Iter 58  time=3.37  loss=18242.43 active=202945 precision=0.932  recall=0.880  F1=0.900  Acc(item/seq)=0.964 0.435  feature_norm=120.44\n",
            "Iter 59  time=4.11  loss=18163.51 active=198508 precision=0.933  recall=0.883  F1=0.903  Acc(item/seq)=0.964 0.438  feature_norm=120.57\n",
            "Iter 60  time=4.05  loss=18115.82 active=195699 precision=0.933  recall=0.882  F1=0.903  Acc(item/seq)=0.964 0.436  feature_norm=120.62\n",
            "Iter 61  time=3.38  loss=18046.95 active=194983 precision=0.932  recall=0.883  F1=0.903  Acc(item/seq)=0.964 0.438  feature_norm=120.73\n",
            "Iter 62  time=3.37  loss=18008.51 active=193981 precision=0.932  recall=0.882  F1=0.903  Acc(item/seq)=0.964 0.439  feature_norm=120.70\n",
            "Iter 63  time=4.59  loss=17934.95 active=189307 precision=0.933  recall=0.885  F1=0.905  Acc(item/seq)=0.964 0.440  feature_norm=120.67\n",
            "Iter 64  time=3.65  loss=17899.68 active=186838 precision=0.933  recall=0.889  F1=0.907  Acc(item/seq)=0.964 0.441  feature_norm=120.65\n",
            "Iter 65  time=3.35  loss=17851.82 active=186593 precision=0.933  recall=0.889  F1=0.907  Acc(item/seq)=0.964 0.440  feature_norm=120.64\n",
            "Iter 66  time=3.41  loss=17812.45 active=184239 precision=0.933  recall=0.889  F1=0.907  Acc(item/seq)=0.964 0.443  feature_norm=120.59\n",
            "Iter 67  time=4.91  loss=17757.47 active=179951 precision=0.934  recall=0.891  F1=0.909  Acc(item/seq)=0.964 0.440  feature_norm=120.52\n",
            "Iter 68  time=3.54  loss=17721.47 active=177383 precision=0.933  recall=0.888  F1=0.907  Acc(item/seq)=0.964 0.436  feature_norm=120.47\n",
            "Iter 69  time=3.52  loss=17687.08 active=176728 precision=0.934  recall=0.890  F1=0.908  Acc(item/seq)=0.964 0.437  feature_norm=120.47\n",
            "Iter 70  time=4.12  loss=17651.43 active=174536 precision=0.934  recall=0.891  F1=0.909  Acc(item/seq)=0.964 0.437  feature_norm=120.42\n",
            "Iter 71  time=13.79 loss=17639.21 active=173339 precision=0.934  recall=0.891  F1=0.909  Acc(item/seq)=0.964 0.436  feature_norm=120.41\n",
            "Iter 72  time=4.55  loss=17603.45 active=171144 precision=0.934  recall=0.888  F1=0.907  Acc(item/seq)=0.964 0.444  feature_norm=120.39\n",
            "Iter 73  time=3.54  loss=17575.26 active=169436 precision=0.934  recall=0.891  F1=0.909  Acc(item/seq)=0.964 0.444  feature_norm=120.38\n",
            "Iter 74  time=3.59  loss=17549.66 active=167974 precision=0.934  recall=0.891  F1=0.909  Acc(item/seq)=0.964 0.445  feature_norm=120.38\n",
            "Iter 75  time=4.79  loss=17515.16 active=165566 precision=0.933  recall=0.891  F1=0.909  Acc(item/seq)=0.964 0.443  feature_norm=120.38\n",
            "Iter 76  time=6.69  loss=17498.94 active=164727 precision=0.933  recall=0.891  F1=0.909  Acc(item/seq)=0.964 0.446  feature_norm=120.39\n",
            "Iter 77  time=3.56  loss=17473.74 active=163886 precision=0.932  recall=0.891  F1=0.908  Acc(item/seq)=0.964 0.444  feature_norm=120.39\n",
            "Iter 78  time=4.86  loss=17450.65 active=162446 precision=0.932  recall=0.890  F1=0.908  Acc(item/seq)=0.965 0.445  feature_norm=120.41\n",
            "Iter 79  time=3.46  loss=17423.39 active=160617 precision=0.932  recall=0.891  F1=0.909  Acc(item/seq)=0.964 0.447  feature_norm=120.43\n",
            "Iter 80  time=3.44  loss=17404.55 active=159117 precision=0.931  recall=0.890  F1=0.907  Acc(item/seq)=0.964 0.445  feature_norm=120.46\n",
            "Iter 81  time=3.90  loss=17383.10 active=158593 precision=0.932  recall=0.891  F1=0.909  Acc(item/seq)=0.964 0.445  feature_norm=120.48\n",
            "Iter 82  time=4.42  loss=17366.69 active=157967 precision=0.933  recall=0.890  F1=0.908  Acc(item/seq)=0.964 0.445  feature_norm=120.49\n",
            "Iter 83  time=3.48  loss=17345.56 active=156516 precision=0.931  recall=0.889  F1=0.907  Acc(item/seq)=0.964 0.446  feature_norm=120.49\n",
            "Iter 84  time=3.43  loss=17326.18 active=154192 precision=0.933  recall=0.890  F1=0.908  Acc(item/seq)=0.964 0.442  feature_norm=120.52\n",
            "Iter 85  time=4.53  loss=17310.34 active=153945 precision=0.933  recall=0.890  F1=0.908  Acc(item/seq)=0.964 0.440  feature_norm=120.54\n",
            "Iter 86  time=3.73  loss=17298.13 active=153784 precision=0.932  recall=0.890  F1=0.908  Acc(item/seq)=0.964 0.442  feature_norm=120.55\n",
            "Iter 87  time=3.58  loss=17285.42 active=153447 precision=0.932  recall=0.891  F1=0.908  Acc(item/seq)=0.964 0.443  feature_norm=120.55\n",
            "Iter 88  time=3.52  loss=17270.76 active=152427 precision=0.932  recall=0.890  F1=0.908  Acc(item/seq)=0.964 0.442  feature_norm=120.54\n",
            "Iter 89  time=5.01  loss=17254.31 active=151288 precision=0.932  recall=0.890  F1=0.908  Acc(item/seq)=0.964 0.442  feature_norm=120.53\n",
            "Iter 90  time=3.45  loss=17240.83 active=151215 precision=0.932  recall=0.890  F1=0.908  Acc(item/seq)=0.964 0.438  feature_norm=120.54\n",
            "Iter 91  time=3.44  loss=17228.98 active=150492 precision=0.932  recall=0.891  F1=0.908  Acc(item/seq)=0.964 0.438  feature_norm=120.53\n",
            "Iter 92  time=3.94  loss=17216.21 active=150101 precision=0.933  recall=0.890  F1=0.908  Acc(item/seq)=0.964 0.439  feature_norm=120.52\n",
            "Iter 93  time=4.28  loss=17203.77 active=149385 precision=0.932  recall=0.891  F1=0.909  Acc(item/seq)=0.964 0.440  feature_norm=120.52\n",
            "Iter 94  time=3.40  loss=17193.41 active=148401 precision=0.932  recall=0.890  F1=0.908  Acc(item/seq)=0.964 0.440  feature_norm=120.52\n",
            "Iter 95  time=3.36  loss=17182.60 active=148082 precision=0.932  recall=0.890  F1=0.908  Acc(item/seq)=0.964 0.440  feature_norm=120.51\n",
            "Iter 96  time=4.46  loss=17173.39 active=147744 precision=0.932  recall=0.890  F1=0.908  Acc(item/seq)=0.964 0.441  feature_norm=120.51\n",
            "Iter 97  time=3.74  loss=17163.13 active=147240 precision=0.932  recall=0.892  F1=0.909  Acc(item/seq)=0.964 0.441  feature_norm=120.50\n",
            "Iter 98  time=3.40  loss=17153.03 active=146438 precision=0.932  recall=0.890  F1=0.908  Acc(item/seq)=0.964 0.442  feature_norm=120.50\n",
            "Iter 99  time=3.46  loss=17144.37 active=146003 precision=0.932  recall=0.892  F1=0.909  Acc(item/seq)=0.964 0.440  feature_norm=120.50\n",
            "Iter 100 time=4.92  loss=17136.74 active=145866 precision=0.932  recall=0.892  F1=0.909  Acc(item/seq)=0.964 0.440  feature_norm=120.51\n",
            "Iter 101 time=3.39  loss=17129.19 active=145515 precision=0.932  recall=0.892  F1=0.909  Acc(item/seq)=0.964 0.438  feature_norm=120.51\n",
            "Iter 102 time=3.38  loss=17121.46 active=144977 precision=0.932  recall=0.892  F1=0.909  Acc(item/seq)=0.964 0.439  feature_norm=120.51\n",
            "Iter 103 time=3.62  loss=17113.95 active=144272 precision=0.929  recall=0.891  F1=0.907  Acc(item/seq)=0.964 0.439  feature_norm=120.51\n",
            "Iter 104 time=4.60  loss=17107.35 active=144091 precision=0.932  recall=0.892  F1=0.909  Acc(item/seq)=0.964 0.439  feature_norm=120.50\n",
            "Iter 105 time=3.37  loss=17101.09 active=143848 precision=0.932  recall=0.891  F1=0.909  Acc(item/seq)=0.964 0.439  feature_norm=120.50\n",
            "Iter 106 time=3.43  loss=17094.78 active=143380 precision=0.932  recall=0.891  F1=0.909  Acc(item/seq)=0.964 0.438  feature_norm=120.48\n",
            "Iter 107 time=4.15  loss=17087.96 active=142652 precision=0.932  recall=0.891  F1=0.908  Acc(item/seq)=0.964 0.438  feature_norm=120.48\n",
            "Iter 108 time=4.15  loss=17082.02 active=142360 precision=0.932  recall=0.892  F1=0.909  Acc(item/seq)=0.964 0.441  feature_norm=120.46\n",
            "Iter 109 time=3.41  loss=17076.51 active=141907 precision=0.932  recall=0.891  F1=0.909  Acc(item/seq)=0.964 0.441  feature_norm=120.45\n",
            "Iter 110 time=3.41  loss=17072.52 active=141359 precision=0.932  recall=0.892  F1=0.909  Acc(item/seq)=0.964 0.442  feature_norm=120.43\n",
            "Iter 111 time=4.64  loss=17066.92 active=141166 precision=0.933  recall=0.892  F1=0.909  Acc(item/seq)=0.964 0.443  feature_norm=120.41\n",
            "Iter 112 time=3.56  loss=17063.17 active=140931 precision=0.932  recall=0.892  F1=0.909  Acc(item/seq)=0.964 0.441  feature_norm=120.40\n",
            "Iter 113 time=3.44  loss=17057.79 active=140343 precision=0.932  recall=0.892  F1=0.909  Acc(item/seq)=0.964 0.443  feature_norm=120.37\n",
            "Iter 114 time=3.42  loss=17051.94 active=139621 precision=0.932  recall=0.892  F1=0.909  Acc(item/seq)=0.964 0.443  feature_norm=120.36\n",
            "Iter 115 time=4.88  loss=17048.30 active=139138 precision=0.933  recall=0.892  F1=0.909  Acc(item/seq)=0.964 0.442  feature_norm=120.34\n",
            "Iter 116 time=3.40  loss=17044.32 active=139272 precision=0.932  recall=0.892  F1=0.909  Acc(item/seq)=0.964 0.442  feature_norm=120.34\n",
            "Iter 117 time=3.36  loss=17040.94 active=139018 precision=0.933  recall=0.892  F1=0.909  Acc(item/seq)=0.964 0.440  feature_norm=120.33\n",
            "Iter 118 time=3.81  loss=17036.90 active=138599 precision=0.932  recall=0.892  F1=0.909  Acc(item/seq)=0.964 0.445  feature_norm=120.32\n",
            "Iter 119 time=4.55  loss=17032.70 active=138138 precision=0.933  recall=0.892  F1=0.909  Acc(item/seq)=0.964 0.444  feature_norm=120.31\n",
            "Iter 120 time=3.41  loss=17029.72 active=137901 precision=0.932  recall=0.892  F1=0.909  Acc(item/seq)=0.964 0.445  feature_norm=120.30\n",
            "Iter 121 time=3.35  loss=17026.31 active=138026 precision=0.933  recall=0.892  F1=0.909  Acc(item/seq)=0.964 0.444  feature_norm=120.30\n",
            "Iter 122 time=4.35  loss=17023.77 active=137798 precision=0.932  recall=0.892  F1=0.909  Acc(item/seq)=0.964 0.444  feature_norm=120.30\n",
            "Iter 123 time=3.91  loss=17021.04 active=137638 precision=0.929  recall=0.892  F1=0.908  Acc(item/seq)=0.964 0.444  feature_norm=120.29\n",
            "Iter 124 time=3.44  loss=17017.63 active=137309 precision=0.929  recall=0.892  F1=0.908  Acc(item/seq)=0.964 0.444  feature_norm=120.29\n",
            "Iter 125 time=3.42  loss=17015.40 active=136909 precision=0.929  recall=0.892  F1=0.908  Acc(item/seq)=0.965 0.443  feature_norm=120.28\n",
            "Iter 126 time=4.95  loss=17011.97 active=137107 precision=0.928  recall=0.892  F1=0.908  Acc(item/seq)=0.964 0.446  feature_norm=120.29\n",
            "Iter 127 time=3.57  loss=17009.00 active=137036 precision=0.928  recall=0.892  F1=0.908  Acc(item/seq)=0.964 0.442  feature_norm=120.29\n",
            "Iter 128 time=3.50  loss=17007.13 active=137027 precision=0.927  recall=0.892  F1=0.907  Acc(item/seq)=0.964 0.444  feature_norm=120.29\n",
            "Iter 129 time=3.74  loss=17004.62 active=136790 precision=0.928  recall=0.892  F1=0.907  Acc(item/seq)=0.964 0.440  feature_norm=120.29\n",
            "Iter 130 time=4.57  loss=17003.07 active=136532 precision=0.928  recall=0.892  F1=0.907  Acc(item/seq)=0.964 0.444  feature_norm=120.30\n",
            "Iter 131 time=3.42  loss=17000.50 active=136402 precision=0.927  recall=0.892  F1=0.907  Acc(item/seq)=0.964 0.439  feature_norm=120.29\n",
            "Iter 132 time=3.47  loss=16998.58 active=136418 precision=0.927  recall=0.892  F1=0.907  Acc(item/seq)=0.964 0.440  feature_norm=120.30\n",
            "Iter 133 time=4.44  loss=16996.32 active=136423 precision=0.928  recall=0.892  F1=0.907  Acc(item/seq)=0.964 0.439  feature_norm=120.30\n",
            "Iter 134 time=3.89  loss=16994.64 active=136399 precision=0.927  recall=0.892  F1=0.907  Acc(item/seq)=0.964 0.441  feature_norm=120.30\n",
            "Iter 135 time=3.41  loss=16992.75 active=136183 precision=0.928  recall=0.892  F1=0.907  Acc(item/seq)=0.964 0.439  feature_norm=120.30\n",
            "Iter 136 time=3.38  loss=16991.19 active=136042 precision=0.927  recall=0.892  F1=0.907  Acc(item/seq)=0.964 0.442  feature_norm=120.31\n",
            "Iter 137 time=4.86  loss=16989.00 active=135990 precision=0.928  recall=0.892  F1=0.907  Acc(item/seq)=0.964 0.440  feature_norm=120.31\n",
            "Iter 138 time=3.47  loss=16987.27 active=135970 precision=0.927  recall=0.892  F1=0.907  Acc(item/seq)=0.964 0.440  feature_norm=120.32\n",
            "Iter 139 time=3.40  loss=16985.45 active=135886 precision=0.929  recall=0.892  F1=0.907  Acc(item/seq)=0.964 0.439  feature_norm=120.32\n",
            "Iter 140 time=3.59  loss=16984.01 active=135802 precision=0.928  recall=0.892  F1=0.907  Acc(item/seq)=0.964 0.440  feature_norm=120.33\n",
            "Iter 141 time=4.64  loss=16982.47 active=135662 precision=0.929  recall=0.892  F1=0.907  Acc(item/seq)=0.964 0.438  feature_norm=120.33\n",
            "Iter 142 time=3.38  loss=16981.01 active=135520 precision=0.928  recall=0.892  F1=0.907  Acc(item/seq)=0.964 0.440  feature_norm=120.34\n",
            "Iter 143 time=3.41  loss=16979.43 active=135450 precision=0.929  recall=0.892  F1=0.907  Acc(item/seq)=0.964 0.439  feature_norm=120.35\n",
            "Iter 144 time=4.11  loss=16977.98 active=135405 precision=0.928  recall=0.892  F1=0.908  Acc(item/seq)=0.964 0.440  feature_norm=120.36\n",
            "Iter 145 time=4.19  loss=16976.59 active=135399 precision=0.928  recall=0.891  F1=0.907  Acc(item/seq)=0.964 0.437  feature_norm=120.36\n",
            "Iter 146 time=3.44  loss=16975.40 active=135283 precision=0.928  recall=0.892  F1=0.908  Acc(item/seq)=0.964 0.439  feature_norm=120.37\n",
            "Iter 147 time=3.39  loss=16974.17 active=135165 precision=0.928  recall=0.892  F1=0.907  Acc(item/seq)=0.964 0.438  feature_norm=120.38\n",
            "Iter 148 time=4.73  loss=16973.02 active=135059 precision=0.928  recall=0.892  F1=0.907  Acc(item/seq)=0.964 0.439  feature_norm=120.39\n",
            "Iter 149 time=3.62  loss=16971.84 active=135062 precision=0.928  recall=0.892  F1=0.907  Acc(item/seq)=0.964 0.438  feature_norm=120.40\n",
            "Iter 150 time=3.43  loss=16970.69 active=134967 precision=0.928  recall=0.892  F1=0.907  Acc(item/seq)=0.964 0.440  feature_norm=120.41\n",
            "Iter 151 time=3.44  loss=16969.54 active=134961 precision=0.928  recall=0.892  F1=0.907  Acc(item/seq)=0.964 0.439  feature_norm=120.41\n",
            "Iter 152 time=4.86  loss=16968.48 active=134944 precision=0.928  recall=0.892  F1=0.907  Acc(item/seq)=0.964 0.440  feature_norm=120.43\n",
            "Iter 153 time=3.42  loss=16967.36 active=134883 precision=0.928  recall=0.892  F1=0.907  Acc(item/seq)=0.964 0.438  feature_norm=120.43\n",
            "Iter 154 time=3.42  loss=16966.50 active=134823 precision=0.928  recall=0.892  F1=0.907  Acc(item/seq)=0.964 0.440  feature_norm=120.45\n",
            "Iter 155 time=3.92  loss=16965.50 active=134758 precision=0.928  recall=0.892  F1=0.908  Acc(item/seq)=0.964 0.439  feature_norm=120.45\n",
            "Iter 156 time=4.35  loss=16964.54 active=134679 precision=0.927  recall=0.892  F1=0.907  Acc(item/seq)=0.964 0.440  feature_norm=120.47\n",
            "Iter 157 time=3.44  loss=16963.51 active=134655 precision=0.928  recall=0.892  F1=0.908  Acc(item/seq)=0.964 0.441  feature_norm=120.48\n",
            "Iter 158 time=3.41  loss=16962.65 active=134621 precision=0.927  recall=0.892  F1=0.907  Acc(item/seq)=0.964 0.439  feature_norm=120.49\n",
            "Iter 159 time=4.50  loss=16961.71 active=134577 precision=0.928  recall=0.892  F1=0.908  Acc(item/seq)=0.964 0.440  feature_norm=120.49\n",
            "Iter 160 time=3.77  loss=16960.91 active=134512 precision=0.927  recall=0.892  F1=0.907  Acc(item/seq)=0.964 0.439  feature_norm=120.51\n",
            "Iter 161 time=3.44  loss=16960.04 active=134467 precision=0.928  recall=0.892  F1=0.908  Acc(item/seq)=0.964 0.440  feature_norm=120.51\n",
            "Iter 162 time=3.44  loss=16959.26 active=134472 precision=0.927  recall=0.892  F1=0.907  Acc(item/seq)=0.964 0.440  feature_norm=120.53\n",
            "Iter 163 time=4.84  loss=16958.46 active=134425 precision=0.928  recall=0.892  F1=0.907  Acc(item/seq)=0.964 0.439  feature_norm=120.53\n",
            "Iter 164 time=3.44  loss=16957.66 active=134391 precision=0.927  recall=0.892  F1=0.907  Acc(item/seq)=0.964 0.441  feature_norm=120.55\n",
            "Iter 165 time=3.43  loss=16956.93 active=134340 precision=0.928  recall=0.892  F1=0.908  Acc(item/seq)=0.964 0.439  feature_norm=120.55\n",
            "Iter 166 time=3.80  loss=16956.22 active=134249 precision=0.927  recall=0.892  F1=0.907  Acc(item/seq)=0.964 0.440  feature_norm=120.56\n",
            "Iter 167 time=4.49  loss=16955.50 active=134156 precision=0.928  recall=0.892  F1=0.908  Acc(item/seq)=0.964 0.440  feature_norm=120.57\n",
            "Iter 168 time=3.40  loss=16954.76 active=134098 precision=0.927  recall=0.892  F1=0.907  Acc(item/seq)=0.964 0.440  feature_norm=120.58\n",
            "Iter 169 time=3.40  loss=16954.03 active=134020 precision=0.928  recall=0.892  F1=0.908  Acc(item/seq)=0.964 0.440  feature_norm=120.58\n",
            "Iter 170 time=4.32  loss=16953.40 active=133958 precision=0.927  recall=0.892  F1=0.907  Acc(item/seq)=0.964 0.440  feature_norm=120.59\n",
            "Iter 171 time=3.92  loss=16952.76 active=133926 precision=0.929  recall=0.892  F1=0.908  Acc(item/seq)=0.965 0.441  feature_norm=120.59\n",
            "Iter 172 time=3.46  loss=16951.98 active=133938 precision=0.928  recall=0.892  F1=0.907  Acc(item/seq)=0.964 0.440  feature_norm=120.61\n",
            "Iter 173 time=3.37  loss=16951.31 active=133872 precision=0.928  recall=0.892  F1=0.907  Acc(item/seq)=0.965 0.441  feature_norm=120.61\n",
            "Iter 174 time=4.88  loss=16950.60 active=133843 precision=0.928  recall=0.892  F1=0.907  Acc(item/seq)=0.964 0.439  feature_norm=120.62\n",
            "Iter 175 time=3.77  loss=16949.95 active=133832 precision=0.928  recall=0.892  F1=0.907  Acc(item/seq)=0.965 0.442  feature_norm=120.62\n",
            "Iter 176 time=5.08  loss=16949.25 active=133771 precision=0.928  recall=0.892  F1=0.907  Acc(item/seq)=0.964 0.439  feature_norm=120.63\n",
            "Iter 177 time=4.50  loss=16948.69 active=133752 precision=0.928  recall=0.892  F1=0.907  Acc(item/seq)=0.965 0.443  feature_norm=120.63\n",
            "Iter 178 time=3.47  loss=16947.94 active=133733 precision=0.928  recall=0.892  F1=0.907  Acc(item/seq)=0.964 0.440  feature_norm=120.64\n",
            "Iter 179 time=3.39  loss=16947.39 active=133717 precision=0.928  recall=0.892  F1=0.908  Acc(item/seq)=0.965 0.443  feature_norm=120.65\n",
            "Iter 180 time=4.43  loss=16946.64 active=133669 precision=0.928  recall=0.892  F1=0.907  Acc(item/seq)=0.964 0.440  feature_norm=120.66\n",
            "Iter 181 time=3.94  loss=16946.11 active=133617 precision=0.928  recall=0.892  F1=0.907  Acc(item/seq)=0.964 0.443  feature_norm=120.66\n",
            "Iter 182 time=3.52  loss=16945.39 active=133554 precision=0.928  recall=0.892  F1=0.907  Acc(item/seq)=0.964 0.439  feature_norm=120.67\n",
            "Iter 183 time=3.48  loss=16944.83 active=133497 precision=0.928  recall=0.892  F1=0.908  Acc(item/seq)=0.964 0.443  feature_norm=120.67\n",
            "Iter 184 time=4.90  loss=16944.10 active=133450 precision=0.928  recall=0.892  F1=0.907  Acc(item/seq)=0.964 0.439  feature_norm=120.68\n",
            "Iter 185 time=3.45  loss=16943.59 active=133392 precision=0.929  recall=0.892  F1=0.908  Acc(item/seq)=0.964 0.443  feature_norm=120.69\n",
            "Iter 186 time=3.45  loss=16942.81 active=133363 precision=0.928  recall=0.892  F1=0.907  Acc(item/seq)=0.964 0.440  feature_norm=120.70\n",
            "Iter 187 time=3.76  loss=16942.27 active=133291 precision=0.929  recall=0.892  F1=0.907  Acc(item/seq)=0.964 0.443  feature_norm=120.70\n"
          ]
        }
      ],
      "source": [
        "crf = sklearn_crfsuite.CRF(\n",
        "    algorithm = 'lbfgs',\n",
        "    verbose='true',\n",
        "    c1 = 0.25,\n",
        "    c2 = 0.3,\n",
        "    max_iterations = 200,\n",
        "    all_possible_transitions=True\n",
        ")\n",
        "\n",
        "try:\n",
        "  crf.fit(Xtrain, ytrain, X_dev=X_val, y_dev=y_val)\n",
        "except AttributeError:\n",
        "    pass"
      ]
    },
    {
      "cell_type": "code",
      "execution_count": null,
      "metadata": {
        "colab": {
          "background_save": true
        },
        "id": "1EdmPuhu-m5z"
      },
      "outputs": [],
      "source": [
        "y_pred=crf.predict(X_val)\n"
      ]
    },
    {
      "cell_type": "code",
      "execution_count": null,
      "metadata": {
        "colab": {
          "background_save": true
        },
        "id": "lE_3qSvMBFoP",
        "outputId": "dda75d49-2e73-41cc-f6b7-1f36b9b964de"
      },
      "outputs": [
        {
          "data": {
            "text/plain": [
              "0.9642850221886324"
            ]
          },
          "execution_count": 51,
          "metadata": {},
          "output_type": "execute_result"
        }
      ],
      "source": [
        "metrics.flat_accuracy_score(y_val, y_pred)"
      ]
    },
    {
      "cell_type": "code",
      "execution_count": null,
      "metadata": {
        "colab": {
          "background_save": true
        },
        "id": "jJYRPlIHBVkt",
        "outputId": "bb3b12a6-7cb4-438f-b1a8-5a2d4db6f9a5"
      },
      "outputs": [
        {
          "data": {
            "text/plain": [
              "0.9128126453645274"
            ]
          },
          "execution_count": 52,
          "metadata": {},
          "output_type": "execute_result"
        }
      ],
      "source": [
        "metrics.flat_recall_score(y_val, y_pred,average='macro')\n"
      ]
    },
    {
      "cell_type": "code",
      "execution_count": null,
      "metadata": {
        "colab": {
          "background_save": true
        },
        "id": "EAtaI71lBg5b",
        "outputId": "8c100ed1-bc7d-435d-858c-108074cfa77d"
      },
      "outputs": [
        {
          "data": {
            "text/plain": [
              "0.9502900395095596"
            ]
          },
          "execution_count": 53,
          "metadata": {},
          "output_type": "execute_result"
        }
      ],
      "source": [
        "metrics.flat_precision_score(y_val, y_pred,average='macro')\n",
        "\n"
      ]
    },
    {
      "cell_type": "code",
      "execution_count": null,
      "metadata": {
        "colab": {
          "background_save": true
        },
        "id": "5NenHpiDiMXt"
      },
      "outputs": [],
      "source": [
        "with open('out_file.txt', 'w') as f:\n",
        "  for sentence in y_pred:\n",
        "    f.write(f\"{sentence}\\n\")\n"
      ]
    },
    {
      "cell_type": "code",
      "execution_count": null,
      "metadata": {
        "colab": {
          "background_save": true
        },
        "id": "HsRkPVHiDqvu"
      },
      "outputs": [],
      "source": [
        "train_tagged_words = [ tup for sent in val_set for tup in sent ]\n",
        "\n",
        "tags = {tag for word,tag in train_tagged_words}\n"
      ]
    },
    {
      "cell_type": "code",
      "execution_count": null,
      "metadata": {
        "colab": {
          "background_save": true
        },
        "id": "RR3iFmMwETr0"
      },
      "outputs": [],
      "source": [
        "from sklearn_crfsuite.utils import flatten\n",
        "from functools import wraps\n",
        "\n",
        "def _flattens_y(func):\n",
        "    @wraps(func)\n",
        "    def wrapper(y_true, y_pred, *args, **kwargs):\n",
        "        y_true_flat = flatten(y_true)\n",
        "        y_pred_flat = flatten(y_pred)\n",
        "        return func(y_true_flat, y_pred_flat, *args, **kwargs)\n",
        "    return wrapper"
      ]
    },
    {
      "cell_type": "code",
      "execution_count": null,
      "metadata": {
        "colab": {
          "background_save": true
        },
        "id": "BWxeWapnNq_1",
        "outputId": "50dea85e-e936-45ff-acf3-1993228a1bff"
      },
      "outputs": [
        {
          "data": {
            "text/plain": [
              "str"
            ]
          },
          "execution_count": 56,
          "metadata": {},
          "output_type": "execute_result"
        }
      ],
      "source": [
        "type(y_pred[0][0])"
      ]
    },
    {
      "cell_type": "code",
      "source": [
        "cm"
      ],
      "metadata": {
        "colab": {
          "base_uri": "https://localhost:8080/"
        },
        "id": "QmTJ3hD2DvCl",
        "outputId": "b7e9dec1-fe0b-4242-88c5-618f65d71686"
      },
      "execution_count": null,
      "outputs": [
        {
          "output_type": "execute_result",
          "data": {
            "text/plain": [
              "array([[3967,   12,    0, ...,    0,    0,    0],\n",
              "       [   6, 5567,   32, ...,    5,    0,    0],\n",
              "       [   0,   26,  662, ...,    0,    0,    0],\n",
              "       ...,\n",
              "       [   0,   11,    0, ...,  835,    0,    0],\n",
              "       [   0,    0,    0, ...,    0,  125,    0],\n",
              "       [   0,    0,    0, ...,    0,    0,  680]])"
            ]
          },
          "metadata": {},
          "execution_count": 77
        }
      ]
    },
    {
      "cell_type": "code",
      "source": [
        "y_true_flat = flatten(y_val)\n",
        "y_pred_flat = flatten(y_pred)\n",
        "cm = confusion_matrix(y_true_flat, y_pred_flat,labels=list(tags))"
      ],
      "metadata": {
        "id": "GKJ_KXetIqbl"
      },
      "execution_count": null,
      "outputs": []
    },
    {
      "cell_type": "code",
      "source": [
        "fig, ax = plt.subplots(figsize=(20, 20))\n",
        "df_cm = pd.DataFrame(cm, list(tags),list(tags))\n",
        "ax = sn.heatmap(df_cm, annot=True,ax=ax, cmap='Blues',fmt='g')\n",
        "# ax.set_ylim(0, 21) \n",
        "plt.xlabel(\"Predicted\") \n",
        "plt.ylabel(\"Actual\") \n",
        "ax.invert_yaxis() \n",
        "plt.show()"
      ],
      "metadata": {
        "colab": {
          "base_uri": "https://localhost:8080/",
          "height": 938
        },
        "id": "HYV_JIAXFY5U",
        "outputId": "b7791d33-a6fc-41c7-e3fa-69dbc64fd106"
      },
      "execution_count": null,
      "outputs": [
        {
          "output_type": "display_data",
          "data": {
            "text/plain": [
              "<Figure size 2000x2000 with 2 Axes>"
            ],
            "image/png": "[encoded data removed]"
          },
          "metadata": {}
        }
      ]
    },
    {
      "cell_type": "code",
      "execution_count": null,
      "metadata": {
        "colab": {
          "base_uri": "https://localhost:8080/"
        },
        "id": "5FYP3M0SPT0v",
        "outputId": "021adf1b-8bf2-4eed-eb66-a820613c520f"
      },
      "outputs": [
        {
          "output_type": "execute_result",
          "data": {
            "text/plain": [
              "['./pos_crf_model']"
            ]
          },
          "metadata": {},
          "execution_count": 99
        }
      ],
      "source": [
        "import joblib\n",
        "import os\n",
        "\n",
        "OUTPUT_PATH = \"./\"\n",
        "OUTPUT_FILE = \"pos_crf_model\"\n",
        "\n",
        "if not os.path.exists(OUTPUT_PATH):\n",
        "    os.mkdir(OUTPUT_PATH)\n",
        "\n",
        "joblib.dump(crf, os.path.join(OUTPUT_PATH, OUTPUT_FILE))"
      ]
    },
    {
      "cell_type": "code",
      "execution_count": null,
      "metadata": {
        "colab": {
          "background_save": true
        },
        "id": "TH0VKsNXh109"
      },
      "outputs": [],
      "source": [
        "# create pos for next question"
      ]
    },
    {
      "cell_type": "code",
      "execution_count": null,
      "metadata": {
        "colab": {
          "background_save": true
        },
        "id": "fVPqODVYm1ri"
      },
      "outputs": [],
      "source": [
        "def load_test_dataset(X_file):\n",
        "  '''laod data set and crete list of tuples (word,tag) '''\n",
        "  X=[]\n",
        "  with open(X_file) as f:\n",
        "    # X_train=f.read().splitlines()\n",
        "    for line in f:\n",
        "      X.append(word_tokenize(line))\n",
        "\n",
        "  # y=[]\n",
        "  # with open(y_file) as f:\n",
        "  #   for line in f:\n",
        "  #     y.append(eval(line))\n",
        "\n",
        "\n",
        "  dataset= [[(x,y) for x,y in zip(sublist1, sublist2)] \\\n",
        "                  for sublist1, sublist2 in zip(X, X)]\n",
        "  return dataset"
      ]
    },
    {
      "cell_type": "code",
      "execution_count": null,
      "metadata": {
        "colab": {
          "background_save": true
        },
        "id": "FqaR-PDUiyR7"
      },
      "outputs": [],
      "source": [
        "train_set_ner=load_test_dataset(\"NERtr_in.txt\")\n",
        "val_set_ner=load_test_dataset(\"NERvalid_in.txt\")\n",
        "test_set_ner=load_test_dataset(\"NERtest_in.txt\")\n"
      ]
    },
    {
      "cell_type": "code",
      "execution_count": null,
      "metadata": {
        "id": "NRJBbGy3i30N"
      },
      "outputs": [],
      "source": [
        "Xtrain_ner = [sent2features(s) for s in train_set_ner]\n",
        "ytrain_ner = crf.predict(Xtrain_ner)\n",
        "\n",
        "with open('pos_tag_train_ner.txt', 'w') as f:\n",
        "  for sentence in ytrain_ner:\n",
        "    f.write(f\"{sentence}\\n\")"
      ]
    },
    {
      "cell_type": "code",
      "execution_count": null,
      "metadata": {
        "id": "rLoeQdaDjGO1"
      },
      "outputs": [],
      "source": [
        "X_val_ner = [sent2features(s) for s in val_set_ner]\n",
        "y_val_ner = crf.predict(X_val_ner)\n",
        "with open('pos_tag_val_ner.txt', 'w') as f:\n",
        "  for sentence in y_val_ner:\n",
        "    f.write(f\"{sentence}\\n\")\n",
        "    "
      ]
    },
    {
      "cell_type": "code",
      "execution_count": null,
      "metadata": {
        "colab": {
          "background_save": true
        },
        "id": "uW_1eU8IjMmb"
      },
      "outputs": [],
      "source": [
        "X_test_ner = [sent2features(s) for s in test_set_ner]\n",
        "y_test_ner = crf.predict(X_test_ner)\n",
        "with open('pos_tag_test_ner.txt', 'w') as f:\n",
        "  for sentence in y_test_ner:\n",
        "    f.write(f\"{sentence}\\n\")\n"
      ]
    },
    {
      "cell_type": "code",
      "source": [],
      "metadata": {
        "id": "0uq8Nz1BNqJ6"
      },
      "execution_count": null,
      "outputs": []
    },
    {
      "cell_type": "markdown",
      "source": [
        "# pos embedding\n",
        "One way to obtain sentence embeddings is by taking the average or maximum of the word embeddings within the sentence as described in towardsdatascience.com. We can use POS tagging to extract the relevant words from each sentence and then calculate the average or maximum of their corresponding word embeddings.\n"
      ],
      "metadata": {
        "id": "oS4qXG00NxAw"
      }
    },
    {
      "cell_type": "code",
      "source": [
        "import nltk\n",
        "from nltk.tokenize import word_tokenize\n",
        "from nltk import pos_tag\n",
        "from nltk.corpus import stopwords\n",
        "from gensim.models import Word2Vec"
      ],
      "metadata": {
        "id": "OR5M5bWtQ1gl"
      },
      "execution_count": null,
      "outputs": []
    },
    {
      "cell_type": "code",
      "source": [
        "nltk.download('stopwords')"
      ],
      "metadata": {
        "colab": {
          "base_uri": "https://localhost:8080/"
        },
        "id": "tfMKtDOVYGYo",
        "outputId": "1baf9f4a-6b8d-4d4b-a960-f1439ad3f35f"
      },
      "execution_count": null,
      "outputs": [
        {
          "output_type": "stream",
          "name": "stderr",
          "text": [
            "[nltk_data] Downloading package stopwords to /root/nltk_data...\n",
            "[nltk_data]   Unzipping corpora/stopwords.zip.\n"
          ]
        },
        {
          "output_type": "execute_result",
          "data": {
            "text/plain": [
              "True"
            ]
          },
          "metadata": {},
          "execution_count": 117
        }
      ]
    },
    {
      "cell_type": "code",
      "source": [
        "y_pred=crf.predict([\"The quick brown fox jumps over the lazy dog\"])[0]"
      ],
      "metadata": {
        "id": "7nh_batbYN3T"
      },
      "execution_count": null,
      "outputs": []
    },
    {
      "cell_type": "markdown",
      "source": [],
      "metadata": {
        "id": "d7imEaIFgXwN"
      }
    },
    {
      "cell_type": "code",
      "source": [],
      "metadata": {
        "id": "QvKbLfi7gCyl"
      },
      "execution_count": null,
      "outputs": []
    },
    {
      "cell_type": "code",
      "source": [
        "tokens = word_tokenize(text.lower())\n",
        "# pos_tags = pos_tag(tokens)\n",
        "pos_tag"
      ],
      "metadata": {
        "colab": {
          "base_uri": "https://localhost:8080/"
        },
        "id": "93uMUYA4Zeos",
        "outputId": "b4cf54a0-02c3-4a19-a9d6-e274d23c5496"
      },
      "execution_count": null,
      "outputs": [
        {
          "output_type": "execute_result",
          "data": {
            "text/plain": [
              "<function nltk.tag.pos_tag(tokens, tagset=None, lang='eng')>"
            ]
          },
          "metadata": {},
          "execution_count": 125
        }
      ]
    },
    {
      "cell_type": "code",
      "source": [
        "pos_tag=[(x,y) for x,y in zip( tokens,y_pred)]\n",
        "[word for word, tag in pos_tag  if tag.startswith('N') or tag.startswith('V') or tag.startswith('J')]\n"
      ],
      "metadata": {
        "colab": {
          "base_uri": "https://localhost:8080/"
        },
        "id": "2XbBdBxvZ-ma",
        "outputId": "aec56c3b-bb0b-4d50-f294-7c4c1ba057c8"
      },
      "execution_count": null,
      "outputs": [
        {
          "output_type": "execute_result",
          "data": {
            "text/plain": [
              "['quick', 'jumps', 'lazy']"
            ]
          },
          "metadata": {},
          "execution_count": 154
        }
      ]
    },
    {
      "cell_type": "code",
      "source": [],
      "metadata": {
        "colab": {
          "base_uri": "https://localhost:8080/"
        },
        "id": "-gwssikBhMJV",
        "outputId": "0583cd90-382c-41de-da6b-c14714741619"
      },
      "execution_count": null,
      "outputs": [
        {
          "output_type": "execute_result",
          "data": {
            "text/plain": [
              "True"
            ]
          },
          "metadata": {},
          "execution_count": 139
        }
      ]
    },
    {
      "cell_type": "code",
      "source": [
        "def preprocess_text(text):\n",
        "    # Tokenize the text\n",
        "    tokens = word_tokenize(text.lower())\n",
        "    \n",
        "    \n",
        "    \n",
        "    # POS tags list of (word, tag)\n",
        "    pos_tags = [(x,y) for x,y in zip(tokens,crf.predict([text])[0])]\n",
        "\n",
        "    pos_words = [word for word, tag in pos_tags if tag.startswith('N') or tag.startswith('V') or tag.startswith('J')]\n",
        "    # Filter out stop words from outputs\n",
        "    stop_words = set(stopwords.words('english'))\n",
        "    pos_words = [word for word in pos_words if word not in stop_words and word.isalpha()]\n",
        "    \n",
        "    return pos_words"
      ],
      "metadata": {
        "id": "9BbhJxIDXwh5"
      },
      "execution_count": null,
      "outputs": []
    },
    {
      "cell_type": "code",
      "source": [],
      "metadata": {
        "id": "lNz0O5UUhepy"
      },
      "execution_count": null,
      "outputs": []
    },
    {
      "cell_type": "code",
      "source": [
        "preprocess_text('The quick brown fox jumps over  the lazy dog')"
      ],
      "metadata": {
        "colab": {
          "base_uri": "https://localhost:8080/"
        },
        "id": "QRYtD0uRg73a",
        "outputId": "37f85cba-6eb9-4f5e-b4c8-c479de4e6c90"
      },
      "execution_count": null,
      "outputs": [
        {
          "output_type": "execute_result",
          "data": {
            "text/plain": [
              "['quick', 'jumps', 'lazy']"
            ]
          },
          "metadata": {},
          "execution_count": 171
        }
      ]
    },
    {
      "cell_type": "code",
      "source": [
        "def sentence_embedding(text):\n",
        "    # Preprocess the text and extract the relevant words\n",
        "    pos_words = preprocess_text(text)\n",
        "    \n",
        "    # Train a Word2Vec model on the relevant words\n",
        "    model = Word2Vec([pos_words], min_count=1)\n",
        "    \n",
        "    # Calculate the word embeddings for the relevant words\n",
        "    word_embeddings = [model.wv[word] for word in pos_words]\n",
        "    \n",
        "    # Calculate the sentence embedding as the average of the word embeddings\n",
        "    sentence_embedding = sum(word_embeddings) / float(len(word_embeddings))\n",
        "    \n",
        "    return sentence_embedding"
      ],
      "metadata": {
        "id": "wewKX9NRX1Sh"
      },
      "execution_count": null,
      "outputs": []
    },
    {
      "cell_type": "code",
      "source": [
        "text = \"The quick brown fox jumps over the lazy dog\"\n",
        "embedding = sentence_embedding(text)\n",
        "print(embedding)\n"
      ],
      "metadata": {
        "colab": {
          "base_uri": "https://localhost:8080/"
        },
        "id": "xskW242bX6L5",
        "outputId": "d2e6b715-7046-4c13-def4-e85fb8e33e8c"
      },
      "execution_count": null,
      "outputs": [
        {
          "output_type": "stream",
          "name": "stdout",
          "text": [
            "[-3.0204505e-03  2.3264962e-03  1.1601960e-03  4.4585820e-03\n",
            "  1.9441830e-03 -1.9793583e-03  1.2970631e-03  5.8876574e-03\n",
            " -5.3908695e-03 -1.2438027e-03  7.7765313e-04 -4.3555088e-03\n",
            " -2.7508973e-04  4.8439917e-03  1.9943607e-03 -2.2147025e-04\n",
            "  4.9457778e-03  6.1484794e-03 -6.8439203e-03 -5.0487719e-03\n",
            "  8.6510181e-04 -1.4371405e-03  3.7892871e-03 -5.8771656e-03\n",
            "  7.0237126e-03 -1.7782957e-03  8.4812683e-04  5.1431102e-03\n",
            " -5.2704127e-03  2.2443840e-03  2.6411389e-03 -4.2396737e-03\n",
            "  5.1102042e-04 -5.1633450e-03 -2.3695573e-03 -2.4422887e-04\n",
            "  4.8550270e-03  1.1566281e-03  3.6751798e-03  1.2127539e-03\n",
            " -2.4331801e-03 -8.3948486e-05 -6.2709409e-03  6.8203761e-04\n",
            "  2.7954980e-04  4.0425356e-03 -9.6119940e-05  1.7897417e-03\n",
            "  7.0873619e-04  3.3303697e-03  3.6556055e-04 -2.5534655e-03\n",
            " -3.8054634e-03 -1.1705247e-03 -5.2071299e-04 -6.7185797e-04\n",
            "  3.8936196e-03 -1.5247749e-03 -3.5735935e-03  4.4638631e-03\n",
            " -1.9409428e-03 -7.0188398e-05 -1.3348398e-04 -3.7458830e-03\n",
            " -1.7202366e-03  5.7579777e-03  4.8375665e-03  1.7534791e-03\n",
            " -7.1948726e-04  4.9027465e-03  1.9183625e-03  1.5952270e-03\n",
            "  2.7465429e-03 -2.5287768e-04  1.3761332e-04  7.3859142e-04\n",
            "  3.3227212e-03  1.6075336e-04 -1.1071842e-04 -4.1370397e-03\n",
            " -3.0025996e-03 -6.0167396e-04  6.8732089e-04  1.3102575e-04\n",
            " -1.0857586e-03 -1.9864792e-03  4.6266444e-04 -7.3425448e-03\n",
            "  2.6377868e-03  7.2294025e-04 -5.9675885e-04  1.4384659e-03\n",
            "  4.9501085e-03 -3.9212233e-03  4.9554412e-03  4.3664123e-03\n",
            "  7.6947146e-04 -2.9734951e-03 -1.3185141e-04  1.2931240e-03]\n"
          ]
        }
      ]
    }
  ],
  "metadata": {
    "colab": {
      "provenance": []
    },
    "kernelspec": {
      "display_name": "Python 3",
      "name": "python3"
    },
    "language_info": {
      "name": "python"
    }
  },
  "nbformat": 4,
  "nbformat_minor": 0
}